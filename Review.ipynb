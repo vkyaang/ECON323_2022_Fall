{
 "cells": [
  {
   "cell_type": "markdown",
   "id": "50013093",
   "metadata": {},
   "source": [
    "# December 6th, 2022 In-Class Review\n",
    "\n",
    "- Review material in order learned\n",
    "- Summarize most of what was learned in each section then focus on material that is relatively important or potentially confusing\n",
    "- Not necessarily reflective of what will be covered on the final exam\n",
    "- There may be errors. Email me if you see any!\n",
    "- Borrowed lots of code and some words from QuantEcon Lecture Notes. Attempted to cite heavily-borrowed text using $\\dagger$."
   ]
  },
  {
   "cell_type": "code",
   "execution_count": 337,
   "id": "4c64d777",
   "metadata": {},
   "outputs": [],
   "source": [
    "# Packages used\n",
    "import random as random\n",
    "import numpy as np\n",
    "import math\n",
    "import matplotlib.pyplot as plt\n",
    "import scipy.stats as st\n",
    "import scipy.optimize as opt\n",
    "import pandas as pd\n",
    "from sklearn import (\n",
    "    linear_model, metrics, neural_network, pipeline, model_selection\n",
    ")\n",
    "import inspect\n",
    "import networkx as nx\n",
    "random.seed(10)"
   ]
  },
  {
   "cell_type": "markdown",
   "id": "511cd54c",
   "metadata": {},
   "source": [
    "# Python Fundamentals\n"
   ]
  },
  {
   "cell_type": "markdown",
   "id": "ec4f0880",
   "metadata": {},
   "source": [
    "## Basics - Summary\n",
    "In this chapter, we learned\n",
    "- Variable Assignment\n",
    "- Functions\n",
    "- What Objects Are\n",
    "- Data types\n",
    "- Modules\n",
    "- Good Coding Habits\n",
    "- Common operations and methods for three groups of data types:\n",
    "    - Numbers\n",
    "    - Strings\n",
    "    - Booleans"
   ]
  },
  {
   "cell_type": "markdown",
   "id": "1abc9627",
   "metadata": {},
   "source": [
    "### Function Calls vs. Function Objects\n",
    "Functions such as `print` can be called and are themselves objects we can reference. This sometimes caused confusion. Here I make a toy function that takes the function `print` as an input to print the second input, `p_str`, twice"
   ]
  },
  {
   "cell_type": "code",
   "execution_count": 338,
   "id": "197fb59f",
   "metadata": {},
   "outputs": [],
   "source": [
    "def doubleprint(print_func, p_str):\n",
    "    print_func(p_str)\n",
    "    print_func(p_str)"
   ]
  },
  {
   "cell_type": "code",
   "execution_count": 339,
   "id": "20e4d912",
   "metadata": {
    "scrolled": true
   },
   "outputs": [
    {
     "name": "stdout",
     "output_type": "stream",
     "text": [
      "Hello World\n",
      "Hello World\n"
     ]
    }
   ],
   "source": [
    "doubleprint(print, \"Hello World\")"
   ]
  },
  {
   "cell_type": "markdown",
   "id": "7d24fab5",
   "metadata": {},
   "source": [
    "Since print does not return a function (in fact it returns nothing), we cannot do either of the following. "
   ]
  },
  {
   "cell_type": "code",
   "execution_count": 340,
   "id": "e5f2ffea",
   "metadata": {
    "scrolled": true
   },
   "outputs": [
    {
     "name": "stdout",
     "output_type": "stream",
     "text": [
      "\n",
      "first argument needs to be a function\n"
     ]
    }
   ],
   "source": [
    "try:\n",
    "    doubleprint(print(), \"Hello World\") # wrong\n",
    "    doubleprint(print(\"Hello World\"), \"Hello World\") # wrong\n",
    "except:\n",
    "    print(\"first argument needs to be a function\")"
   ]
  },
  {
   "cell_type": "markdown",
   "id": "6652370c",
   "metadata": {},
   "source": [
    "We can, however, use function calls as an input ot another function, if the function were calling outputs a variable of the right type. "
   ]
  },
  {
   "cell_type": "code",
   "execution_count": 341,
   "id": "335288ea",
   "metadata": {},
   "outputs": [],
   "source": [
    "def addtwo(num):\n",
    "    return 2 + num"
   ]
  },
  {
   "cell_type": "code",
   "execution_count": 342,
   "id": "267b65b9",
   "metadata": {
    "scrolled": false
   },
   "outputs": [
    {
     "data": {
      "text/plain": [
       "6"
      ]
     },
     "execution_count": 342,
     "metadata": {},
     "output_type": "execute_result"
    }
   ],
   "source": [
    "addtwo(random.randint(0,4)) # note I am calling randint to be an input of addtwo within the addtwo function call"
   ]
  },
  {
   "cell_type": "markdown",
   "id": "fc22e370",
   "metadata": {},
   "source": [
    "### Function Help\n",
    "Use `?` to get information about function such as its its arguments, a description of what it does, etc. Feature is more useful when function creator has provided more detailed information. "
   ]
  },
  {
   "cell_type": "code",
   "execution_count": 343,
   "id": "4e67c336",
   "metadata": {},
   "outputs": [],
   "source": [
    "# Notice how much information is provided\n",
    "print?"
   ]
  },
  {
   "cell_type": "code",
   "execution_count": 344,
   "id": "8183c23b",
   "metadata": {},
   "outputs": [],
   "source": [
    "# Notice how little information is provided because I didn't specify anything when defining doubleprint\n",
    "doubleprint?"
   ]
  },
  {
   "cell_type": "markdown",
   "id": "0f0c2053",
   "metadata": {},
   "source": [
    "### Methods and Data Names\n",
    "Objects of certain types will have different data names and methods associated with them. Methods are functions that operate on a certain class of objects."
   ]
  },
  {
   "cell_type": "code",
   "execution_count": 345,
   "id": "b0b803ed",
   "metadata": {},
   "outputs": [
    {
     "data": {
      "text/plain": [
       "(3,)"
      ]
     },
     "execution_count": 345,
     "metadata": {},
     "output_type": "execute_result"
    }
   ],
   "source": [
    "a = np.ones((3)) # 3x1 array\n",
    "a.shape # shape is a data name associated with all numpy arrays"
   ]
  },
  {
   "cell_type": "markdown",
   "id": "a9e35499",
   "metadata": {},
   "source": [
    "Below we have a method (sum) associated with an a object of a certain type (the numpy.ndarray) that is called on that object using dot notation"
   ]
  },
  {
   "cell_type": "code",
   "execution_count": 346,
   "id": "39335cec",
   "metadata": {},
   "outputs": [
    {
     "data": {
      "text/plain": [
       "3.0"
      ]
     },
     "execution_count": 346,
     "metadata": {},
     "output_type": "execute_result"
    }
   ],
   "source": [
    "a.sum # Uncalled method\n",
    "a.sum() # Called Method"
   ]
  },
  {
   "cell_type": "code",
   "execution_count": 347,
   "id": "e1006e8e",
   "metadata": {},
   "outputs": [
    {
     "data": {
      "text/plain": [
       "3.0"
      ]
     },
     "execution_count": 347,
     "metadata": {},
     "output_type": "execute_result"
    }
   ],
   "source": [
    "asum = a.sum # like a function, we can assign this method to a variable\n",
    "asum() # then call it"
   ]
  },
  {
   "cell_type": "code",
   "execution_count": 348,
   "id": "e16fb562",
   "metadata": {
    "scrolled": true
   },
   "outputs": [
    {
     "name": "stdout",
     "output_type": "stream",
     "text": [
      "True\n",
      "False\n",
      "methods will not always work on arrays of the same type if their contents differ\n"
     ]
    }
   ],
   "source": [
    "b = np.array([\"hi\"])\n",
    "try:\n",
    "    b.sum()\n",
    "except:\n",
    "    print(type(b) == type(a))\n",
    "    print(a.dtype == b.dtype)\n",
    "    print(\"methods will not always work on arrays of the same type if their contents differ\")\n",
    "    "
   ]
  },
  {
   "cell_type": "markdown",
   "id": "697a53d8",
   "metadata": {},
   "source": [
    "### Operators and Types\n",
    "Operators, like functions, also care about types. "
   ]
  },
  {
   "cell_type": "code",
   "execution_count": 349,
   "id": "826231b2",
   "metadata": {
    "scrolled": true
   },
   "outputs": [
    {
     "name": "stdout",
     "output_type": "stream",
     "text": [
      "6\n",
      "hihi\n"
     ]
    }
   ],
   "source": [
    "print(3 + 3) \n",
    "print(\"hi\" + \"hi\") # the '+' operator works on strings and numbers"
   ]
  },
  {
   "cell_type": "code",
   "execution_count": 350,
   "id": "8aed1adb",
   "metadata": {},
   "outputs": [
    {
     "name": "stdout",
     "output_type": "stream",
     "text": [
      "the power operator, however, does not work on strings.\n"
     ]
    }
   ],
   "source": [
    "3 ** 3\n",
    "try:\n",
    "    \"hi\" ** \"hi\"\n",
    "except:\n",
    "    print(\"the power operator, however, does not work on strings.\")"
   ]
  },
  {
   "cell_type": "markdown",
   "id": "c235948f",
   "metadata": {},
   "source": [
    "### Boolean Variables\n",
    "Booleans are incredibly important as they allow for code to do different things when different conditions are met. We use them in\n",
    " - If/else statements\n",
    " - While loops\n",
    " - Selection of elements in arrays that meet certain conditions\n",
    " \n",
    "It is important to understand boolean logic."
   ]
  },
  {
   "cell_type": "code",
   "execution_count": 351,
   "id": "7fb3da43",
   "metadata": {},
   "outputs": [
    {
     "name": "stdout",
     "output_type": "stream",
     "text": [
      "True and False is: False\n",
      "True or False is: True\n",
      "True\n",
      "False\n"
     ]
    }
   ],
   "source": [
    "print(\"True and False is:\", True and False)\n",
    "print(\"True or False is:\", True or False)\n",
    "\n",
    "# Parentheses can matter\n",
    "print((True or False and False))\n",
    "print((True or False) and False)"
   ]
  },
  {
   "cell_type": "markdown",
   "id": "b1c95a12",
   "metadata": {},
   "source": [
    "Logical operators, much like arithmetic operators, have a corresponding order of operations \n",
    "1. Not\n",
    "2. And\n",
    "3. Or\n"
   ]
  },
  {
   "cell_type": "markdown",
   "id": "aa40d41c",
   "metadata": {},
   "source": [
    "## Collections -- Summary\n",
    "In this chapter, we learned:\n",
    "   - Ordered Collections (lists, tuples, and associated functions/methods)\n",
    "   - Associative collections (dictionaries)\n",
    "   - Sets\n",
    "    \n"
   ]
  },
  {
   "cell_type": "markdown",
   "id": "519b5607",
   "metadata": {},
   "source": [
    "### Lists vs. Tuples\n",
    "Both lists and tuples are ordered collections, but they have two key differences:\n",
    " - Tuples declared via parentheses `(1, 2, 3)`. Lists declared via brackets `[1,2,3]`\n",
    " - Tuples are immutable. Lists can be altered.\n",
    "\n",
    "Whether or not you want to change elements of the collection after declaration should be the main determinant when choosing which one to use."
   ]
  },
  {
   "cell_type": "markdown",
   "id": "825e5b04",
   "metadata": {},
   "source": [
    "### Collection Nesting\n",
    "Below, we nested a list within a list, a tuple within a tuple, and a dictionary withing a dictionary. You can also nest one type of collection within another."
   ]
  },
  {
   "cell_type": "code",
   "execution_count": 352,
   "id": "f6964dff",
   "metadata": {},
   "outputs": [
    {
     "name": "stdout",
     "output_type": "stream",
     "text": [
      "Set of sets doesn't work without making the inner sets immutable. Outer sets are still mutable.\n"
     ]
    }
   ],
   "source": [
    "nest_list = [[1,2], [\"Hello\", \"World\"]]  # list of lists\n",
    "nest_tuple = ((1,2), (\"Hello\", \"World\")) # Tuple of tuples\n",
    "nest_dict = {\"numbers\": {\"one\": 1,       # Dictionary of Dictionaries\n",
    "                         \"two\": 2},\n",
    "             \"strings\": {\"H\": \"Hello\",\n",
    "                         \"W\": \"World\"}\n",
    "            }\n",
    "\n",
    "list_of_dict = [{\"one\": 1,               # List of Dictionaries\n",
    "                \"two\": 2},\n",
    "               {\"H\": \"Hello\",\n",
    "                \"W\": \"World\"}]\n",
    "\n",
    "\n",
    "try: # sets of sets\n",
    "    set_of_sets = {{\"ten\", 4.3}, {print}}  \n",
    "except:\n",
    "    print(\"Set of sets doesn't work without making the inner sets immutable. Outer sets are still mutable.\")\n",
    "    \n",
    "set_of_sets = {frozenset((\"ten\", 4.3)), frozenset(\"ten\")}"
   ]
  },
  {
   "cell_type": "markdown",
   "id": "cf09950e",
   "metadata": {},
   "source": [
    "Accessing elements in nested collections can be done by using sequences of bracket indices"
   ]
  },
  {
   "cell_type": "code",
   "execution_count": 353,
   "id": "09ad5972",
   "metadata": {},
   "outputs": [
    {
     "data": {
      "text/plain": [
       "3"
      ]
     },
     "execution_count": 353,
     "metadata": {},
     "output_type": "execute_result"
    }
   ],
   "source": [
    "nest_list[0][0] + nest_tuple[0][1]  # Accessing elements and adding them"
   ]
  },
  {
   "cell_type": "markdown",
   "id": "2471c09c",
   "metadata": {},
   "source": [
    "### Sets Quiz\n",
    "What will the output of the below be? Why?"
   ]
  },
  {
   "cell_type": "code",
   "execution_count": 354,
   "id": "3495a305",
   "metadata": {
    "scrolled": true
   },
   "outputs": [
    {
     "name": "stdout",
     "output_type": "stream",
     "text": [
      "{'World', 'Hello'}\n"
     ]
    }
   ],
   "source": [
    "print({\"Hello\", \"Hello\", \"World\", \"World\"})"
   ]
  },
  {
   "cell_type": "markdown",
   "id": "e99f6833",
   "metadata": {},
   "source": [
    "## Control Flow -- Summary\n",
    "In this chapter, we learned:\n",
    "- How to use `if/elif/else` conditionals to selectively execute  blocks of code\n",
    "- What an iterable is\n",
    "- `for` and `while` loops and loop-specific keywords\n",
    "- Used all of this knowledge to calculate Net Present Value of assets"
   ]
  },
  {
   "cell_type": "markdown",
   "id": "f3a40987",
   "metadata": {},
   "source": [
    "### Control Flow Logic\n",
    "To make sure your code reflects the logic of the process you're implementing, it is important that \n",
    "\n",
    "- Your `if` statements and `while` loops use sound Boolean logic \n",
    "- You're initializing variables correctly before beginning the loop\n",
    "- Your within-loop logic, such as manual iteration of a variable or logging of a variable at a given iteration, is correct given your needs. \n",
    "\n",
    "\n"
   ]
  },
  {
   "cell_type": "markdown",
   "id": "c243d62c",
   "metadata": {},
   "source": [
    "### Iterables\n",
    "Iterables are any object capable of producing one item at a time.\n",
    "- Lists\n",
    "- Tuples\n",
    "- Dictionaries,\n",
    "- Range, Zip, and Enumerate objects"
   ]
  },
  {
   "cell_type": "markdown",
   "id": "0abba3e3",
   "metadata": {},
   "source": [
    "### For Loops vs. While Loops\n",
    " - For loops allow you to iterate over an iterable and execute the code in the indented block for each element in that iterable \n",
    " - While loops repeat the  code in the indented block until some condition is met and generally require you to manually iterate variables within that chunk\n",
    " - For loops are generally better when you know you need to iterate through each element in an iterable once (calculating net present value over a fixed time period)\n",
    " - While loops are generally better when you do not know at what iteration the code should end (figuring out how many months an employee must stay to justify employer-sponsored Python training using the present value framework) "
   ]
  },
  {
   "cell_type": "markdown",
   "id": "74688436",
   "metadata": {},
   "source": [
    "## Fibonacci Example\n",
    "The Fibonacci Sequence is given as follows:\n",
    "$$\n",
    "X_0 = 0\n",
    "$$\n",
    "$$\n",
    "X_1 = 1\n",
    "$$\n",
    "$$\n",
    "\\hspace{3.66cm}X_t = X_{t-1} + X_{t-2} \\text{ for } t \\geq 2\n",
    "$$\n",
    "\n",
    "Below we have two functions, one that calculates $X_t$ for a given $t$ and one that returns the smallest $t$ such that $X_t \\geq n$. Given what we discussed, it makes sense to use a for loop for the former and a while loop for the latter."
   ]
  },
  {
   "cell_type": "code",
   "execution_count": 355,
   "id": "ec935348",
   "metadata": {},
   "outputs": [],
   "source": [
    "# Calculates Value of Fibonacci sequence\n",
    "def calc_fibo(t):\n",
    "    if t == 0:\n",
    "        return 0\n",
    "    if t == 1:\n",
    "        return 1\n",
    "    xt = 1\n",
    "    xtm1 = 0\n",
    "    for i in range(t-1):\n",
    "        nv = xt+xtm1\n",
    "        xtm1 = xt\n",
    "        xt = nv\n",
    "    return xt\n",
    "\n",
    "# Tells us the first iteration (t) where the Fibonacci sequence is larger than or equal to a given number\n",
    "def fibo_first(n):\n",
    "    if n == 0:\n",
    "        return 0\n",
    "    if n == 1:\n",
    "        return 1\n",
    "    xt = 1\n",
    "    xtm1 = 0\n",
    "    t = 1\n",
    "    while xt < n:\n",
    "        nv = xt+xtm1\n",
    "        xtm1 = xt\n",
    "        xt = nv\n",
    "        t += 1 \n",
    "    return t"
   ]
  },
  {
   "cell_type": "code",
   "execution_count": 356,
   "id": "c82c34b9",
   "metadata": {
    "scrolled": true
   },
   "outputs": [
    {
     "name": "stdout",
     "output_type": "stream",
     "text": [
      "2178309\n",
      "12\n"
     ]
    }
   ],
   "source": [
    "# call functions to test\n",
    "print(calc_fibo(32))\n",
    "print(fibo_first(143))  "
   ]
  },
  {
   "cell_type": "markdown",
   "id": "0c37ee64",
   "metadata": {},
   "source": [
    "## Application Net Present Value\n",
    "We've done a lot of this, but many struggled with the following question from Problem Set 3:\n"
   ]
  },
  {
   "cell_type": "markdown",
   "id": "78ba65a8",
   "metadata": {},
   "source": [
    "If you already knew that your discount rate would change annually according to the\n",
    "table below, at what price would you value the quarterly asset (from the main text) in January 2022?\n",
    "\n",
    "*Hint*: There are various ways to do this… One way might include a zipped loop for years and a\n",
    "second loop for months.\n",
    "\n",
    "*More Challenging*: Can you create the list of interest rates without calculating each year individually?\n",
    "\n",
    "|Year|Discount Rate|\n",
    "|:------------------------------------------------:|:------------------------------------------------:|\n",
    "|2022|0.005|\n",
    "|2023|0.0047|\n",
    "|2024|0.0044|\n",
    "|2025|0.0041|\n",
    "|2026|0.0038|\n",
    "|2027|0.0035|\n",
    "|2028|0.0032|\n",
    "|2029|0.0029|\n",
    "|2030|0.0026|\n",
    "|2031|0.0023|\n"
   ]
  },
  {
   "cell_type": "markdown",
   "id": "8975d7c4",
   "metadata": {},
   "source": [
    "Here is my solution to the problem. Some things to note:\n",
    "- I loop through quarters and use the year variable to keep track of which interest rate I should be using. \n",
    "- My discount factor `df` is initialized to 1 because I use it to keep a running value of my discount factor which allows me to easily account for the fact that different years have different discount factors.\n",
    "- Notice how important it is that I increment year at the end of the code and not at the beginning. What are the minimal changes I would have to make in order to move my year incrementation logic to the beginning of the indented block?"
   ]
  },
  {
   "cell_type": "code",
   "execution_count": 357,
   "id": "6ab3f5bc",
   "metadata": {},
   "outputs": [
    {
     "name": "stdout",
     "output_type": "stream",
     "text": [
      "15643.638512873144\n"
     ]
    }
   ],
   "source": [
    "df = 1\n",
    "pdv = 0\n",
    "rs = [round(.005 - .0003 * float(x),16) for x in range(10)]\n",
    "year = 0\n",
    "for t in range(1,41):\n",
    "    r = rs[year]\n",
    "    df = df * ((1/(1+r)) ** 3)\n",
    "    pdv += 500 * df\n",
    "    if (t % 4) == 0:\n",
    "        year +=1\n",
    "print(pdv)\n"
   ]
  },
  {
   "cell_type": "markdown",
   "id": "70b1d6db",
   "metadata": {},
   "source": [
    "### List Comprehensions\n",
    "When you need to create a list of values that are generated from a simple algorithmic procedure, try using list comprehensions instead of loops, especially if the size of the vector will be large."
   ]
  },
  {
   "cell_type": "code",
   "execution_count": 358,
   "id": "47ea11ec",
   "metadata": {},
   "outputs": [],
   "source": [
    "[math.sin(x) for x in np.linspace(-2*math.pi, 2* math.pi, num = 1000 )];"
   ]
  },
  {
   "cell_type": "markdown",
   "id": "621d8a03",
   "metadata": {},
   "source": [
    "## Functions -- Summary\n",
    "In this chapter, we learned:\n",
    "- Economic production functions\n",
    "- How to define our own functions\n",
    "- How to write function documentation\n",
    "- When and why to use functions\n",
    "- Scoping\n",
    "\n"
   ]
  },
  {
   "cell_type": "markdown",
   "id": "66da64a8",
   "metadata": {},
   "source": [
    "### Why use functions?\n",
    "- Reusable\n",
    "- Superior to copy and pasting because \n",
    "    - If you want to make a change, you only need to make it once\n",
    "    - Results in less cluttered code\n",
    "- Can act as a descriptor of what a given chunk of code does (e.g. `doubleprint` and `addtwo`)\n",
    "- Easier to collaborate"
   ]
  },
  {
   "cell_type": "markdown",
   "id": "699a382c",
   "metadata": {},
   "source": [
    "### Scope \n",
    "Functions have their own variable scope, so variable declared within the function are not accesible outside of the function."
   ]
  },
  {
   "cell_type": "code",
   "execution_count": 359,
   "id": "41f6cb38",
   "metadata": {},
   "outputs": [],
   "source": [
    "def ab_print(a,b):\n",
    "    apb = a + b\n",
    "    print(apb)"
   ]
  },
  {
   "cell_type": "code",
   "execution_count": 360,
   "id": "d2ebc614",
   "metadata": {
    "scrolled": false
   },
   "outputs": [
    {
     "name": "stdout",
     "output_type": "stream",
     "text": [
      "Hello World\n"
     ]
    }
   ],
   "source": [
    "ab_print(\"Hello \", \"World\")"
   ]
  },
  {
   "cell_type": "code",
   "execution_count": 361,
   "id": "4c365274",
   "metadata": {},
   "outputs": [
    {
     "name": "stdout",
     "output_type": "stream",
     "text": [
      "Cannot find the variable apb because it was defined with in ab_print\n"
     ]
    }
   ],
   "source": [
    "try:\n",
    "    print(apb)\n",
    "except:\n",
    "    print(\"Cannot find the variable apb because it was defined with in ab_print\")"
   ]
  },
  {
   "cell_type": "markdown",
   "id": "41831ea8",
   "metadata": {},
   "source": [
    "Global Variables, however, are accesible to the function if that variable name is not declared within the function inputs."
   ]
  },
  {
   "cell_type": "code",
   "execution_count": 362,
   "id": "20ed5dc2",
   "metadata": {},
   "outputs": [],
   "source": [
    "a = \"Goodbye Cruel \"\n",
    "def ab_print_2(b):\n",
    "    apb = a + b\n",
    "    print(apb)\n",
    "def ab_print(a,b):\n",
    "    apb = a + b\n",
    "    print(apb)\n"
   ]
  },
  {
   "cell_type": "code",
   "execution_count": 363,
   "id": "1a61ffc4",
   "metadata": {
    "scrolled": false
   },
   "outputs": [
    {
     "name": "stdout",
     "output_type": "stream",
     "text": [
      "Goodbye Cruel World\n",
      "Hello World\n",
      "Goodbye Cruel \n"
     ]
    }
   ],
   "source": [
    "ab_print_2(\"World\")\n",
    "ab_print(\"Hello \", \"World\")\n",
    "print(a)"
   ]
  },
  {
   "cell_type": "markdown",
   "id": "9c06d0fd",
   "metadata": {},
   "source": [
    "- `ab_print_2` used `a = \"Goodbye Cruel \"` because `a` was not declared within `ab_print_2`\n",
    "-  `ab_print` used `a = \"Hello \"` because `a` was declared within `ab_print`'s arguments as \"Hello \"\n",
    "- Note how the global `a` remains unchanged after calling `ab_print`"
   ]
  },
  {
   "cell_type": "markdown",
   "id": "d8dfa233",
   "metadata": {},
   "source": [
    "# Scientific Computing"
   ]
  },
  {
   "cell_type": "markdown",
   "id": "92d7ee80",
   "metadata": {},
   "source": [
    "## Introduction to Numpy -- Summary\n",
    "In this chapter, we learned:\n",
    "- Basic information about Numpy Arrays\n",
    "- Multi-dimensional array indexing\n",
    "- Broadcasting for easy element-wise operations"
   ]
  },
  {
   "cell_type": "markdown",
   "id": "7437511f",
   "metadata": {},
   "source": [
    "### Why NumPy Arrays Instead of Lists?\n",
    "Numpy arrays behave like lists but impose additional restrictions on how the data is organized. Allows us to use list-like objects to represent arrays such as vectors and matrices. "
   ]
  },
  {
   "cell_type": "markdown",
   "id": "9696d1e0",
   "metadata": {},
   "source": [
    "### Array Properties and Methods\n",
    "Arrays have many properties such as their length or shape and the type of data they house. Similarly, there are methods common to all arrays that house numbers."
   ]
  },
  {
   "cell_type": "code",
   "execution_count": 364,
   "id": "f8de8faa",
   "metadata": {},
   "outputs": [
    {
     "name": "stdout",
     "output_type": "stream",
     "text": [
      "(2, 2, 3)\n",
      "int32\n"
     ]
    }
   ],
   "source": [
    "x = np.array([[[1, 2, 3], [4, 5, 6]], [[7, 8, 9], [10, 11, 12]]])\n",
    "print(x.shape)\n",
    "print(x.dtype)"
   ]
  },
  {
   "cell_type": "code",
   "execution_count": 365,
   "id": "203d7946",
   "metadata": {
    "scrolled": true
   },
   "outputs": [
    {
     "name": "stdout",
     "output_type": "stream",
     "text": [
      "78\n",
      "3.452052529534663\n"
     ]
    },
    {
     "data": {
      "text/plain": [
       "(array([1., 1.]),\n",
       " array([[1., 0.],\n",
       "        [0., 1.]]))"
      ]
     },
     "execution_count": 365,
     "metadata": {},
     "output_type": "execute_result"
    }
   ],
   "source": [
    "print(x.sum()) # Some methods use dot notation\n",
    "print(x.std())\n",
    "\n",
    "np.linalg.eig(np.eye(2)) # others are called like standard functions"
   ]
  },
  {
   "cell_type": "markdown",
   "id": "b804c673",
   "metadata": {},
   "source": [
    "### NumPy Vectorize\n",
    "Can vectorize function that normally take scalars as inputs. Here we vectorize the `addtwo` function from earlier (which normally takes a scalar input `num` and returns `num` plus two). After vectorizing with `np.vectorize` and assigning the output (which is a function) to `addtwo_vec`, we can now call `addtwo_vec` which takes a vector as an input and returns a vector of outputs."
   ]
  },
  {
   "cell_type": "code",
   "execution_count": 366,
   "id": "0224ba07",
   "metadata": {
    "scrolled": true
   },
   "outputs": [
    {
     "data": {
      "text/plain": [
       "array([5, 6])"
      ]
     },
     "execution_count": 366,
     "metadata": {},
     "output_type": "execute_result"
    }
   ],
   "source": [
    "addtwo_vec = np.vectorize(addtwo)\n",
    "addtwo_vec(np.array([3,4]))"
   ]
  },
  {
   "cell_type": "markdown",
   "id": "db8f3135",
   "metadata": {},
   "source": [
    "## Plotting -- Summary\n",
    "- Understand basics of Matplotlib\n"
   ]
  },
  {
   "cell_type": "markdown",
   "id": "cf076731",
   "metadata": {},
   "source": [
    "### Figure vs. Axis\n",
    "- The figure is the whole image including the frame\n",
    "- An axis refers to a single coordinate plane (in the case of 2d plots)"
   ]
  },
  {
   "cell_type": "markdown",
   "id": "9e80541a",
   "metadata": {},
   "source": [
    "### Basic Plotting\n",
    "Here we will go over some basic plotting that illustrates some useful functionality. This is just a toy example that I think illustrates the basics of what you should be able to do without referencing something. What advice in the intermediate plotting chapter are we not following below? "
   ]
  },
  {
   "cell_type": "code",
   "execution_count": 367,
   "id": "fc59b9f4",
   "metadata": {},
   "outputs": [
    {
     "data": {
      "image/png": "[encoded data removed]",
      "text/plain": [
       "<Figure size 640x480 with 4 Axes>"
      ]
     },
     "metadata": {},
     "output_type": "display_data"
    }
   ],
   "source": [
    "fig, axes = plt.subplots(2, 2) # This creates a figure with 4 axes arranged in a 2x2 grid\n",
    "fig.tight_layout() # Make it so axis tick marks don't obstruct eachother\n",
    "x_val = np.linspace(-2 * math.pi, 2 * math.pi, num = 1000) # create set of x values\n",
    "freq = np.array([.25, .5, 1, 2]) # various frequencies\n",
    "vec_sin = np.vectorize(math.sin) # vectorize sin function to apply to vectors\n",
    "\n",
    "\n",
    "for i, ax in enumerate(axes.flat):\n",
    "    ax.plot(x_val, vec_sin(freq[i] * 2 * math.pi* x_val), color = \"red\") # plot red line on each individual axis\n",
    "    ax.set_facecolor(\"blue\") # set axis facecolor to blue\n",
    "    ax.set_title(\"Sine Wave with Freq=\" + str(freq[i])) # set axis title"
   ]
  },
  {
   "cell_type": "markdown",
   "id": "bc7c65c6",
   "metadata": {},
   "source": [
    "## Applied Linear Algebra -- Summary\n",
    "In this chapter, we learned:\n",
    "- Linear Algebra concepts\n",
    "- Applied concepts to employment dynamics and pricing portfolios\n",
    "- Use NumPy to perform linear algebra operations\n"
   ]
  },
  {
   "cell_type": "markdown",
   "id": "294cf08b",
   "metadata": {},
   "source": [
    "### Arrays as Vectors or Points in Spaces\n",
    "If `x` is an array with $n$ elements, we can view it as a point or an vector from the origin in $\\mathbb{R}^n$. "
   ]
  },
  {
   "cell_type": "code",
   "execution_count": 368,
   "id": "66d2bab8",
   "metadata": {},
   "outputs": [],
   "source": [
    "x = [1,5]\n",
    "y = [5,1]"
   ]
  },
  {
   "cell_type": "code",
   "execution_count": 369,
   "id": "df2b1f95",
   "metadata": {
    "scrolled": false
   },
   "outputs": [
    {
     "data": {
      "text/plain": [
       "Text(0.5, 0.98, 'Vectors in R2')"
      ]
     },
     "execution_count": 369,
     "metadata": {},
     "output_type": "execute_result"
    },
    {
     "data": {
      "image/png": "[encoded data removed]",
      "text/plain": [
       "<Figure size 640x480 with 1 Axes>"
      ]
     },
     "metadata": {},
     "output_type": "display_data"
    }
   ],
   "source": [
    "\n",
    "plt.quiver([0, 0], [0,0], [x[0], y[0]], [x[1], y[1]], angles='xy', scale_units='xy', scale=1)\n",
    "plt.xlim(-4,6)\n",
    "plt.ylim(-4,6)\n",
    "plt.suptitle(\"Vectors in R2\")"
   ]
  },
  {
   "cell_type": "markdown",
   "id": "44879725",
   "metadata": {},
   "source": [
    "### The @ operator\n",
    "Much like operators (such as `+`) do different things when applied to different data types, `@` works differently for 1d and 2d arrays"
   ]
  },
  {
   "cell_type": "code",
   "execution_count": 370,
   "id": "72bb76d2",
   "metadata": {
    "scrolled": true
   },
   "outputs": [
    {
     "name": "stdout",
     "output_type": "stream",
     "text": [
      "26\n",
      "26\n"
     ]
    }
   ],
   "source": [
    "print(np.array([1, 2, 3]) @ np.array([2, 3, 6]))\n",
    "print(1 * 2 + 2 * 3 + 3 * 6) # @ gives us dot product"
   ]
  },
  {
   "cell_type": "code",
   "execution_count": 371,
   "id": "d56a5875",
   "metadata": {
    "scrolled": false
   },
   "outputs": [
    {
     "name": "stdout",
     "output_type": "stream",
     "text": [
      "[[ 6  4]\n",
      " [14 10]]\n"
     ]
    },
    {
     "data": {
      "text/plain": [
       "array([[ 6,  4],\n",
       "       [14, 10]])"
      ]
     },
     "execution_count": 371,
     "metadata": {},
     "output_type": "execute_result"
    }
   ],
   "source": [
    "print(np.array([[1, 2], [3, 4]]) @ np.array([[2, 2], [2, 1]]))\n",
    "np.array([[1 * 2 + 2 * 2, 1 * 2 + 2 * 1],\n",
    "          [3 * 2 + 4 * 2, 3 * 2 + 4 * 1]] ) # @ gives us matrix multiplication"
   ]
  },
  {
   "cell_type": "markdown",
   "id": "b7a00f9e",
   "metadata": {},
   "source": [
    "### Application Unemployment\n",
    "We can model the dynamics of unemployment and employment using a transition matrix where the elements are functions of the job finding and job loss rate. If $\\alpha$ is the rate of job loss and $\\phi$ is the job finding rate, then our transition matrix can be expressed as \n",
    "$$\n",
    "A = \\left[\\begin{array}{cc} 1 - \\alpha & \\alpha \\\\ \\phi & 1- \\phi\n",
    "\\end{array}\\right]\n",
    "$$\n",
    "If we define $$x_t=\\left[\\begin{array}{c} E_t \\\\ U_t\n",
    "\\end{array}\\right]$$ where $E_t$ and $U_t$ are respectively the number of employed and unemployed people at time $t$.\n",
    "\n",
    "Using these two objects, we have\n",
    "$$x_{t+1} = A'x_t$$\n",
    "\n",
    "**Hint**:If you forget if $A$ should be transposed or not given how you defined $A$ remember that $E_t$ should not be multiplied by a function of $\\phi$ because employed people aren't searching for jobs in this model. Analgously, $U_t$ should not be multiplied by a function of $\\alpha$ because people cannot lose jobs they don't have. \n",
    "\n",
    "Below, I illustrate some of the code from QuantEcon. Note that when $X_0$ starts far away from the steady state, the initial change in employed and unemployed people is much higher than it is when $X_0$ starts closer to the steady state."
   ]
  },
  {
   "cell_type": "markdown",
   "id": "87e99a13",
   "metadata": {},
   "source": [
    "## Unemployment Helper Functions"
   ]
  },
  {
   "cell_type": "code",
   "execution_count": 372,
   "id": "db98b2ac",
   "metadata": {},
   "outputs": [],
   "source": [
    "def simulate(x0, A, T = 20):\n",
    "    nX = x0.shape[0]\n",
    "    out = np.zeros((T, nX))\n",
    "    out[0, :] = x0\n",
    "    \n",
    "    for t in range(1, T):\n",
    "        out[t, :] = A.T @ out[t-1, :]\n",
    "\n",
    "    return out\n",
    "\n",
    "def plot_simulation(x0, A, T = 20, last_X = False):\n",
    "    X = simulate(x0, A, T)\n",
    "    fig, ax = plt.subplots()\n",
    "    ax.plot(X[:, 0])\n",
    "    ax.plot(X[:, 1])\n",
    "    ax.set_xlabel(\"t\")\n",
    "    ax.legend([\"Employed\", \"Unemployed\"])\n",
    "    if last_X:\n",
    "        return ax, X[T-1, :]\n",
    "    else:\n",
    "        return ax"
   ]
  },
  {
   "cell_type": "code",
   "execution_count": 373,
   "id": "09f9eb8f",
   "metadata": {},
   "outputs": [],
   "source": [
    "α = .04\n",
    "ϕ = .15\n",
    "x0 = np.array([650000, 150000]) # close to the steady state\n",
    "A = np.array([[1 - α, α], \n",
    "              [ϕ, 1 - ϕ]])\n"
   ]
  },
  {
   "cell_type": "code",
   "execution_count": 374,
   "id": "55a24c5c",
   "metadata": {},
   "outputs": [
    {
     "data": {
      "text/plain": [
       "<AxesSubplot:xlabel='t'>"
      ]
     },
     "execution_count": 374,
     "metadata": {},
     "output_type": "execute_result"
    },
    {
     "data": {
      "image/png": "[encoded data removed]",
      "text/plain": [
       "<Figure size 640x480 with 1 Axes>"
      ]
     },
     "metadata": {},
     "output_type": "display_data"
    }
   ],
   "source": [
    "X = plot_simulation(x0, A, T = 100)\n",
    "X"
   ]
  },
  {
   "cell_type": "code",
   "execution_count": 375,
   "id": "e34ea707",
   "metadata": {
    "scrolled": true
   },
   "outputs": [
    {
     "data": {
      "text/plain": [
       "<AxesSubplot:xlabel='t'>"
      ]
     },
     "execution_count": 375,
     "metadata": {},
     "output_type": "execute_result"
    },
    {
     "data": {
      "image/png": "[encoded data removed]",
      "text/plain": [
       "<Figure size 640x480 with 1 Axes>"
      ]
     },
     "metadata": {},
     "output_type": "display_data"
    }
   ],
   "source": [
    "# Different X0 still converges\n",
    "x0 = np.array([150000, 650000]) # far from the steady state\n",
    "X = plot_simulation(x0, A, T= 100)\n",
    "X"
   ]
  },
  {
   "cell_type": "markdown",
   "id": "d7c3cc0d",
   "metadata": {},
   "source": [
    "## Randomness -- Summary\n",
    "In this chapter, we learned:\n",
    "- basic probability\n",
    "- random variable generation with numpy\n",
    "- how to simulate and why it is useful\n",
    "- Markov Chain fundamentals\n"
   ]
  },
  {
   "cell_type": "markdown",
   "id": "0b75e2e0",
   "metadata": {},
   "source": [
    "### Continuous vs. Discrete Variables\n",
    "- Simple rule of thumb -- Can the event space be counted? \n",
    ". \n",
    "- Discrete -- possible outcomes all have non-zero chance of happening\n",
    "- Continuous -- generally, all single possible outcomes have a 0 probability of ocurring\n"
   ]
  },
  {
   "cell_type": "markdown",
   "id": "89585f66",
   "metadata": {},
   "source": [
    "### Generating Random Variables\n",
    "We use numpty to generate uniform random variables."
   ]
  },
  {
   "cell_type": "code",
   "execution_count": 376,
   "id": "c0849c8d",
   "metadata": {},
   "outputs": [],
   "source": [
    "rand_scalar = np.random.rand()\n",
    "rand_vec = np.random.rand(5)\n",
    "rand_mat = np.random.rand(2,2)"
   ]
  },
  {
   "cell_type": "markdown",
   "id": "2d118109",
   "metadata": {},
   "source": [
    "### Informal law of Large Numbers\n",
    "Informally, the law of large numbers (LLN) tells us that as the number of samples (or simulations) tends to infinity, the probability of the sample average of random variables deviating from their true mean by more than a fixed, small value goes to 0.  \n"
   ]
  },
  {
   "cell_type": "markdown",
   "id": "41d33f92",
   "metadata": {},
   "source": [
    "### Discrete Example\n",
    "For example, let $X_i$ be the value of rolling a fair dice. The expected value of $X_i$ is\n",
    "$$\n",
    "\\bar{X}_i = \\sum_{x = 1}^{6}x P(X_i = x) = \\frac{(1 + 2 + 3 + 4 + 5 + 6)}{6} = 3.5\n",
    "$$\n",
    "\n",
    "If we were to roll many, many dice, the LLN tells us that we would expect the sample average to be very close to 3.5 with high probability."
   ]
  },
  {
   "cell_type": "code",
   "execution_count": 377,
   "id": "05a0ad11",
   "metadata": {},
   "outputs": [],
   "source": [
    "def roll_n_dice(n):\n",
    "    return np.random.randint(1,7, n)   \n",
    "\n",
    "num_samples = 10000\n",
    "avg_rolls = [(roll_n_dice(x).mean()) for x in range(5, num_samples)]\n",
    "single_trial = roll_n_dice(num_samples)\n",
    "avg_rolls_s = [(single_trial[0:x].mean()) for x in range(5, num_samples)]\n",
    "    "
   ]
  },
  {
   "cell_type": "code",
   "execution_count": 378,
   "id": "3ad6a192",
   "metadata": {
    "scrolled": false
   },
   "outputs": [
    {
     "data": {
      "text/plain": [
       "Text(0.5, 1.0, 'Single Draw')"
      ]
     },
     "execution_count": 378,
     "metadata": {},
     "output_type": "execute_result"
    },
    {
     "data": {
      "image/png": "[encoded data removed]",
      "text/plain": [
       "<Figure size 640x480 with 2 Axes>"
      ]
     },
     "metadata": {},
     "output_type": "display_data"
    }
   ],
   "source": [
    "fig, ax = plt.subplots(2)\n",
    "fig.tight_layout()\n",
    "ax[0].plot(range(5,num_samples),avg_rolls, alpha = .5)\n",
    "ax[0].hlines(y=3.5, xmin = 0, xmax = 10000, color = \"red\")\n",
    "ax[0].set_title(\"Redraw Each Sample Size\")\n",
    "ax[1].plot(range(5,num_samples),avg_rolls_s, alpha = .5)\n",
    "ax[1].hlines(y=3.5, xmin = 0, xmax = 10000, color = \"red\")\n",
    "ax[1].set_title(\"Single Draw\")"
   ]
  },
  {
   "cell_type": "markdown",
   "id": "d3dab924",
   "metadata": {},
   "source": [
    "### Continuous Example\n",
    "The LLN also guarantees that we can estimate distributions more accurately as the number of samples (or simulations) goes up. Now, let $X_i$ be the height of a randomly selected sample of men in the U.S. It has been shown that height follows the following distribution\n",
    "$$\n",
    "X_i \\sim\\text{Normal}(70 , 3)\n",
    "$$\n",
    "where the mean and standard deviation are in inches. "
   ]
  },
  {
   "cell_type": "code",
   "execution_count": 379,
   "id": "83a6a5f9",
   "metadata": {
    "scrolled": false
   },
   "outputs": [
    {
     "data": {
      "image/png": "[encoded data removed]",
      "text/plain": [
       "<Figure size 640x480 with 6 Axes>"
      ]
     },
     "metadata": {},
     "output_type": "display_data"
    }
   ],
   "source": [
    "x = np.linspace(73-20, 73+20, 100)\n",
    "ns = [250, 500, 1000, 2500, 5000, 7500]\n",
    "height_dist = st.norm(70, 3)\n",
    "height_samples = [np.random.normal(70, 3, x) for x in ns]\n",
    "\n",
    "\n",
    "pdf_x = height_dist.pdf(x)\n",
    "fig, axs = plt.subplots(2,3)\n",
    "fig.tight_layout()\n",
    "\n",
    "for i,ax in enumerate(axs.flat):\n",
    "    ax.set_title(\"n = {ss}\".format(ss = ns[i]))\n",
    "    pdf_x_i = pdf_x \n",
    "    ax.plot(x, pdf_x_i, color = 'r')\n",
    "    ax.hist(height_samples[i], bins = 50, density = True)"
   ]
  },
  {
   "cell_type": "markdown",
   "id": "0979f0e6",
   "metadata": {},
   "source": [
    "Notice how our histogram fits the true density curve more accurately as the number of samples increases."
   ]
  },
  {
   "cell_type": "markdown",
   "id": "1483e7d0",
   "metadata": {},
   "source": [
    "### Optimization -- Summary\n",
    "In this chapter, we learned:\n",
    "- How to optimize analytically using derivatives\n",
    "- How numerically optimize\n",
    "- Algorithmic Heuristics \n"
   ]
  },
  {
   "cell_type": "markdown",
   "id": "ef148428",
   "metadata": {},
   "source": [
    "### Derivatives and Optima\n",
    "Given a univariate function $f(x)$ for $x \\in [a,b]$, local minimums and maximums can be achieved at the boudaries (when $x=a$ or $x = b$) or when: $$\n",
    "\\frac{\\partial f(x)}{\\partial x} = 0\n",
    "$$  \n",
    "\n",
    "As an example, we define\n",
    "$$\n",
    "f(x) = 6e^{-x} + 3 x ^ 2 \\text{ for } x \\in [-2,2]\n",
    "$$\n",
    "\n",
    "Set the derivative equal t 0\n",
    "$$\n",
    "\\frac{\\partial f(x)}{\\partial x} = 0 \\\\ \\implies x = e^{-x} \n",
    "$$\n",
    "\n",
    "Can't solve this analytically. We can graphically observe what it should be below."
   ]
  },
  {
   "cell_type": "code",
   "execution_count": 380,
   "id": "f2952ffe",
   "metadata": {
    "scrolled": false
   },
   "outputs": [
    {
     "data": {
      "text/plain": [
       "<matplotlib.legend.Legend at 0x2171d243c40>"
      ]
     },
     "execution_count": 380,
     "metadata": {},
     "output_type": "execute_result"
    },
    {
     "data": {
      "image/png": "[encoded data removed]",
      "text/plain": [
       "<Figure size 640x480 with 1 Axes>"
      ]
     },
     "metadata": {},
     "output_type": "display_data"
    }
   ],
   "source": [
    "X = np.linspace(-2, 2, num = 1000)\n",
    "def f(x):\n",
    "    return 6*math.exp( -x) + 3 * x ** 2\n",
    "\n",
    "def df(x):\n",
    "    return  -6*math.exp(-x)  + 6 * x \n",
    "\n",
    "f_val = [f(x) for x in X]\n",
    "df_val = [df(x) for x in X]\n",
    "fig, axs = plt.subplots()\n",
    "axs.plot(X, f_val, label = \"f(x)\")\n",
    "axs.plot(X, df_val, label = \"df(x)\")\n",
    "axs.hlines(y = 0, xmin = -2, xmax = 2, color ='r')\n",
    "axs.legend()\n"
   ]
  },
  {
   "cell_type": "markdown",
   "id": "0fc5d69e",
   "metadata": {},
   "source": [
    "Graphically, it looks like the minimum is slightly more than .5. Using numerical otpimization, we can get a more precise approximation. "
   ]
  },
  {
   "cell_type": "code",
   "execution_count": 381,
   "id": "64cab395",
   "metadata": {},
   "outputs": [
    {
     "name": "stdout",
     "output_type": "stream",
     "text": [
      "The minimum is: \n",
      " 4.367814278029212 and it happens at x = 0.5671432936663143\n"
     ]
    }
   ],
   "source": [
    "min_out = opt.minimize_scalar(f, [-2, 2])\n",
    "print(\"The minimum is: \\n\", min_out.fun, \"and it happens at x =\", min_out.x)"
   ]
  },
  {
   "cell_type": "code",
   "execution_count": 382,
   "id": "fcc2099c",
   "metadata": {
    "scrolled": true
   },
   "outputs": [
    {
     "name": "stdout",
     "output_type": "stream",
     "text": [
      "4.367814278029212\n",
      "3.0620699309480415e-08\n"
     ]
    }
   ],
   "source": [
    "print(f(min_out.x)) # Can check that this is the right value\n",
    "print(df(min_out.x)) # Can check that derivative is clost to 0"
   ]
  },
  {
   "cell_type": "markdown",
   "id": "af5d3056",
   "metadata": {},
   "source": [
    "We also want to find the maximum. In this case,it's obvious that the maximum is attained at the boundary where $x = -2$. We will confirm this `minimize_scalar`. Since we want to find the maximum, we must consider the negative of $f(x)$. "
   ]
  },
  {
   "cell_type": "code",
   "execution_count": 383,
   "id": "68cb8deb",
   "metadata": {
    "scrolled": true
   },
   "outputs": [
    {
     "name": "stdout",
     "output_type": "stream",
     "text": [
      "The maximum is: \n",
      " -56.33401950678871 and it happens at x = -1.999994371326411\n"
     ]
    }
   ],
   "source": [
    "def neg_f(x):\n",
    "    return -f(x)\n",
    "max_out = opt.minimize_scalar(neg_f, bounds = [-2, 2], method = \"bounded\")\n",
    "print(\"The maximum is: \\n\", max_out.fun, \"and it happens at x =\", max_out.x)"
   ]
  },
  {
   "cell_type": "markdown",
   "id": "473dad03",
   "metadata": {},
   "source": [
    "Remember that if you're having convergence issues, try implementing the bounded method as above."
   ]
  },
  {
   "cell_type": "markdown",
   "id": "fa48cf5b",
   "metadata": {},
   "source": [
    "### Multivariable Optimization When Constraint Binds\n",
    "Recall the homework problem regarding optimal raito of bananas to apples. \n",
    "- Issue: Using minimize scalar, which only optimizes along one input variable, to maximize a function of two variables.\n",
    "\n",
    "- Solution: In the Cobb Douglas Setting utility is maximized when the budget constraint is binding, so we can replace one variable (number of apples) to be a function of another variable (number of bananas) and exogenous parameters (budget and price of apples)."
   ]
  },
  {
   "cell_type": "markdown",
   "id": "b1724c9c",
   "metadata": {},
   "source": [
    "# Pandas"
   ]
  },
  {
   "cell_type": "markdown",
   "id": "df382cf9",
   "metadata": {},
   "source": [
    "## Pandas -- Summary\n",
    "In this set of chapters, we learned:\n",
    "- The core pandas objects (Series and DataFrame)\n",
    "- Basic visualization with Pandas objects\n",
    "- `datetime`\n",
    "- built-in aggregation functions\n",
    "- `apply` and `applymap`\n",
    "- Indexing of dataframes\n",
    "- Reading and writing tabular data\n",
    "- Data cleaning \n",
    "- How to reshape data via `melt`, `stack`, `unstack`, and `pivot'\n",
    "- How to combine data using `concat`, `merge`, and `join`\n",
    "- How to use `groupby` to compute within-group aggregate statistics\n",
    "- Useful functions that deal with time series\n",
    "- Intermediate plotting"
   ]
  },
  {
   "cell_type": "markdown",
   "id": "cbc76a26",
   "metadata": {},
   "source": [
    "### Series and DataFrames\n",
    "A **series** is a single column of data with row labels for each observation. These row labels allows us to index each element of the series. We can customize these indices:"
   ]
  },
  {
   "cell_type": "code",
   "execution_count": 384,
   "id": "6aff01e9",
   "metadata": {},
   "outputs": [],
   "source": [
    "values = [5.6, 5.3, 4.3, 4.2, 5.8, 5.3, 4.6, 7.8, 9.1, 8., 5.7]\n",
    "years = list(range(1995, 2017, 2))\n",
    "\n",
    "unemp = pd.Series(data=values, index=years, name=\"Unemployment\")"
   ]
  },
  {
   "cell_type": "code",
   "execution_count": 385,
   "id": "b3864df4",
   "metadata": {
    "scrolled": true
   },
   "outputs": [
    {
     "data": {
      "text/plain": [
       "1995    5.6\n",
       "1997    5.3\n",
       "1999    4.3\n",
       "2001    4.2\n",
       "2003    5.8\n",
       "2005    5.3\n",
       "2007    4.6\n",
       "2009    7.8\n",
       "2011    9.1\n",
       "2013    8.0\n",
       "2015    5.7\n",
       "Name: Unemployment, dtype: float64"
      ]
     },
     "execution_count": 385,
     "metadata": {},
     "output_type": "execute_result"
    }
   ],
   "source": [
    "unemp"
   ]
  },
  {
   "cell_type": "markdown",
   "id": "4d7fc6a4",
   "metadata": {},
   "source": [
    "A **DataFrame** is used to store one or more columns of data. Like a series, the a DataFrame has row indices, but it also has column indices."
   ]
  },
  {
   "cell_type": "code",
   "execution_count": 386,
   "id": "47ced30f",
   "metadata": {},
   "outputs": [
    {
     "data": {
      "text/html": [
       "<div>\n",
       "<style scoped>\n",
       "    .dataframe tbody tr th:only-of-type {\n",
       "        vertical-align: middle;\n",
       "    }\n",
       "\n",
       "    .dataframe tbody tr th {\n",
       "        vertical-align: top;\n",
       "    }\n",
       "\n",
       "    .dataframe thead th {\n",
       "        text-align: right;\n",
       "    }\n",
       "</style>\n",
       "<table border=\"1\" class=\"dataframe\">\n",
       "  <thead>\n",
       "    <tr style=\"text-align: right;\">\n",
       "      <th></th>\n",
       "      <th>NorthEast</th>\n",
       "      <th>MidWest</th>\n",
       "      <th>South</th>\n",
       "      <th>West</th>\n",
       "      <th>National</th>\n",
       "    </tr>\n",
       "  </thead>\n",
       "  <tbody>\n",
       "    <tr>\n",
       "      <th>1995</th>\n",
       "      <td>5.9</td>\n",
       "      <td>4.5</td>\n",
       "      <td>5.3</td>\n",
       "      <td>6.6</td>\n",
       "      <td>5.6</td>\n",
       "    </tr>\n",
       "    <tr>\n",
       "      <th>1997</th>\n",
       "      <td>5.6</td>\n",
       "      <td>4.3</td>\n",
       "      <td>5.2</td>\n",
       "      <td>6.0</td>\n",
       "      <td>5.3</td>\n",
       "    </tr>\n",
       "    <tr>\n",
       "      <th>1999</th>\n",
       "      <td>4.4</td>\n",
       "      <td>3.6</td>\n",
       "      <td>4.2</td>\n",
       "      <td>5.2</td>\n",
       "      <td>4.3</td>\n",
       "    </tr>\n",
       "    <tr>\n",
       "      <th>2001</th>\n",
       "      <td>3.8</td>\n",
       "      <td>4.0</td>\n",
       "      <td>4.0</td>\n",
       "      <td>4.6</td>\n",
       "      <td>4.2</td>\n",
       "    </tr>\n",
       "    <tr>\n",
       "      <th>2003</th>\n",
       "      <td>5.8</td>\n",
       "      <td>5.7</td>\n",
       "      <td>5.7</td>\n",
       "      <td>6.5</td>\n",
       "      <td>5.8</td>\n",
       "    </tr>\n",
       "    <tr>\n",
       "      <th>2005</th>\n",
       "      <td>4.9</td>\n",
       "      <td>5.7</td>\n",
       "      <td>5.2</td>\n",
       "      <td>5.5</td>\n",
       "      <td>5.3</td>\n",
       "    </tr>\n",
       "    <tr>\n",
       "      <th>2007</th>\n",
       "      <td>4.3</td>\n",
       "      <td>4.9</td>\n",
       "      <td>4.3</td>\n",
       "      <td>4.5</td>\n",
       "      <td>4.6</td>\n",
       "    </tr>\n",
       "    <tr>\n",
       "      <th>2009</th>\n",
       "      <td>7.1</td>\n",
       "      <td>8.1</td>\n",
       "      <td>7.6</td>\n",
       "      <td>8.6</td>\n",
       "      <td>7.8</td>\n",
       "    </tr>\n",
       "    <tr>\n",
       "      <th>2011</th>\n",
       "      <td>8.3</td>\n",
       "      <td>8.7</td>\n",
       "      <td>9.1</td>\n",
       "      <td>10.7</td>\n",
       "      <td>9.1</td>\n",
       "    </tr>\n",
       "    <tr>\n",
       "      <th>2013</th>\n",
       "      <td>7.9</td>\n",
       "      <td>7.4</td>\n",
       "      <td>7.4</td>\n",
       "      <td>8.5</td>\n",
       "      <td>8.0</td>\n",
       "    </tr>\n",
       "    <tr>\n",
       "      <th>2015</th>\n",
       "      <td>5.7</td>\n",
       "      <td>5.1</td>\n",
       "      <td>5.5</td>\n",
       "      <td>6.1</td>\n",
       "      <td>5.7</td>\n",
       "    </tr>\n",
       "  </tbody>\n",
       "</table>\n",
       "</div>"
      ],
      "text/plain": [
       "      NorthEast  MidWest  South  West  National\n",
       "1995        5.9      4.5    5.3   6.6       5.6\n",
       "1997        5.6      4.3    5.2   6.0       5.3\n",
       "1999        4.4      3.6    4.2   5.2       4.3\n",
       "2001        3.8      4.0    4.0   4.6       4.2\n",
       "2003        5.8      5.7    5.7   6.5       5.8\n",
       "2005        4.9      5.7    5.2   5.5       5.3\n",
       "2007        4.3      4.9    4.3   4.5       4.6\n",
       "2009        7.1      8.1    7.6   8.6       7.8\n",
       "2011        8.3      8.7    9.1  10.7       9.1\n",
       "2013        7.9      7.4    7.4   8.5       8.0\n",
       "2015        5.7      5.1    5.5   6.1       5.7"
      ]
     },
     "execution_count": 386,
     "metadata": {},
     "output_type": "execute_result"
    }
   ],
   "source": [
    "data = {\n",
    "    \"NorthEast\": [5.9,  5.6,  4.4,  3.8,  5.8,  4.9,  4.3,  7.1,  8.3,  7.9,  5.7],\n",
    "    \"MidWest\": [4.5,  4.3,  3.6,  4. ,  5.7,  5.7,  4.9,  8.1,  8.7,  7.4,  5.1],\n",
    "    \"South\": [5.3,  5.2,  4.2,  4. ,  5.7,  5.2,  4.3,  7.6,  9.1,  7.4,  5.5],\n",
    "    \"West\": [6.6, 6., 5.2, 4.6, 6.5, 5.5, 4.5, 8.6, 10.7, 8.5, 6.1],\n",
    "    \"National\": [5.6, 5.3, 4.3, 4.2, 5.8, 5.3, 4.6, 7.8, 9.1, 8., 5.7]\n",
    "}\n",
    "\n",
    "unemp_region = pd.DataFrame(data, index=years)\n",
    "unemp_region"
   ]
  },
  {
   "cell_type": "code",
   "execution_count": 387,
   "id": "1e0932c0",
   "metadata": {
    "scrolled": true
   },
   "outputs": [
    {
     "name": "stdout",
     "output_type": "stream",
     "text": [
      "<class 'pandas.core.series.Series'>\n",
      "<class 'pandas.core.series.Series'>\n"
     ]
    }
   ],
   "source": [
    "print(type(unemp_region.loc[:,\"NorthEast\"])) # Selecting a single column or row from DataFrame results in a series \n",
    "print(type(unemp_region.loc[2011,:]))"
   ]
  },
  {
   "cell_type": "markdown",
   "id": "ad28da84",
   "metadata": {},
   "source": [
    "### Apply vs. Applymap\n",
    "`apply` and `applymap` both allows us to apply premade or custom functions to data, but how do they differ? \n",
    "`apply` is used to apply a function along an axis of the DataFrame.\n",
    "Consider standardizing the unemployment data with the following function:$\\dagger$"
   ]
  },
  {
   "cell_type": "code",
   "execution_count": 388,
   "id": "76d796bf",
   "metadata": {},
   "outputs": [],
   "source": [
    "def standardize_data(x):\n",
    "    \"\"\"\n",
    "    Changes the data in a Series to become mean 0 with standard deviation 1\n",
    "    \"\"\"\n",
    "    mu = x.mean()\n",
    "    std = x.std()\n",
    "\n",
    "    return (x - mu)/std"
   ]
  },
  {
   "cell_type": "code",
   "execution_count": 389,
   "id": "2ef97504",
   "metadata": {
    "scrolled": false
   },
   "outputs": [
    {
     "name": "stdout",
     "output_type": "stream",
     "text": [
      "      NorthEast   MidWest     South      West  National\n",
      "1995   0.074522 -0.663809 -0.294297 -0.009502 -0.230264\n",
      "1997  -0.130414 -0.780639 -0.356552 -0.323057 -0.415598\n",
      "1999  -0.950160 -1.189546 -0.979103 -0.741130 -1.033379\n",
      "2001  -1.360033 -0.955885 -1.103613 -1.054685 -1.095157\n",
      "2003   0.006210  0.037173 -0.045276 -0.061761 -0.106708\n",
      "2005  -0.608599  0.037173 -0.356552 -0.584352 -0.415598\n",
      "2007  -1.018472 -0.430148 -0.916848 -1.106944 -0.848044\n",
      "2009   0.894269  1.439138  1.137570  1.035681  1.128854\n",
      "2011   1.714015  1.789629  2.071397  2.133124  1.931969\n",
      "2013   1.440766  1.030231  1.013060  0.983422  1.252410\n",
      "2015  -0.062102 -0.313318 -0.169787 -0.270797 -0.168486\n"
     ]
    }
   ],
   "source": [
    "a_std_unemp = unemp_region.apply(standardize_data)\n",
    "print(a_std_unemp)\n"
   ]
  },
  {
   "cell_type": "markdown",
   "id": "3b3f55bb",
   "metadata": {},
   "source": [
    "This standardized each column (the unemployment for each region acoss many years) by the column-specific mean and standard deviation. To apply a function by row, use the argument `axis=1`.\n",
    "\n",
    "`applymap`, however, applies a function to every element individually. If we wanted to standardize unemployment from all regions across all years together using the function we already built, it will not work."
   ]
  },
  {
   "cell_type": "code",
   "execution_count": 390,
   "id": "711da295",
   "metadata": {},
   "outputs": [
    {
     "name": "stdout",
     "output_type": "stream",
     "text": [
      "ApplyMap fails because it is inputting a scalar value into the function, but the function expects a collection of numbers\n"
     ]
    }
   ],
   "source": [
    "try:\n",
    "    a_std_unemp = unemp_region.applymap(standardize_data)\n",
    "except:\n",
    "    print(\"ApplyMap fails because it is inputting a scalar value into the function, but the function expects a collection of numbers\")"
   ]
  },
  {
   "cell_type": "markdown",
   "id": "e2815483",
   "metadata": {},
   "source": [
    "If we want, however, to convert our unemployment numbers to log unemployment, `applymap` is perfect"
   ]
  },
  {
   "cell_type": "code",
   "execution_count": 391,
   "id": "018e16cb",
   "metadata": {
    "scrolled": true
   },
   "outputs": [
    {
     "data": {
      "text/html": [
       "<div>\n",
       "<style scoped>\n",
       "    .dataframe tbody tr th:only-of-type {\n",
       "        vertical-align: middle;\n",
       "    }\n",
       "\n",
       "    .dataframe tbody tr th {\n",
       "        vertical-align: top;\n",
       "    }\n",
       "\n",
       "    .dataframe thead th {\n",
       "        text-align: right;\n",
       "    }\n",
       "</style>\n",
       "<table border=\"1\" class=\"dataframe\">\n",
       "  <thead>\n",
       "    <tr style=\"text-align: right;\">\n",
       "      <th></th>\n",
       "      <th>NorthEast</th>\n",
       "      <th>MidWest</th>\n",
       "      <th>South</th>\n",
       "      <th>West</th>\n",
       "      <th>National</th>\n",
       "    </tr>\n",
       "  </thead>\n",
       "  <tbody>\n",
       "    <tr>\n",
       "      <th>1995</th>\n",
       "      <td>1.774952</td>\n",
       "      <td>1.504077</td>\n",
       "      <td>1.667707</td>\n",
       "      <td>1.887070</td>\n",
       "      <td>1.722767</td>\n",
       "    </tr>\n",
       "    <tr>\n",
       "      <th>1997</th>\n",
       "      <td>1.722767</td>\n",
       "      <td>1.458615</td>\n",
       "      <td>1.648659</td>\n",
       "      <td>1.791759</td>\n",
       "      <td>1.667707</td>\n",
       "    </tr>\n",
       "    <tr>\n",
       "      <th>1999</th>\n",
       "      <td>1.481605</td>\n",
       "      <td>1.280934</td>\n",
       "      <td>1.435085</td>\n",
       "      <td>1.648659</td>\n",
       "      <td>1.458615</td>\n",
       "    </tr>\n",
       "    <tr>\n",
       "      <th>2001</th>\n",
       "      <td>1.335001</td>\n",
       "      <td>1.386294</td>\n",
       "      <td>1.386294</td>\n",
       "      <td>1.526056</td>\n",
       "      <td>1.435085</td>\n",
       "    </tr>\n",
       "    <tr>\n",
       "      <th>2003</th>\n",
       "      <td>1.757858</td>\n",
       "      <td>1.740466</td>\n",
       "      <td>1.740466</td>\n",
       "      <td>1.871802</td>\n",
       "      <td>1.757858</td>\n",
       "    </tr>\n",
       "    <tr>\n",
       "      <th>2005</th>\n",
       "      <td>1.589235</td>\n",
       "      <td>1.740466</td>\n",
       "      <td>1.648659</td>\n",
       "      <td>1.704748</td>\n",
       "      <td>1.667707</td>\n",
       "    </tr>\n",
       "    <tr>\n",
       "      <th>2007</th>\n",
       "      <td>1.458615</td>\n",
       "      <td>1.589235</td>\n",
       "      <td>1.458615</td>\n",
       "      <td>1.504077</td>\n",
       "      <td>1.526056</td>\n",
       "    </tr>\n",
       "    <tr>\n",
       "      <th>2009</th>\n",
       "      <td>1.960095</td>\n",
       "      <td>2.091864</td>\n",
       "      <td>2.028148</td>\n",
       "      <td>2.151762</td>\n",
       "      <td>2.054124</td>\n",
       "    </tr>\n",
       "    <tr>\n",
       "      <th>2011</th>\n",
       "      <td>2.116256</td>\n",
       "      <td>2.163323</td>\n",
       "      <td>2.208274</td>\n",
       "      <td>2.370244</td>\n",
       "      <td>2.208274</td>\n",
       "    </tr>\n",
       "    <tr>\n",
       "      <th>2013</th>\n",
       "      <td>2.066863</td>\n",
       "      <td>2.001480</td>\n",
       "      <td>2.001480</td>\n",
       "      <td>2.140066</td>\n",
       "      <td>2.079442</td>\n",
       "    </tr>\n",
       "    <tr>\n",
       "      <th>2015</th>\n",
       "      <td>1.740466</td>\n",
       "      <td>1.629241</td>\n",
       "      <td>1.704748</td>\n",
       "      <td>1.808289</td>\n",
       "      <td>1.740466</td>\n",
       "    </tr>\n",
       "  </tbody>\n",
       "</table>\n",
       "</div>"
      ],
      "text/plain": [
       "      NorthEast   MidWest     South      West  National\n",
       "1995   1.774952  1.504077  1.667707  1.887070  1.722767\n",
       "1997   1.722767  1.458615  1.648659  1.791759  1.667707\n",
       "1999   1.481605  1.280934  1.435085  1.648659  1.458615\n",
       "2001   1.335001  1.386294  1.386294  1.526056  1.435085\n",
       "2003   1.757858  1.740466  1.740466  1.871802  1.757858\n",
       "2005   1.589235  1.740466  1.648659  1.704748  1.667707\n",
       "2007   1.458615  1.589235  1.458615  1.504077  1.526056\n",
       "2009   1.960095  2.091864  2.028148  2.151762  2.054124\n",
       "2011   2.116256  2.163323  2.208274  2.370244  2.208274\n",
       "2013   2.066863  2.001480  2.001480  2.140066  2.079442\n",
       "2015   1.740466  1.629241  1.704748  1.808289  1.740466"
      ]
     },
     "execution_count": 391,
     "metadata": {},
     "output_type": "execute_result"
    }
   ],
   "source": [
    "unemp_region.applymap(math.log)"
   ]
  },
  {
   "cell_type": "markdown",
   "id": "024ce8a3",
   "metadata": {},
   "source": [
    "### Indexing Example\n",
    "How Pandas treats indices is important to understand, so we will review the example from the QuantEcon lectures. In the following data, rows are indexed by numbers and columns are indexed by strings of the variable name, but rows can also be indexed using strings and columns can be indexed by numbers. \n"
   ]
  },
  {
   "cell_type": "code",
   "execution_count": 392,
   "id": "5fc0219a",
   "metadata": {
    "scrolled": true
   },
   "outputs": [
    {
     "data": {
      "text/html": [
       "<div>\n",
       "<style scoped>\n",
       "    .dataframe tbody tr th:only-of-type {\n",
       "        vertical-align: middle;\n",
       "    }\n",
       "\n",
       "    .dataframe tbody tr th {\n",
       "        vertical-align: top;\n",
       "    }\n",
       "\n",
       "    .dataframe thead th {\n",
       "        text-align: right;\n",
       "    }\n",
       "</style>\n",
       "<table border=\"1\" class=\"dataframe\">\n",
       "  <thead>\n",
       "    <tr style=\"text-align: right;\">\n",
       "      <th></th>\n",
       "      <th>country</th>\n",
       "      <th>year</th>\n",
       "      <th>GovExpend</th>\n",
       "      <th>Consumption</th>\n",
       "      <th>Exports</th>\n",
       "      <th>Imports</th>\n",
       "      <th>GDP</th>\n",
       "    </tr>\n",
       "  </thead>\n",
       "  <tbody>\n",
       "    <tr>\n",
       "      <th>0</th>\n",
       "      <td>Canada</td>\n",
       "      <td>2017</td>\n",
       "      <td>0.372665</td>\n",
       "      <td>1.095475</td>\n",
       "      <td>0.582831</td>\n",
       "      <td>0.600031</td>\n",
       "      <td>1.868164</td>\n",
       "    </tr>\n",
       "    <tr>\n",
       "      <th>1</th>\n",
       "      <td>Canada</td>\n",
       "      <td>2016</td>\n",
       "      <td>0.364899</td>\n",
       "      <td>1.058426</td>\n",
       "      <td>0.576394</td>\n",
       "      <td>0.575775</td>\n",
       "      <td>1.814016</td>\n",
       "    </tr>\n",
       "    <tr>\n",
       "      <th>2</th>\n",
       "      <td>Canada</td>\n",
       "      <td>2015</td>\n",
       "      <td>0.358303</td>\n",
       "      <td>1.035208</td>\n",
       "      <td>0.568859</td>\n",
       "      <td>0.575793</td>\n",
       "      <td>1.794270</td>\n",
       "    </tr>\n",
       "    <tr>\n",
       "      <th>3</th>\n",
       "      <td>Canada</td>\n",
       "      <td>2014</td>\n",
       "      <td>0.353485</td>\n",
       "      <td>1.011988</td>\n",
       "      <td>0.550323</td>\n",
       "      <td>0.572344</td>\n",
       "      <td>1.782252</td>\n",
       "    </tr>\n",
       "    <tr>\n",
       "      <th>4</th>\n",
       "      <td>Canada</td>\n",
       "      <td>2013</td>\n",
       "      <td>0.351541</td>\n",
       "      <td>0.986400</td>\n",
       "      <td>0.518040</td>\n",
       "      <td>0.558636</td>\n",
       "      <td>1.732714</td>\n",
       "    </tr>\n",
       "  </tbody>\n",
       "</table>\n",
       "</div>"
      ],
      "text/plain": [
       "  country  year  GovExpend  Consumption   Exports   Imports       GDP\n",
       "0  Canada  2017   0.372665     1.095475  0.582831  0.600031  1.868164\n",
       "1  Canada  2016   0.364899     1.058426  0.576394  0.575775  1.814016\n",
       "2  Canada  2015   0.358303     1.035208  0.568859  0.575793  1.794270\n",
       "3  Canada  2014   0.353485     1.011988  0.550323  0.572344  1.782252\n",
       "4  Canada  2013   0.351541     0.986400  0.518040  0.558636  1.732714"
      ]
     },
     "execution_count": 392,
     "metadata": {},
     "output_type": "execute_result"
    }
   ],
   "source": [
    "url = \"https://datascience.quantecon.org/assets/data/wdi_data.csv\"\n",
    "df = pd.read_csv(url)\n",
    "\n",
    "df_small = df.head(5)\n",
    "df_small"
   ]
  },
  {
   "cell_type": "markdown",
   "id": "dc28532e",
   "metadata": {},
   "source": [
    "Here we select only some rows"
   ]
  },
  {
   "cell_type": "code",
   "execution_count": 393,
   "id": "97213dda",
   "metadata": {
    "scrolled": true
   },
   "outputs": [
    {
     "data": {
      "text/html": [
       "<div>\n",
       "<style scoped>\n",
       "    .dataframe tbody tr th:only-of-type {\n",
       "        vertical-align: middle;\n",
       "    }\n",
       "\n",
       "    .dataframe tbody tr th {\n",
       "        vertical-align: top;\n",
       "    }\n",
       "\n",
       "    .dataframe thead th {\n",
       "        text-align: right;\n",
       "    }\n",
       "</style>\n",
       "<table border=\"1\" class=\"dataframe\">\n",
       "  <thead>\n",
       "    <tr style=\"text-align: right;\">\n",
       "      <th></th>\n",
       "      <th>country</th>\n",
       "      <th>year</th>\n",
       "      <th>GovExpend</th>\n",
       "      <th>Consumption</th>\n",
       "      <th>Exports</th>\n",
       "      <th>Imports</th>\n",
       "      <th>GDP</th>\n",
       "    </tr>\n",
       "  </thead>\n",
       "  <tbody>\n",
       "    <tr>\n",
       "      <th>3</th>\n",
       "      <td>Canada</td>\n",
       "      <td>2014</td>\n",
       "      <td>0.353485</td>\n",
       "      <td>1.011988</td>\n",
       "      <td>0.550323</td>\n",
       "      <td>0.572344</td>\n",
       "      <td>1.782252</td>\n",
       "    </tr>\n",
       "    <tr>\n",
       "      <th>2</th>\n",
       "      <td>Canada</td>\n",
       "      <td>2015</td>\n",
       "      <td>0.358303</td>\n",
       "      <td>1.035208</td>\n",
       "      <td>0.568859</td>\n",
       "      <td>0.575793</td>\n",
       "      <td>1.794270</td>\n",
       "    </tr>\n",
       "    <tr>\n",
       "      <th>4</th>\n",
       "      <td>Canada</td>\n",
       "      <td>2013</td>\n",
       "      <td>0.351541</td>\n",
       "      <td>0.986400</td>\n",
       "      <td>0.518040</td>\n",
       "      <td>0.558636</td>\n",
       "      <td>1.732714</td>\n",
       "    </tr>\n",
       "  </tbody>\n",
       "</table>\n",
       "</div>"
      ],
      "text/plain": [
       "  country  year  GovExpend  Consumption   Exports   Imports       GDP\n",
       "3  Canada  2014   0.353485     1.011988  0.550323  0.572344  1.782252\n",
       "2  Canada  2015   0.358303     1.035208  0.568859  0.575793  1.794270\n",
       "4  Canada  2013   0.351541     0.986400  0.518040  0.558636  1.732714"
      ]
     },
     "execution_count": 393,
     "metadata": {},
     "output_type": "execute_result"
    }
   ],
   "source": [
    "df_tiny = df.iloc[[3, 2, 4], :] # notice we not only selected a subset of df_small, but we also changed the order\n",
    "df_tiny"
   ]
  },
  {
   "cell_type": "markdown",
   "id": "999782e1",
   "metadata": {},
   "source": [
    "Notice how the indexing remained the same even though the order of the rows changed. \n",
    "\n",
    "Now, we select only some columns."
   ]
  },
  {
   "cell_type": "code",
   "execution_count": 394,
   "id": "423a42ba",
   "metadata": {
    "scrolled": true
   },
   "outputs": [
    {
     "data": {
      "text/html": [
       "<div>\n",
       "<style scoped>\n",
       "    .dataframe tbody tr th:only-of-type {\n",
       "        vertical-align: middle;\n",
       "    }\n",
       "\n",
       "    .dataframe tbody tr th {\n",
       "        vertical-align: top;\n",
       "    }\n",
       "\n",
       "    .dataframe thead th {\n",
       "        text-align: right;\n",
       "    }\n",
       "</style>\n",
       "<table border=\"1\" class=\"dataframe\">\n",
       "  <thead>\n",
       "    <tr style=\"text-align: right;\">\n",
       "      <th></th>\n",
       "      <th>Imports</th>\n",
       "      <th>Exports</th>\n",
       "    </tr>\n",
       "  </thead>\n",
       "  <tbody>\n",
       "    <tr>\n",
       "      <th>0</th>\n",
       "      <td>0.600031</td>\n",
       "      <td>0.582831</td>\n",
       "    </tr>\n",
       "    <tr>\n",
       "      <th>1</th>\n",
       "      <td>0.575775</td>\n",
       "      <td>0.576394</td>\n",
       "    </tr>\n",
       "    <tr>\n",
       "      <th>2</th>\n",
       "      <td>0.575793</td>\n",
       "      <td>0.568859</td>\n",
       "    </tr>\n",
       "    <tr>\n",
       "      <th>3</th>\n",
       "      <td>0.572344</td>\n",
       "      <td>0.550323</td>\n",
       "    </tr>\n",
       "    <tr>\n",
       "      <th>4</th>\n",
       "      <td>0.558636</td>\n",
       "      <td>0.518040</td>\n",
       "    </tr>\n",
       "  </tbody>\n",
       "</table>\n",
       "</div>"
      ],
      "text/plain": [
       "    Imports   Exports\n",
       "0  0.600031  0.582831\n",
       "1  0.575775  0.576394\n",
       "2  0.575793  0.568859\n",
       "3  0.572344  0.550323\n",
       "4  0.558636  0.518040"
      ]
     },
     "execution_count": 394,
     "metadata": {},
     "output_type": "execute_result"
    }
   ],
   "source": [
    "im_ex = df_small[[\"Imports\", \"Exports\"]]\n",
    "im_ex"
   ]
  },
  {
   "cell_type": "code",
   "execution_count": 395,
   "id": "2b6d2297",
   "metadata": {
    "scrolled": true
   },
   "outputs": [
    {
     "data": {
      "text/html": [
       "<div>\n",
       "<style scoped>\n",
       "    .dataframe tbody tr th:only-of-type {\n",
       "        vertical-align: middle;\n",
       "    }\n",
       "\n",
       "    .dataframe tbody tr th {\n",
       "        vertical-align: top;\n",
       "    }\n",
       "\n",
       "    .dataframe thead th {\n",
       "        text-align: right;\n",
       "    }\n",
       "</style>\n",
       "<table border=\"1\" class=\"dataframe\">\n",
       "  <thead>\n",
       "    <tr style=\"text-align: right;\">\n",
       "      <th></th>\n",
       "      <th>Consumption</th>\n",
       "      <th>Exports</th>\n",
       "      <th>GDP</th>\n",
       "      <th>GovExpend</th>\n",
       "      <th>Imports</th>\n",
       "      <th>country</th>\n",
       "      <th>year</th>\n",
       "    </tr>\n",
       "  </thead>\n",
       "  <tbody>\n",
       "    <tr>\n",
       "      <th>0</th>\n",
       "      <td>NaN</td>\n",
       "      <td>NaN</td>\n",
       "      <td>NaN</td>\n",
       "      <td>NaN</td>\n",
       "      <td>NaN</td>\n",
       "      <td>NaN</td>\n",
       "      <td>NaN</td>\n",
       "    </tr>\n",
       "    <tr>\n",
       "      <th>1</th>\n",
       "      <td>NaN</td>\n",
       "      <td>NaN</td>\n",
       "      <td>NaN</td>\n",
       "      <td>NaN</td>\n",
       "      <td>NaN</td>\n",
       "      <td>NaN</td>\n",
       "      <td>NaN</td>\n",
       "    </tr>\n",
       "    <tr>\n",
       "      <th>2</th>\n",
       "      <td>NaN</td>\n",
       "      <td>1.137718</td>\n",
       "      <td>NaN</td>\n",
       "      <td>NaN</td>\n",
       "      <td>1.151585</td>\n",
       "      <td>NaN</td>\n",
       "      <td>NaN</td>\n",
       "    </tr>\n",
       "    <tr>\n",
       "      <th>3</th>\n",
       "      <td>NaN</td>\n",
       "      <td>1.100646</td>\n",
       "      <td>NaN</td>\n",
       "      <td>NaN</td>\n",
       "      <td>1.144688</td>\n",
       "      <td>NaN</td>\n",
       "      <td>NaN</td>\n",
       "    </tr>\n",
       "    <tr>\n",
       "      <th>4</th>\n",
       "      <td>NaN</td>\n",
       "      <td>1.036081</td>\n",
       "      <td>NaN</td>\n",
       "      <td>NaN</td>\n",
       "      <td>1.117272</td>\n",
       "      <td>NaN</td>\n",
       "      <td>NaN</td>\n",
       "    </tr>\n",
       "  </tbody>\n",
       "</table>\n",
       "</div>"
      ],
      "text/plain": [
       "   Consumption   Exports  GDP  GovExpend   Imports  country  year\n",
       "0          NaN       NaN  NaN        NaN       NaN      NaN   NaN\n",
       "1          NaN       NaN  NaN        NaN       NaN      NaN   NaN\n",
       "2          NaN  1.137718  NaN        NaN  1.151585      NaN   NaN\n",
       "3          NaN  1.100646  NaN        NaN  1.144688      NaN   NaN\n",
       "4          NaN  1.036081  NaN        NaN  1.117272      NaN   NaN"
      ]
     },
     "execution_count": 395,
     "metadata": {},
     "output_type": "execute_result"
    }
   ],
   "source": [
    "im_ex + df_tiny # what does adding these two dataframes do?"
   ]
  },
  {
   "cell_type": "markdown",
   "id": "484ee0cc",
   "metadata": {},
   "source": [
    "**Importance:** Even though our data got reordered, and we lost some columns, our element-wise addition is still doing what we want because the indexing is consistent across all objects made from the original DataFrame. The NaNs mean one or more of the dataframes was missing those indices."
   ]
  },
  {
   "cell_type": "markdown",
   "id": "eda7a8a0",
   "metadata": {},
   "source": [
    "### Reading and Writing Data\n",
    "A good way of handling data, so that you and others can easily replicate results, is to have a file dedicated to cleaning the raw data without ever actually editing the original raw data.\n",
    "1. Load Raw Data into Python as Pandas DataFrame\n",
    "2. Use Pandas operations to clean and aggregate data as needed\n",
    "3. Save cleaned data as a **new file** \n",
    "4. Create a separate Python script for analysis that uses the cleaned data file.\n",
    "\n",
    "Doing this obviously requires being able to load and save data. Usually, you will be loading data directly into a DataFrame object and saving it directly from a DataFrame object."
   ]
  },
  {
   "cell_type": "code",
   "execution_count": 396,
   "id": "100b0aba",
   "metadata": {},
   "outputs": [],
   "source": [
    "df_tiny.to_csv(\"df_tiny.csv\") # Save df tiny to working directory as a .csv\n",
    "# You generally want to include file extension!"
   ]
  },
  {
   "cell_type": "code",
   "execution_count": 397,
   "id": "3213c68e",
   "metadata": {
    "scrolled": true
   },
   "outputs": [
    {
     "data": {
      "text/html": [
       "<div>\n",
       "<style scoped>\n",
       "    .dataframe tbody tr th:only-of-type {\n",
       "        vertical-align: middle;\n",
       "    }\n",
       "\n",
       "    .dataframe tbody tr th {\n",
       "        vertical-align: top;\n",
       "    }\n",
       "\n",
       "    .dataframe thead th {\n",
       "        text-align: right;\n",
       "    }\n",
       "</style>\n",
       "<table border=\"1\" class=\"dataframe\">\n",
       "  <thead>\n",
       "    <tr style=\"text-align: right;\">\n",
       "      <th></th>\n",
       "      <th>Unnamed: 0</th>\n",
       "      <th>country</th>\n",
       "      <th>year</th>\n",
       "      <th>GovExpend</th>\n",
       "      <th>Consumption</th>\n",
       "      <th>Exports</th>\n",
       "      <th>Imports</th>\n",
       "      <th>GDP</th>\n",
       "    </tr>\n",
       "  </thead>\n",
       "  <tbody>\n",
       "    <tr>\n",
       "      <th>0</th>\n",
       "      <td>3</td>\n",
       "      <td>Canada</td>\n",
       "      <td>2014</td>\n",
       "      <td>0.353485</td>\n",
       "      <td>1.011988</td>\n",
       "      <td>0.550323</td>\n",
       "      <td>0.572344</td>\n",
       "      <td>1.782252</td>\n",
       "    </tr>\n",
       "    <tr>\n",
       "      <th>1</th>\n",
       "      <td>2</td>\n",
       "      <td>Canada</td>\n",
       "      <td>2015</td>\n",
       "      <td>0.358303</td>\n",
       "      <td>1.035208</td>\n",
       "      <td>0.568859</td>\n",
       "      <td>0.575793</td>\n",
       "      <td>1.794270</td>\n",
       "    </tr>\n",
       "    <tr>\n",
       "      <th>2</th>\n",
       "      <td>4</td>\n",
       "      <td>Canada</td>\n",
       "      <td>2013</td>\n",
       "      <td>0.351541</td>\n",
       "      <td>0.986400</td>\n",
       "      <td>0.518040</td>\n",
       "      <td>0.558636</td>\n",
       "      <td>1.732714</td>\n",
       "    </tr>\n",
       "  </tbody>\n",
       "</table>\n",
       "</div>"
      ],
      "text/plain": [
       "   Unnamed: 0 country  year  GovExpend  Consumption   Exports   Imports  \\\n",
       "0           3  Canada  2014   0.353485     1.011988  0.550323  0.572344   \n",
       "1           2  Canada  2015   0.358303     1.035208  0.568859  0.575793   \n",
       "2           4  Canada  2013   0.351541     0.986400  0.518040  0.558636   \n",
       "\n",
       "        GDP  \n",
       "0  1.782252  \n",
       "1  1.794270  \n",
       "2  1.732714  "
      ]
     },
     "execution_count": 397,
     "metadata": {},
     "output_type": "execute_result"
    }
   ],
   "source": [
    "df_tiny_redux = pd.read_csv(\"df_tiny.csv\") # Load it again\n",
    "df_tiny_redux # note indices are different"
   ]
  },
  {
   "cell_type": "code",
   "execution_count": 398,
   "id": "a06cd37c",
   "metadata": {
    "scrolled": true
   },
   "outputs": [
    {
     "data": {
      "text/html": [
       "<div>\n",
       "<style scoped>\n",
       "    .dataframe tbody tr th:only-of-type {\n",
       "        vertical-align: middle;\n",
       "    }\n",
       "\n",
       "    .dataframe tbody tr th {\n",
       "        vertical-align: top;\n",
       "    }\n",
       "\n",
       "    .dataframe thead th {\n",
       "        text-align: right;\n",
       "    }\n",
       "</style>\n",
       "<table border=\"1\" class=\"dataframe\">\n",
       "  <thead>\n",
       "    <tr style=\"text-align: right;\">\n",
       "      <th></th>\n",
       "      <th>country</th>\n",
       "      <th>year</th>\n",
       "      <th>GovExpend</th>\n",
       "      <th>Consumption</th>\n",
       "      <th>Exports</th>\n",
       "      <th>Imports</th>\n",
       "      <th>GDP</th>\n",
       "    </tr>\n",
       "  </thead>\n",
       "  <tbody>\n",
       "    <tr>\n",
       "      <th>3</th>\n",
       "      <td>Canada</td>\n",
       "      <td>2014</td>\n",
       "      <td>0.353485</td>\n",
       "      <td>1.011988</td>\n",
       "      <td>0.550323</td>\n",
       "      <td>0.572344</td>\n",
       "      <td>1.782252</td>\n",
       "    </tr>\n",
       "    <tr>\n",
       "      <th>2</th>\n",
       "      <td>Canada</td>\n",
       "      <td>2015</td>\n",
       "      <td>0.358303</td>\n",
       "      <td>1.035208</td>\n",
       "      <td>0.568859</td>\n",
       "      <td>0.575793</td>\n",
       "      <td>1.794270</td>\n",
       "    </tr>\n",
       "    <tr>\n",
       "      <th>4</th>\n",
       "      <td>Canada</td>\n",
       "      <td>2013</td>\n",
       "      <td>0.351541</td>\n",
       "      <td>0.986400</td>\n",
       "      <td>0.518040</td>\n",
       "      <td>0.558636</td>\n",
       "      <td>1.732714</td>\n",
       "    </tr>\n",
       "  </tbody>\n",
       "</table>\n",
       "</div>"
      ],
      "text/plain": [
       "  country  year  GovExpend  Consumption   Exports   Imports       GDP\n",
       "3  Canada  2014   0.353485     1.011988  0.550323  0.572344  1.782252\n",
       "2  Canada  2015   0.358303     1.035208  0.568859  0.575793  1.794270\n",
       "4  Canada  2013   0.351541     0.986400  0.518040  0.558636  1.732714"
      ]
     },
     "execution_count": 398,
     "metadata": {},
     "output_type": "execute_result"
    }
   ],
   "source": [
    "df_tiny_redux = pd.read_csv(\"df_tiny.csv\", index_col = 0) # luckily we have an easy way to reload index column\n",
    "df_tiny_redux"
   ]
  },
  {
   "cell_type": "markdown",
   "id": "e49526e6",
   "metadata": {},
   "source": [
    "### Dropping Missing Data (extra material)\n",
    "The most natural thing to do for missing data is to drop it when performing the final analysis as you cannot perform numeric options on `NA` or `NaN` This, however, comes with its own issues. Consider estimating the height of men in the US. Say we solicit 500 random people to volunteer their heights via email. "
   ]
  },
  {
   "cell_type": "code",
   "execution_count": 399,
   "id": "2889ff71",
   "metadata": {
    "scrolled": true
   },
   "outputs": [
    {
     "data": {
      "text/plain": [
       "70.08346787019472"
      ]
     },
     "execution_count": 399,
     "metadata": {},
     "output_type": "execute_result"
    }
   ],
   "source": [
    "full_height_sample = np.random.normal(70, 3, 500)\n",
    "full_height_sample.mean() # Taking the mean gives us a very close number"
   ]
  },
  {
   "cell_type": "markdown",
   "id": "eb3791e5",
   "metadata": {},
   "source": [
    "Now imagine 200 people don't get back to us because they don't check those emails anymore (a reason presumably unrelated to their height)"
   ]
  },
  {
   "cell_type": "code",
   "execution_count": 400,
   "id": "af86eb84",
   "metadata": {},
   "outputs": [
    {
     "name": "stdout",
     "output_type": "stream",
     "text": [
      "300\n"
     ]
    },
    {
     "data": {
      "text/plain": [
       "69.94399207946189"
      ]
     },
     "execution_count": 400,
     "metadata": {},
     "output_type": "execute_result"
    }
   ],
   "source": [
    "email_issue_sample = np.random.choice(full_height_sample,  300, replace = False)\n",
    "print(len(email_issue_sample))\n",
    "email_issue_sample.mean()"
   ]
  },
  {
   "cell_type": "markdown",
   "id": "6ae25bca",
   "metadata": {},
   "source": [
    "Note how this is close to the true mean of $70$ which we would expect due the LLN and the fact that an individual sample is missing for reasons unrelated to that individual's height.\n",
    "\n",
    "What if, however, the website for a store that makes clothes for tall people was recently hacked, and their customers had to change their emails. In this theoretical world, the probability of nonresponse is higher for tall people than it is for shorter people!"
   ]
  },
  {
   "cell_type": "code",
   "execution_count": 401,
   "id": "cecd4dfa",
   "metadata": {},
   "outputs": [
    {
     "data": {
      "text/plain": [
       "69.45487238774176"
      ]
     },
     "execution_count": 401,
     "metadata": {},
     "output_type": "execute_result"
    }
   ],
   "source": [
    "full_height_sample.sort()\n",
    "weights = (1/(20*full_height_sample**10))/sum((1/(20*full_height_sample**10))) # weights such that taller people less likely to respond\n",
    "email_issue_sample_h = np.random.choice(full_height_sample,  300, replace = False, p = weights)\n",
    "\n",
    "email_issue_sample_h.mean()"
   ]
  },
  {
   "cell_type": "markdown",
   "id": "51cf76bf",
   "metadata": {},
   "source": [
    "If you run the above cell many times, you can see this now biases our estimate for the average height of US males below 70 because people who are taller are less likely to respond. When the missingness of a variable is correlated with the variable itself, estimates obtained after dropping missing data are generally not reliable measures of true population values (in this case, our estimate of the average height of US men is not a good measure of the average height of all US men). "
   ]
  },
  {
   "cell_type": "markdown",
   "id": "febbc06a",
   "metadata": {},
   "source": [
    "### Tidy Data\n",
    "How you choose to reshape your should heavily depend on what your unit of analysis is. That is, you want your data to be tidy. As discussed in the QuanEcon lectures, tidy data entails that\n",
    "\n",
    "\"Each variable forms a column.\\\n",
    "Each observation forms a row.\\\n",
    "Each type of observational unit forms a table.\"\n",
    "\n",
    "With this in mind, we again consider the following wdi data."
   ]
  },
  {
   "cell_type": "code",
   "execution_count": 402,
   "id": "fefbf93c",
   "metadata": {
    "scrolled": true
   },
   "outputs": [
    {
     "data": {
      "text/html": [
       "<div>\n",
       "<style scoped>\n",
       "    .dataframe tbody tr th:only-of-type {\n",
       "        vertical-align: middle;\n",
       "    }\n",
       "\n",
       "    .dataframe tbody tr th {\n",
       "        vertical-align: top;\n",
       "    }\n",
       "\n",
       "    .dataframe thead th {\n",
       "        text-align: right;\n",
       "    }\n",
       "</style>\n",
       "<table border=\"1\" class=\"dataframe\">\n",
       "  <thead>\n",
       "    <tr style=\"text-align: right;\">\n",
       "      <th></th>\n",
       "      <th>country</th>\n",
       "      <th>year</th>\n",
       "      <th>GovExpend</th>\n",
       "      <th>Consumption</th>\n",
       "      <th>Exports</th>\n",
       "      <th>Imports</th>\n",
       "      <th>GDP</th>\n",
       "    </tr>\n",
       "  </thead>\n",
       "  <tbody>\n",
       "    <tr>\n",
       "      <th>67</th>\n",
       "      <td>United States</td>\n",
       "      <td>2004</td>\n",
       "      <td>2.267999</td>\n",
       "      <td>9.311431</td>\n",
       "      <td>1.335978</td>\n",
       "      <td>2.108585</td>\n",
       "      <td>13.846058</td>\n",
       "    </tr>\n",
       "    <tr>\n",
       "      <th>68</th>\n",
       "      <td>United States</td>\n",
       "      <td>2003</td>\n",
       "      <td>2.233519</td>\n",
       "      <td>8.974708</td>\n",
       "      <td>1.218199</td>\n",
       "      <td>1.892825</td>\n",
       "      <td>13.339312</td>\n",
       "    </tr>\n",
       "    <tr>\n",
       "      <th>69</th>\n",
       "      <td>United States</td>\n",
       "      <td>2002</td>\n",
       "      <td>2.193188</td>\n",
       "      <td>8.698306</td>\n",
       "      <td>1.192180</td>\n",
       "      <td>1.804105</td>\n",
       "      <td>12.968263</td>\n",
       "    </tr>\n",
       "    <tr>\n",
       "      <th>70</th>\n",
       "      <td>United States</td>\n",
       "      <td>2001</td>\n",
       "      <td>2.112038</td>\n",
       "      <td>8.480461</td>\n",
       "      <td>1.213253</td>\n",
       "      <td>1.740797</td>\n",
       "      <td>12.746262</td>\n",
       "    </tr>\n",
       "    <tr>\n",
       "      <th>71</th>\n",
       "      <td>United States</td>\n",
       "      <td>2000</td>\n",
       "      <td>2.040500</td>\n",
       "      <td>8.272097</td>\n",
       "      <td>1.287739</td>\n",
       "      <td>1.790995</td>\n",
       "      <td>12.620268</td>\n",
       "    </tr>\n",
       "  </tbody>\n",
       "</table>\n",
       "</div>"
      ],
      "text/plain": [
       "          country  year  GovExpend  Consumption   Exports   Imports        GDP\n",
       "67  United States  2004   2.267999     9.311431  1.335978  2.108585  13.846058\n",
       "68  United States  2003   2.233519     8.974708  1.218199  1.892825  13.339312\n",
       "69  United States  2002   2.193188     8.698306  1.192180  1.804105  12.968263\n",
       "70  United States  2001   2.112038     8.480461  1.213253  1.740797  12.746262\n",
       "71  United States  2000   2.040500     8.272097  1.287739  1.790995  12.620268"
      ]
     },
     "execution_count": 402,
     "metadata": {},
     "output_type": "execute_result"
    }
   ],
   "source": [
    "url = \"https://datascience.quantecon.org/assets/data/wdi_data.csv\"\n",
    "df = pd.read_csv(url)\n",
    "df.tail()"
   ]
  },
  {
   "cell_type": "markdown",
   "id": "24b28b7d",
   "metadata": {},
   "source": [
    "If our unit of observation is a country-year, like it might be for a regression analysis, the data is in the tidy form. A country-year is a row, and all of the other variables constituite variables associated with that country-year (e.g. consumption in that country during that year). For instance, we could easily obtain gov't share of GDP expenditure in a given year as:"
   ]
  },
  {
   "cell_type": "code",
   "execution_count": 403,
   "id": "143ddb3f",
   "metadata": {
    "scrolled": false
   },
   "outputs": [
    {
     "data": {
      "text/html": [
       "<div>\n",
       "<style scoped>\n",
       "    .dataframe tbody tr th:only-of-type {\n",
       "        vertical-align: middle;\n",
       "    }\n",
       "\n",
       "    .dataframe tbody tr th {\n",
       "        vertical-align: top;\n",
       "    }\n",
       "\n",
       "    .dataframe thead th {\n",
       "        text-align: right;\n",
       "    }\n",
       "</style>\n",
       "<table border=\"1\" class=\"dataframe\">\n",
       "  <thead>\n",
       "    <tr style=\"text-align: right;\">\n",
       "      <th></th>\n",
       "      <th>country</th>\n",
       "      <th>year</th>\n",
       "      <th>GovExpend</th>\n",
       "      <th>Consumption</th>\n",
       "      <th>Exports</th>\n",
       "      <th>Imports</th>\n",
       "      <th>GDP</th>\n",
       "      <th>gov_share_GDP</th>\n",
       "    </tr>\n",
       "  </thead>\n",
       "  <tbody>\n",
       "    <tr>\n",
       "      <th>0</th>\n",
       "      <td>Canada</td>\n",
       "      <td>2017</td>\n",
       "      <td>0.372665</td>\n",
       "      <td>1.095475</td>\n",
       "      <td>0.582831</td>\n",
       "      <td>0.600031</td>\n",
       "      <td>1.868164</td>\n",
       "      <td>0.199482</td>\n",
       "    </tr>\n",
       "    <tr>\n",
       "      <th>1</th>\n",
       "      <td>Canada</td>\n",
       "      <td>2016</td>\n",
       "      <td>0.364899</td>\n",
       "      <td>1.058426</td>\n",
       "      <td>0.576394</td>\n",
       "      <td>0.575775</td>\n",
       "      <td>1.814016</td>\n",
       "      <td>0.201156</td>\n",
       "    </tr>\n",
       "    <tr>\n",
       "      <th>2</th>\n",
       "      <td>Canada</td>\n",
       "      <td>2015</td>\n",
       "      <td>0.358303</td>\n",
       "      <td>1.035208</td>\n",
       "      <td>0.568859</td>\n",
       "      <td>0.575793</td>\n",
       "      <td>1.794270</td>\n",
       "      <td>0.199693</td>\n",
       "    </tr>\n",
       "    <tr>\n",
       "      <th>3</th>\n",
       "      <td>Canada</td>\n",
       "      <td>2014</td>\n",
       "      <td>0.353485</td>\n",
       "      <td>1.011988</td>\n",
       "      <td>0.550323</td>\n",
       "      <td>0.572344</td>\n",
       "      <td>1.782252</td>\n",
       "      <td>0.198336</td>\n",
       "    </tr>\n",
       "    <tr>\n",
       "      <th>4</th>\n",
       "      <td>Canada</td>\n",
       "      <td>2013</td>\n",
       "      <td>0.351541</td>\n",
       "      <td>0.986400</td>\n",
       "      <td>0.518040</td>\n",
       "      <td>0.558636</td>\n",
       "      <td>1.732714</td>\n",
       "      <td>0.202885</td>\n",
       "    </tr>\n",
       "    <tr>\n",
       "      <th>...</th>\n",
       "      <td>...</td>\n",
       "      <td>...</td>\n",
       "      <td>...</td>\n",
       "      <td>...</td>\n",
       "      <td>...</td>\n",
       "      <td>...</td>\n",
       "      <td>...</td>\n",
       "      <td>...</td>\n",
       "    </tr>\n",
       "    <tr>\n",
       "      <th>67</th>\n",
       "      <td>United States</td>\n",
       "      <td>2004</td>\n",
       "      <td>2.267999</td>\n",
       "      <td>9.311431</td>\n",
       "      <td>1.335978</td>\n",
       "      <td>2.108585</td>\n",
       "      <td>13.846058</td>\n",
       "      <td>0.163801</td>\n",
       "    </tr>\n",
       "    <tr>\n",
       "      <th>68</th>\n",
       "      <td>United States</td>\n",
       "      <td>2003</td>\n",
       "      <td>2.233519</td>\n",
       "      <td>8.974708</td>\n",
       "      <td>1.218199</td>\n",
       "      <td>1.892825</td>\n",
       "      <td>13.339312</td>\n",
       "      <td>0.167439</td>\n",
       "    </tr>\n",
       "    <tr>\n",
       "      <th>69</th>\n",
       "      <td>United States</td>\n",
       "      <td>2002</td>\n",
       "      <td>2.193188</td>\n",
       "      <td>8.698306</td>\n",
       "      <td>1.192180</td>\n",
       "      <td>1.804105</td>\n",
       "      <td>12.968263</td>\n",
       "      <td>0.169120</td>\n",
       "    </tr>\n",
       "    <tr>\n",
       "      <th>70</th>\n",
       "      <td>United States</td>\n",
       "      <td>2001</td>\n",
       "      <td>2.112038</td>\n",
       "      <td>8.480461</td>\n",
       "      <td>1.213253</td>\n",
       "      <td>1.740797</td>\n",
       "      <td>12.746262</td>\n",
       "      <td>0.165699</td>\n",
       "    </tr>\n",
       "    <tr>\n",
       "      <th>71</th>\n",
       "      <td>United States</td>\n",
       "      <td>2000</td>\n",
       "      <td>2.040500</td>\n",
       "      <td>8.272097</td>\n",
       "      <td>1.287739</td>\n",
       "      <td>1.790995</td>\n",
       "      <td>12.620268</td>\n",
       "      <td>0.161684</td>\n",
       "    </tr>\n",
       "  </tbody>\n",
       "</table>\n",
       "<p>72 rows × 8 columns</p>\n",
       "</div>"
      ],
      "text/plain": [
       "          country  year  GovExpend  Consumption   Exports   Imports  \\\n",
       "0          Canada  2017   0.372665     1.095475  0.582831  0.600031   \n",
       "1          Canada  2016   0.364899     1.058426  0.576394  0.575775   \n",
       "2          Canada  2015   0.358303     1.035208  0.568859  0.575793   \n",
       "3          Canada  2014   0.353485     1.011988  0.550323  0.572344   \n",
       "4          Canada  2013   0.351541     0.986400  0.518040  0.558636   \n",
       "..            ...   ...        ...          ...       ...       ...   \n",
       "67  United States  2004   2.267999     9.311431  1.335978  2.108585   \n",
       "68  United States  2003   2.233519     8.974708  1.218199  1.892825   \n",
       "69  United States  2002   2.193188     8.698306  1.192180  1.804105   \n",
       "70  United States  2001   2.112038     8.480461  1.213253  1.740797   \n",
       "71  United States  2000   2.040500     8.272097  1.287739  1.790995   \n",
       "\n",
       "          GDP  gov_share_GDP  \n",
       "0    1.868164       0.199482  \n",
       "1    1.814016       0.201156  \n",
       "2    1.794270       0.199693  \n",
       "3    1.782252       0.198336  \n",
       "4    1.732714       0.202885  \n",
       "..        ...            ...  \n",
       "67  13.846058       0.163801  \n",
       "68  13.339312       0.167439  \n",
       "69  12.968263       0.169120  \n",
       "70  12.746262       0.165699  \n",
       "71  12.620268       0.161684  \n",
       "\n",
       "[72 rows x 8 columns]"
      ]
     },
     "execution_count": 403,
     "metadata": {},
     "output_type": "execute_result"
    }
   ],
   "source": [
    "df[\"gov_share_GDP\"] = df.loc[:,\"GovExpend\"] / df.loc[:,\"GDP\"]\n",
    "df"
   ]
  },
  {
   "cell_type": "markdown",
   "id": "d367785d",
   "metadata": {},
   "source": [
    "If, however, we want to plot the evolution of GDP over the years for each country, it might be easier to make the observations to be years:"
   ]
  },
  {
   "cell_type": "code",
   "execution_count": 404,
   "id": "2f915187",
   "metadata": {
    "scrolled": true
   },
   "outputs": [
    {
     "data": {
      "text/html": [
       "<div>\n",
       "<style scoped>\n",
       "    .dataframe tbody tr th:only-of-type {\n",
       "        vertical-align: middle;\n",
       "    }\n",
       "\n",
       "    .dataframe tbody tr th {\n",
       "        vertical-align: top;\n",
       "    }\n",
       "\n",
       "    .dataframe thead th {\n",
       "        text-align: right;\n",
       "    }\n",
       "</style>\n",
       "<table border=\"1\" class=\"dataframe\">\n",
       "  <thead>\n",
       "    <tr style=\"text-align: right;\">\n",
       "      <th></th>\n",
       "      <th>country</th>\n",
       "      <th>year</th>\n",
       "      <th>GDP</th>\n",
       "    </tr>\n",
       "  </thead>\n",
       "  <tbody>\n",
       "    <tr>\n",
       "      <th>0</th>\n",
       "      <td>Canada</td>\n",
       "      <td>2017</td>\n",
       "      <td>1.868164</td>\n",
       "    </tr>\n",
       "    <tr>\n",
       "      <th>1</th>\n",
       "      <td>Canada</td>\n",
       "      <td>2016</td>\n",
       "      <td>1.814016</td>\n",
       "    </tr>\n",
       "    <tr>\n",
       "      <th>2</th>\n",
       "      <td>Canada</td>\n",
       "      <td>2015</td>\n",
       "      <td>1.794270</td>\n",
       "    </tr>\n",
       "    <tr>\n",
       "      <th>3</th>\n",
       "      <td>Canada</td>\n",
       "      <td>2014</td>\n",
       "      <td>1.782252</td>\n",
       "    </tr>\n",
       "    <tr>\n",
       "      <th>4</th>\n",
       "      <td>Canada</td>\n",
       "      <td>2013</td>\n",
       "      <td>1.732714</td>\n",
       "    </tr>\n",
       "    <tr>\n",
       "      <th>...</th>\n",
       "      <td>...</td>\n",
       "      <td>...</td>\n",
       "      <td>...</td>\n",
       "    </tr>\n",
       "    <tr>\n",
       "      <th>67</th>\n",
       "      <td>United States</td>\n",
       "      <td>2004</td>\n",
       "      <td>13.846058</td>\n",
       "    </tr>\n",
       "    <tr>\n",
       "      <th>68</th>\n",
       "      <td>United States</td>\n",
       "      <td>2003</td>\n",
       "      <td>13.339312</td>\n",
       "    </tr>\n",
       "    <tr>\n",
       "      <th>69</th>\n",
       "      <td>United States</td>\n",
       "      <td>2002</td>\n",
       "      <td>12.968263</td>\n",
       "    </tr>\n",
       "    <tr>\n",
       "      <th>70</th>\n",
       "      <td>United States</td>\n",
       "      <td>2001</td>\n",
       "      <td>12.746262</td>\n",
       "    </tr>\n",
       "    <tr>\n",
       "      <th>71</th>\n",
       "      <td>United States</td>\n",
       "      <td>2000</td>\n",
       "      <td>12.620268</td>\n",
       "    </tr>\n",
       "  </tbody>\n",
       "</table>\n",
       "<p>72 rows × 3 columns</p>\n",
       "</div>"
      ],
      "text/plain": [
       "          country  year        GDP\n",
       "0          Canada  2017   1.868164\n",
       "1          Canada  2016   1.814016\n",
       "2          Canada  2015   1.794270\n",
       "3          Canada  2014   1.782252\n",
       "4          Canada  2013   1.732714\n",
       "..            ...   ...        ...\n",
       "67  United States  2004  13.846058\n",
       "68  United States  2003  13.339312\n",
       "69  United States  2002  12.968263\n",
       "70  United States  2001  12.746262\n",
       "71  United States  2000  12.620268\n",
       "\n",
       "[72 rows x 3 columns]"
      ]
     },
     "execution_count": 404,
     "metadata": {},
     "output_type": "execute_result"
    }
   ],
   "source": [
    "df_GDP = df.loc[:, [\"country\", \"year\", 'GDP']]\n",
    "df_GDP"
   ]
  },
  {
   "cell_type": "code",
   "execution_count": 405,
   "id": "fe7f9f30",
   "metadata": {},
   "outputs": [
    {
     "data": {
      "text/html": [
       "<div>\n",
       "<style scoped>\n",
       "    .dataframe tbody tr th:only-of-type {\n",
       "        vertical-align: middle;\n",
       "    }\n",
       "\n",
       "    .dataframe tbody tr th {\n",
       "        vertical-align: top;\n",
       "    }\n",
       "\n",
       "    .dataframe thead th {\n",
       "        text-align: right;\n",
       "    }\n",
       "</style>\n",
       "<table border=\"1\" class=\"dataframe\">\n",
       "  <thead>\n",
       "    <tr style=\"text-align: right;\">\n",
       "      <th>country</th>\n",
       "      <th>Canada</th>\n",
       "      <th>Germany</th>\n",
       "      <th>United Kingdom</th>\n",
       "      <th>United States</th>\n",
       "    </tr>\n",
       "    <tr>\n",
       "      <th>year</th>\n",
       "      <th></th>\n",
       "      <th></th>\n",
       "      <th></th>\n",
       "      <th></th>\n",
       "    </tr>\n",
       "  </thead>\n",
       "  <tbody>\n",
       "    <tr>\n",
       "      <th>2000</th>\n",
       "      <td>1.342805</td>\n",
       "      <td>3.123908</td>\n",
       "      <td>2.089877</td>\n",
       "      <td>12.620268</td>\n",
       "    </tr>\n",
       "    <tr>\n",
       "      <th>2001</th>\n",
       "      <td>1.366590</td>\n",
       "      <td>3.176873</td>\n",
       "      <td>2.149246</td>\n",
       "      <td>12.746262</td>\n",
       "    </tr>\n",
       "    <tr>\n",
       "      <th>2002</th>\n",
       "      <td>1.407725</td>\n",
       "      <td>3.176873</td>\n",
       "      <td>2.202971</td>\n",
       "      <td>12.968263</td>\n",
       "    </tr>\n",
       "    <tr>\n",
       "      <th>2003</th>\n",
       "      <td>1.433089</td>\n",
       "      <td>3.154320</td>\n",
       "      <td>2.276538</td>\n",
       "      <td>13.339312</td>\n",
       "    </tr>\n",
       "    <tr>\n",
       "      <th>2004</th>\n",
       "      <td>1.477317</td>\n",
       "      <td>3.191225</td>\n",
       "      <td>2.329987</td>\n",
       "      <td>13.846058</td>\n",
       "    </tr>\n",
       "    <tr>\n",
       "      <th>2005</th>\n",
       "      <td>1.524608</td>\n",
       "      <td>3.213777</td>\n",
       "      <td>2.403352</td>\n",
       "      <td>14.332500</td>\n",
       "    </tr>\n",
       "    <tr>\n",
       "      <th>2006</th>\n",
       "      <td>1.564608</td>\n",
       "      <td>3.332692</td>\n",
       "      <td>2.464591</td>\n",
       "      <td>14.741688</td>\n",
       "    </tr>\n",
       "    <tr>\n",
       "      <th>2007</th>\n",
       "      <td>1.596876</td>\n",
       "      <td>3.441356</td>\n",
       "      <td>2.527327</td>\n",
       "      <td>15.018268</td>\n",
       "    </tr>\n",
       "    <tr>\n",
       "      <th>2008</th>\n",
       "      <td>1.612862</td>\n",
       "      <td>3.478602</td>\n",
       "      <td>2.518585</td>\n",
       "      <td>14.997756</td>\n",
       "    </tr>\n",
       "    <tr>\n",
       "      <th>2009</th>\n",
       "      <td>1.565291</td>\n",
       "      <td>3.283144</td>\n",
       "      <td>2.411632</td>\n",
       "      <td>14.617299</td>\n",
       "    </tr>\n",
       "    <tr>\n",
       "      <th>2010</th>\n",
       "      <td>1.613543</td>\n",
       "      <td>3.417095</td>\n",
       "      <td>2.452900</td>\n",
       "      <td>14.992053</td>\n",
       "    </tr>\n",
       "    <tr>\n",
       "      <th>2011</th>\n",
       "      <td>1.664240</td>\n",
       "      <td>3.542160</td>\n",
       "      <td>2.493244</td>\n",
       "      <td>15.224555</td>\n",
       "    </tr>\n",
       "    <tr>\n",
       "      <th>2012</th>\n",
       "      <td>1.693428</td>\n",
       "      <td>3.559587</td>\n",
       "      <td>2.529323</td>\n",
       "      <td>15.567038</td>\n",
       "    </tr>\n",
       "    <tr>\n",
       "      <th>2013</th>\n",
       "      <td>1.732714</td>\n",
       "      <td>3.577015</td>\n",
       "      <td>2.581080</td>\n",
       "      <td>15.853796</td>\n",
       "    </tr>\n",
       "    <tr>\n",
       "      <th>2014</th>\n",
       "      <td>1.782252</td>\n",
       "      <td>3.654924</td>\n",
       "      <td>2.657159</td>\n",
       "      <td>16.242526</td>\n",
       "    </tr>\n",
       "    <tr>\n",
       "      <th>2015</th>\n",
       "      <td>1.794270</td>\n",
       "      <td>3.718482</td>\n",
       "      <td>2.719579</td>\n",
       "      <td>16.710459</td>\n",
       "    </tr>\n",
       "    <tr>\n",
       "      <th>2016</th>\n",
       "      <td>1.814016</td>\n",
       "      <td>3.801859</td>\n",
       "      <td>2.768241</td>\n",
       "      <td>16.972348</td>\n",
       "    </tr>\n",
       "    <tr>\n",
       "      <th>2017</th>\n",
       "      <td>1.868164</td>\n",
       "      <td>3.883870</td>\n",
       "      <td>2.818704</td>\n",
       "      <td>17.348627</td>\n",
       "    </tr>\n",
       "  </tbody>\n",
       "</table>\n",
       "</div>"
      ],
      "text/plain": [
       "country    Canada   Germany  United Kingdom  United States\n",
       "year                                                      \n",
       "2000     1.342805  3.123908        2.089877      12.620268\n",
       "2001     1.366590  3.176873        2.149246      12.746262\n",
       "2002     1.407725  3.176873        2.202971      12.968263\n",
       "2003     1.433089  3.154320        2.276538      13.339312\n",
       "2004     1.477317  3.191225        2.329987      13.846058\n",
       "2005     1.524608  3.213777        2.403352      14.332500\n",
       "2006     1.564608  3.332692        2.464591      14.741688\n",
       "2007     1.596876  3.441356        2.527327      15.018268\n",
       "2008     1.612862  3.478602        2.518585      14.997756\n",
       "2009     1.565291  3.283144        2.411632      14.617299\n",
       "2010     1.613543  3.417095        2.452900      14.992053\n",
       "2011     1.664240  3.542160        2.493244      15.224555\n",
       "2012     1.693428  3.559587        2.529323      15.567038\n",
       "2013     1.732714  3.577015        2.581080      15.853796\n",
       "2014     1.782252  3.654924        2.657159      16.242526\n",
       "2015     1.794270  3.718482        2.719579      16.710459\n",
       "2016     1.814016  3.801859        2.768241      16.972348\n",
       "2017     1.868164  3.883870        2.818704      17.348627"
      ]
     },
     "execution_count": 405,
     "metadata": {},
     "output_type": "execute_result"
    }
   ],
   "source": [
    "df_wide = df_GDP.pivot(index = \"year\", columns = \"country\", values = \"GDP\")\n",
    "df_wide  # We can see the data became less tall and wider \n"
   ]
  },
  {
   "cell_type": "code",
   "execution_count": 406,
   "id": "e93c97ec",
   "metadata": {
    "scrolled": false
   },
   "outputs": [
    {
     "data": {
      "text/plain": [
       "<AxesSubplot:xlabel='year'>"
      ]
     },
     "execution_count": 406,
     "metadata": {},
     "output_type": "execute_result"
    },
    {
     "data": {
      "image/png": "[encoded data removed]",
      "text/plain": [
       "<Figure size 640x480 with 1 Axes>"
      ]
     },
     "metadata": {},
     "output_type": "display_data"
    }
   ],
   "source": [
    "df_wide.plot()"
   ]
  },
  {
   "cell_type": "markdown",
   "id": "58cdb757",
   "metadata": {},
   "source": [
    "### Merging Datasets\n",
    "We will review the two types of data merging. \n",
    "\n",
    "### Concatenation\n",
    "First we have concatenation. Concatenation entails stacking two dataframes side-by-side or on top of eachother. In other languages, \n",
    "- Vertical concatenation requires the number of columns to be the same\n",
    "- Horizontal concatenation requres the number of rows to be the same\n",
    "\n",
    "Pandas does not require this as we can see below:"
   ]
  },
  {
   "cell_type": "code",
   "execution_count": 407,
   "id": "8a65a53a",
   "metadata": {},
   "outputs": [],
   "source": [
    "df_german = df_wide.loc[[2000, 2001, 2002], [\"Canada\", \"Germany\"]]\n",
    "df_uk = df_wide.loc[[2001, 2002, 2003], [\"Canada\", \"United Kingdom\"]]"
   ]
  },
  {
   "cell_type": "code",
   "execution_count": 408,
   "id": "f16307a2",
   "metadata": {
    "scrolled": true
   },
   "outputs": [
    {
     "data": {
      "text/html": [
       "<div>\n",
       "<style scoped>\n",
       "    .dataframe tbody tr th:only-of-type {\n",
       "        vertical-align: middle;\n",
       "    }\n",
       "\n",
       "    .dataframe tbody tr th {\n",
       "        vertical-align: top;\n",
       "    }\n",
       "\n",
       "    .dataframe thead th {\n",
       "        text-align: right;\n",
       "    }\n",
       "</style>\n",
       "<table border=\"1\" class=\"dataframe\">\n",
       "  <thead>\n",
       "    <tr style=\"text-align: right;\">\n",
       "      <th>country</th>\n",
       "      <th>Canada</th>\n",
       "      <th>Germany</th>\n",
       "      <th>United Kingdom</th>\n",
       "    </tr>\n",
       "    <tr>\n",
       "      <th>year</th>\n",
       "      <th></th>\n",
       "      <th></th>\n",
       "      <th></th>\n",
       "    </tr>\n",
       "  </thead>\n",
       "  <tbody>\n",
       "    <tr>\n",
       "      <th>2000</th>\n",
       "      <td>1.342805</td>\n",
       "      <td>3.123908</td>\n",
       "      <td>NaN</td>\n",
       "    </tr>\n",
       "    <tr>\n",
       "      <th>2001</th>\n",
       "      <td>1.366590</td>\n",
       "      <td>3.176873</td>\n",
       "      <td>NaN</td>\n",
       "    </tr>\n",
       "    <tr>\n",
       "      <th>2002</th>\n",
       "      <td>1.407725</td>\n",
       "      <td>3.176873</td>\n",
       "      <td>NaN</td>\n",
       "    </tr>\n",
       "    <tr>\n",
       "      <th>2001</th>\n",
       "      <td>1.366590</td>\n",
       "      <td>NaN</td>\n",
       "      <td>2.149246</td>\n",
       "    </tr>\n",
       "    <tr>\n",
       "      <th>2002</th>\n",
       "      <td>1.407725</td>\n",
       "      <td>NaN</td>\n",
       "      <td>2.202971</td>\n",
       "    </tr>\n",
       "    <tr>\n",
       "      <th>2003</th>\n",
       "      <td>1.433089</td>\n",
       "      <td>NaN</td>\n",
       "      <td>2.276538</td>\n",
       "    </tr>\n",
       "  </tbody>\n",
       "</table>\n",
       "</div>"
      ],
      "text/plain": [
       "country    Canada   Germany  United Kingdom\n",
       "year                                       \n",
       "2000     1.342805  3.123908             NaN\n",
       "2001     1.366590  3.176873             NaN\n",
       "2002     1.407725  3.176873             NaN\n",
       "2001     1.366590       NaN        2.149246\n",
       "2002     1.407725       NaN        2.202971\n",
       "2003     1.433089       NaN        2.276538"
      ]
     },
     "execution_count": 408,
     "metadata": {},
     "output_type": "execute_result"
    }
   ],
   "source": [
    "pd.concat([df_german, df_uk], axis = 0)"
   ]
  },
  {
   "cell_type": "code",
   "execution_count": 409,
   "id": "4dd68b86",
   "metadata": {
    "scrolled": false
   },
   "outputs": [
    {
     "data": {
      "text/html": [
       "<div>\n",
       "<style scoped>\n",
       "    .dataframe tbody tr th:only-of-type {\n",
       "        vertical-align: middle;\n",
       "    }\n",
       "\n",
       "    .dataframe tbody tr th {\n",
       "        vertical-align: top;\n",
       "    }\n",
       "\n",
       "    .dataframe thead th {\n",
       "        text-align: right;\n",
       "    }\n",
       "</style>\n",
       "<table border=\"1\" class=\"dataframe\">\n",
       "  <thead>\n",
       "    <tr style=\"text-align: right;\">\n",
       "      <th>country</th>\n",
       "      <th>Canada</th>\n",
       "      <th>Germany</th>\n",
       "      <th>Canada</th>\n",
       "      <th>United Kingdom</th>\n",
       "    </tr>\n",
       "    <tr>\n",
       "      <th>year</th>\n",
       "      <th></th>\n",
       "      <th></th>\n",
       "      <th></th>\n",
       "      <th></th>\n",
       "    </tr>\n",
       "  </thead>\n",
       "  <tbody>\n",
       "    <tr>\n",
       "      <th>2000</th>\n",
       "      <td>1.342805</td>\n",
       "      <td>3.123908</td>\n",
       "      <td>NaN</td>\n",
       "      <td>NaN</td>\n",
       "    </tr>\n",
       "    <tr>\n",
       "      <th>2001</th>\n",
       "      <td>1.366590</td>\n",
       "      <td>3.176873</td>\n",
       "      <td>1.366590</td>\n",
       "      <td>2.149246</td>\n",
       "    </tr>\n",
       "    <tr>\n",
       "      <th>2002</th>\n",
       "      <td>1.407725</td>\n",
       "      <td>3.176873</td>\n",
       "      <td>1.407725</td>\n",
       "      <td>2.202971</td>\n",
       "    </tr>\n",
       "    <tr>\n",
       "      <th>2003</th>\n",
       "      <td>NaN</td>\n",
       "      <td>NaN</td>\n",
       "      <td>1.433089</td>\n",
       "      <td>2.276538</td>\n",
       "    </tr>\n",
       "  </tbody>\n",
       "</table>\n",
       "</div>"
      ],
      "text/plain": [
       "country    Canada   Germany    Canada  United Kingdom\n",
       "year                                                 \n",
       "2000     1.342805  3.123908       NaN             NaN\n",
       "2001     1.366590  3.176873  1.366590        2.149246\n",
       "2002     1.407725  3.176873  1.407725        2.202971\n",
       "2003          NaN       NaN  1.433089        2.276538"
      ]
     },
     "execution_count": 409,
     "metadata": {},
     "output_type": "execute_result"
    }
   ],
   "source": [
    "pd.concat([df_german, df_uk], axis = 1)"
   ]
  },
  {
   "cell_type": "markdown",
   "id": "9d4722c1",
   "metadata": {},
   "source": [
    "Note when we concatenate vertically, it knows how to align observations based on column indices. Similarly, when we concatenate horizontally, it aligns observations based on row indices. "
   ]
  },
  {
   "cell_type": "markdown",
   "id": "7da9b16c",
   "metadata": {},
   "source": [
    "### Merge\n",
    "Merging is a bit more complicated than concatenation and requires choosing columns along which to match observations from two datasets. `pd.merge` is a more versatile version of `pd.join`, so understanding the former will make the latter easy to understand. While we will merge on the index (year in this case), `pd.merge` can be used to match data from two DataFrames on non-index variables.  Try and ascertain what each of the four different merge types (left, right, inner, outer) do by looking at the outputs below."
   ]
  },
  {
   "cell_type": "code",
   "execution_count": 410,
   "id": "18c0dc1e",
   "metadata": {
    "scrolled": true
   },
   "outputs": [
    {
     "data": {
      "text/html": [
       "<div>\n",
       "<style scoped>\n",
       "    .dataframe tbody tr th:only-of-type {\n",
       "        vertical-align: middle;\n",
       "    }\n",
       "\n",
       "    .dataframe tbody tr th {\n",
       "        vertical-align: top;\n",
       "    }\n",
       "\n",
       "    .dataframe thead th {\n",
       "        text-align: right;\n",
       "    }\n",
       "</style>\n",
       "<table border=\"1\" class=\"dataframe\">\n",
       "  <thead>\n",
       "    <tr style=\"text-align: right;\">\n",
       "      <th>country</th>\n",
       "      <th>Canada_x</th>\n",
       "      <th>Germany</th>\n",
       "      <th>Canada_y</th>\n",
       "      <th>United Kingdom</th>\n",
       "    </tr>\n",
       "    <tr>\n",
       "      <th>year</th>\n",
       "      <th></th>\n",
       "      <th></th>\n",
       "      <th></th>\n",
       "      <th></th>\n",
       "    </tr>\n",
       "  </thead>\n",
       "  <tbody>\n",
       "    <tr>\n",
       "      <th>2000</th>\n",
       "      <td>1.342805</td>\n",
       "      <td>3.123908</td>\n",
       "      <td>NaN</td>\n",
       "      <td>NaN</td>\n",
       "    </tr>\n",
       "    <tr>\n",
       "      <th>2001</th>\n",
       "      <td>1.366590</td>\n",
       "      <td>3.176873</td>\n",
       "      <td>1.366590</td>\n",
       "      <td>2.149246</td>\n",
       "    </tr>\n",
       "    <tr>\n",
       "      <th>2002</th>\n",
       "      <td>1.407725</td>\n",
       "      <td>3.176873</td>\n",
       "      <td>1.407725</td>\n",
       "      <td>2.202971</td>\n",
       "    </tr>\n",
       "  </tbody>\n",
       "</table>\n",
       "</div>"
      ],
      "text/plain": [
       "country  Canada_x   Germany  Canada_y  United Kingdom\n",
       "year                                                 \n",
       "2000     1.342805  3.123908       NaN             NaN\n",
       "2001     1.366590  3.176873  1.366590        2.149246\n",
       "2002     1.407725  3.176873  1.407725        2.202971"
      ]
     },
     "execution_count": 410,
     "metadata": {},
     "output_type": "execute_result"
    }
   ],
   "source": [
    "# Left Merge\n",
    "pd.merge(df_german, df_uk, on=\"year\", how=\"left\")"
   ]
  },
  {
   "cell_type": "code",
   "execution_count": 411,
   "id": "17a8ef9e",
   "metadata": {
    "scrolled": true
   },
   "outputs": [
    {
     "data": {
      "text/html": [
       "<div>\n",
       "<style scoped>\n",
       "    .dataframe tbody tr th:only-of-type {\n",
       "        vertical-align: middle;\n",
       "    }\n",
       "\n",
       "    .dataframe tbody tr th {\n",
       "        vertical-align: top;\n",
       "    }\n",
       "\n",
       "    .dataframe thead th {\n",
       "        text-align: right;\n",
       "    }\n",
       "</style>\n",
       "<table border=\"1\" class=\"dataframe\">\n",
       "  <thead>\n",
       "    <tr style=\"text-align: right;\">\n",
       "      <th>country</th>\n",
       "      <th>Canada_x</th>\n",
       "      <th>Germany</th>\n",
       "      <th>Canada_y</th>\n",
       "      <th>United Kingdom</th>\n",
       "    </tr>\n",
       "    <tr>\n",
       "      <th>year</th>\n",
       "      <th></th>\n",
       "      <th></th>\n",
       "      <th></th>\n",
       "      <th></th>\n",
       "    </tr>\n",
       "  </thead>\n",
       "  <tbody>\n",
       "    <tr>\n",
       "      <th>2001</th>\n",
       "      <td>1.366590</td>\n",
       "      <td>3.176873</td>\n",
       "      <td>1.366590</td>\n",
       "      <td>2.149246</td>\n",
       "    </tr>\n",
       "    <tr>\n",
       "      <th>2002</th>\n",
       "      <td>1.407725</td>\n",
       "      <td>3.176873</td>\n",
       "      <td>1.407725</td>\n",
       "      <td>2.202971</td>\n",
       "    </tr>\n",
       "    <tr>\n",
       "      <th>2003</th>\n",
       "      <td>NaN</td>\n",
       "      <td>NaN</td>\n",
       "      <td>1.433089</td>\n",
       "      <td>2.276538</td>\n",
       "    </tr>\n",
       "  </tbody>\n",
       "</table>\n",
       "</div>"
      ],
      "text/plain": [
       "country  Canada_x   Germany  Canada_y  United Kingdom\n",
       "year                                                 \n",
       "2001     1.366590  3.176873  1.366590        2.149246\n",
       "2002     1.407725  3.176873  1.407725        2.202971\n",
       "2003          NaN       NaN  1.433089        2.276538"
      ]
     },
     "execution_count": 411,
     "metadata": {},
     "output_type": "execute_result"
    }
   ],
   "source": [
    "# Right Join\n",
    "pd.merge(df_german, df_uk, on=\"year\", how=\"right\")"
   ]
  },
  {
   "cell_type": "code",
   "execution_count": 412,
   "id": "277c83d7",
   "metadata": {
    "scrolled": true
   },
   "outputs": [
    {
     "data": {
      "text/html": [
       "<div>\n",
       "<style scoped>\n",
       "    .dataframe tbody tr th:only-of-type {\n",
       "        vertical-align: middle;\n",
       "    }\n",
       "\n",
       "    .dataframe tbody tr th {\n",
       "        vertical-align: top;\n",
       "    }\n",
       "\n",
       "    .dataframe thead th {\n",
       "        text-align: right;\n",
       "    }\n",
       "</style>\n",
       "<table border=\"1\" class=\"dataframe\">\n",
       "  <thead>\n",
       "    <tr style=\"text-align: right;\">\n",
       "      <th>country</th>\n",
       "      <th>Canada_x</th>\n",
       "      <th>Germany</th>\n",
       "      <th>Canada_y</th>\n",
       "      <th>United Kingdom</th>\n",
       "    </tr>\n",
       "    <tr>\n",
       "      <th>year</th>\n",
       "      <th></th>\n",
       "      <th></th>\n",
       "      <th></th>\n",
       "      <th></th>\n",
       "    </tr>\n",
       "  </thead>\n",
       "  <tbody>\n",
       "    <tr>\n",
       "      <th>2001</th>\n",
       "      <td>1.366590</td>\n",
       "      <td>3.176873</td>\n",
       "      <td>1.366590</td>\n",
       "      <td>2.149246</td>\n",
       "    </tr>\n",
       "    <tr>\n",
       "      <th>2002</th>\n",
       "      <td>1.407725</td>\n",
       "      <td>3.176873</td>\n",
       "      <td>1.407725</td>\n",
       "      <td>2.202971</td>\n",
       "    </tr>\n",
       "  </tbody>\n",
       "</table>\n",
       "</div>"
      ],
      "text/plain": [
       "country  Canada_x   Germany  Canada_y  United Kingdom\n",
       "year                                                 \n",
       "2001     1.366590  3.176873  1.366590        2.149246\n",
       "2002     1.407725  3.176873  1.407725        2.202971"
      ]
     },
     "execution_count": 412,
     "metadata": {},
     "output_type": "execute_result"
    }
   ],
   "source": [
    "# Inner Join\n",
    "pd.merge(df_german, df_uk, on=\"year\", how=\"inner\")"
   ]
  },
  {
   "cell_type": "code",
   "execution_count": 413,
   "id": "1334b804",
   "metadata": {
    "scrolled": true
   },
   "outputs": [
    {
     "data": {
      "text/html": [
       "<div>\n",
       "<style scoped>\n",
       "    .dataframe tbody tr th:only-of-type {\n",
       "        vertical-align: middle;\n",
       "    }\n",
       "\n",
       "    .dataframe tbody tr th {\n",
       "        vertical-align: top;\n",
       "    }\n",
       "\n",
       "    .dataframe thead th {\n",
       "        text-align: right;\n",
       "    }\n",
       "</style>\n",
       "<table border=\"1\" class=\"dataframe\">\n",
       "  <thead>\n",
       "    <tr style=\"text-align: right;\">\n",
       "      <th>country</th>\n",
       "      <th>Canada_x</th>\n",
       "      <th>Germany</th>\n",
       "      <th>Canada_y</th>\n",
       "      <th>United Kingdom</th>\n",
       "    </tr>\n",
       "    <tr>\n",
       "      <th>year</th>\n",
       "      <th></th>\n",
       "      <th></th>\n",
       "      <th></th>\n",
       "      <th></th>\n",
       "    </tr>\n",
       "  </thead>\n",
       "  <tbody>\n",
       "    <tr>\n",
       "      <th>2000</th>\n",
       "      <td>1.342805</td>\n",
       "      <td>3.123908</td>\n",
       "      <td>NaN</td>\n",
       "      <td>NaN</td>\n",
       "    </tr>\n",
       "    <tr>\n",
       "      <th>2001</th>\n",
       "      <td>1.366590</td>\n",
       "      <td>3.176873</td>\n",
       "      <td>1.366590</td>\n",
       "      <td>2.149246</td>\n",
       "    </tr>\n",
       "    <tr>\n",
       "      <th>2002</th>\n",
       "      <td>1.407725</td>\n",
       "      <td>3.176873</td>\n",
       "      <td>1.407725</td>\n",
       "      <td>2.202971</td>\n",
       "    </tr>\n",
       "    <tr>\n",
       "      <th>2003</th>\n",
       "      <td>NaN</td>\n",
       "      <td>NaN</td>\n",
       "      <td>1.433089</td>\n",
       "      <td>2.276538</td>\n",
       "    </tr>\n",
       "  </tbody>\n",
       "</table>\n",
       "</div>"
      ],
      "text/plain": [
       "country  Canada_x   Germany  Canada_y  United Kingdom\n",
       "year                                                 \n",
       "2000     1.342805  3.123908       NaN             NaN\n",
       "2001     1.366590  3.176873  1.366590        2.149246\n",
       "2002     1.407725  3.176873  1.407725        2.202971\n",
       "2003          NaN       NaN  1.433089        2.276538"
      ]
     },
     "execution_count": 413,
     "metadata": {},
     "output_type": "execute_result"
    }
   ],
   "source": [
    "# Outer Join\n",
    "pd.merge(df_german, df_uk, on=\"year\", how=\"outer\")"
   ]
  },
  {
   "cell_type": "markdown",
   "id": "e0c09e7b",
   "metadata": {},
   "source": [
    "As you can see, how you merge makes a big difference on what is included and what is not. \n",
    "- Left  -- keeps all observations in the LHS dataset and only includes observations in the RHS dataset that can be matched with an observation on the LHS. \n",
    "- Right  -- keeps all observations in the RHS dataset and only includes observations in the LHS dataset that can be matched with an observation on the RHS.\n",
    "- Inner  -- only keeps observations that can be matched in both datasets\n",
    "- Outer  -- keeps all observations from both datasets. Note how this gave us a similar result to horizontal concatenation. \n",
    "\n",
    "We merged on an index, but as stated, you can merge on non-index variables and multiple variables. For instance, you can match on both country and year to match country-year data from different datasets with eachother."
   ]
  },
  {
   "cell_type": "markdown",
   "id": "40df596f",
   "metadata": {},
   "source": [
    "### Group By\n",
    "This won't be on the exam, but it is arguably one of the most important concepts covered in the Pandas section. Consider the basketball data you saw in the Reshape chapter. We can use `pd.groupby` to get aggregate statistics. I will just show this for aggregate sums and means, but it works for counts, minimums, medians, etc."
   ]
  },
  {
   "cell_type": "code",
   "execution_count": 414,
   "id": "4786c621",
   "metadata": {
    "scrolled": true
   },
   "outputs": [
    {
     "data": {
      "text/html": [
       "<div>\n",
       "<style scoped>\n",
       "    .dataframe tbody tr th:only-of-type {\n",
       "        vertical-align: middle;\n",
       "    }\n",
       "\n",
       "    .dataframe tbody tr th {\n",
       "        vertical-align: top;\n",
       "    }\n",
       "\n",
       "    .dataframe thead th {\n",
       "        text-align: right;\n",
       "    }\n",
       "</style>\n",
       "<table border=\"1\" class=\"dataframe\">\n",
       "  <thead>\n",
       "    <tr style=\"text-align: right;\">\n",
       "      <th></th>\n",
       "      <th>Year</th>\n",
       "      <th>Player</th>\n",
       "      <th>Team</th>\n",
       "      <th>TeamName</th>\n",
       "      <th>Games</th>\n",
       "      <th>Pts</th>\n",
       "      <th>Assist</th>\n",
       "      <th>Rebound</th>\n",
       "    </tr>\n",
       "  </thead>\n",
       "  <tbody>\n",
       "    <tr>\n",
       "      <th>0</th>\n",
       "      <td>2015</td>\n",
       "      <td>Curry</td>\n",
       "      <td>GSW</td>\n",
       "      <td>Warriors</td>\n",
       "      <td>79</td>\n",
       "      <td>30.1</td>\n",
       "      <td>6.7</td>\n",
       "      <td>5.4</td>\n",
       "    </tr>\n",
       "    <tr>\n",
       "      <th>1</th>\n",
       "      <td>2016</td>\n",
       "      <td>Curry</td>\n",
       "      <td>GSW</td>\n",
       "      <td>Warriors</td>\n",
       "      <td>79</td>\n",
       "      <td>25.3</td>\n",
       "      <td>6.6</td>\n",
       "      <td>4.5</td>\n",
       "    </tr>\n",
       "    <tr>\n",
       "      <th>2</th>\n",
       "      <td>2017</td>\n",
       "      <td>Curry</td>\n",
       "      <td>GSW</td>\n",
       "      <td>Warriors</td>\n",
       "      <td>51</td>\n",
       "      <td>26.4</td>\n",
       "      <td>6.1</td>\n",
       "      <td>5.1</td>\n",
       "    </tr>\n",
       "    <tr>\n",
       "      <th>3</th>\n",
       "      <td>2015</td>\n",
       "      <td>Durant</td>\n",
       "      <td>OKC</td>\n",
       "      <td>Thunder</td>\n",
       "      <td>72</td>\n",
       "      <td>28.2</td>\n",
       "      <td>5.0</td>\n",
       "      <td>8.2</td>\n",
       "    </tr>\n",
       "    <tr>\n",
       "      <th>4</th>\n",
       "      <td>2016</td>\n",
       "      <td>Durant</td>\n",
       "      <td>GSW</td>\n",
       "      <td>Warriors</td>\n",
       "      <td>62</td>\n",
       "      <td>25.1</td>\n",
       "      <td>4.8</td>\n",
       "      <td>8.3</td>\n",
       "    </tr>\n",
       "    <tr>\n",
       "      <th>5</th>\n",
       "      <td>2017</td>\n",
       "      <td>Durant</td>\n",
       "      <td>GSW</td>\n",
       "      <td>Warriors</td>\n",
       "      <td>68</td>\n",
       "      <td>26.4</td>\n",
       "      <td>5.4</td>\n",
       "      <td>6.8</td>\n",
       "    </tr>\n",
       "    <tr>\n",
       "      <th>6</th>\n",
       "      <td>2015</td>\n",
       "      <td>Ibaka</td>\n",
       "      <td>OKC</td>\n",
       "      <td>Thunder</td>\n",
       "      <td>78</td>\n",
       "      <td>12.6</td>\n",
       "      <td>0.8</td>\n",
       "      <td>6.8</td>\n",
       "    </tr>\n",
       "    <tr>\n",
       "      <th>7</th>\n",
       "      <td>2016</td>\n",
       "      <td>Ibaka</td>\n",
       "      <td>ORL</td>\n",
       "      <td>Magic</td>\n",
       "      <td>56</td>\n",
       "      <td>15.1</td>\n",
       "      <td>1.1</td>\n",
       "      <td>6.8</td>\n",
       "    </tr>\n",
       "    <tr>\n",
       "      <th>8</th>\n",
       "      <td>2016</td>\n",
       "      <td>Ibaka</td>\n",
       "      <td>TOR</td>\n",
       "      <td>Raptors</td>\n",
       "      <td>23</td>\n",
       "      <td>14.2</td>\n",
       "      <td>0.7</td>\n",
       "      <td>6.8</td>\n",
       "    </tr>\n",
       "  </tbody>\n",
       "</table>\n",
       "</div>"
      ],
      "text/plain": [
       "   Year  Player Team  TeamName  Games   Pts  Assist  Rebound\n",
       "0  2015   Curry  GSW  Warriors     79  30.1     6.7      5.4\n",
       "1  2016   Curry  GSW  Warriors     79  25.3     6.6      4.5\n",
       "2  2017   Curry  GSW  Warriors     51  26.4     6.1      5.1\n",
       "3  2015  Durant  OKC   Thunder     72  28.2     5.0      8.2\n",
       "4  2016  Durant  GSW  Warriors     62  25.1     4.8      8.3\n",
       "5  2017  Durant  GSW  Warriors     68  26.4     5.4      6.8\n",
       "6  2015   Ibaka  OKC   Thunder     78  12.6     0.8      6.8\n",
       "7  2016   Ibaka  ORL     Magic     56  15.1     1.1      6.8\n",
       "8  2016   Ibaka  TOR   Raptors     23  14.2     0.7      6.8"
      ]
     },
     "execution_count": 414,
     "metadata": {},
     "output_type": "execute_result"
    }
   ],
   "source": [
    "url = \"https://datascience.quantecon.org/assets/data/bball.csv\"\n",
    "bball = pd.read_csv(url)\n",
    "\n",
    "bball"
   ]
  },
  {
   "cell_type": "markdown",
   "id": "f73c7f62",
   "metadata": {},
   "source": [
    "Here is a a basic example where we consider the total number of games each player played and their average points, assists, and rebounds across years (not weighted by number of games)"
   ]
  },
  {
   "cell_type": "code",
   "execution_count": 415,
   "id": "890f1d40",
   "metadata": {
    "scrolled": true
   },
   "outputs": [
    {
     "data": {
      "text/html": [
       "<div>\n",
       "<style scoped>\n",
       "    .dataframe tbody tr th:only-of-type {\n",
       "        vertical-align: middle;\n",
       "    }\n",
       "\n",
       "    .dataframe tbody tr th {\n",
       "        vertical-align: top;\n",
       "    }\n",
       "\n",
       "    .dataframe thead th {\n",
       "        text-align: right;\n",
       "    }\n",
       "</style>\n",
       "<table border=\"1\" class=\"dataframe\">\n",
       "  <thead>\n",
       "    <tr style=\"text-align: right;\">\n",
       "      <th></th>\n",
       "      <th>total_games</th>\n",
       "      <th>avg_pts</th>\n",
       "      <th>avg_assist</th>\n",
       "      <th>avg_rebound</th>\n",
       "    </tr>\n",
       "    <tr>\n",
       "      <th>Player</th>\n",
       "      <th></th>\n",
       "      <th></th>\n",
       "      <th></th>\n",
       "      <th></th>\n",
       "    </tr>\n",
       "  </thead>\n",
       "  <tbody>\n",
       "    <tr>\n",
       "      <th>Curry</th>\n",
       "      <td>209</td>\n",
       "      <td>27.266667</td>\n",
       "      <td>6.466667</td>\n",
       "      <td>5.000000</td>\n",
       "    </tr>\n",
       "    <tr>\n",
       "      <th>Durant</th>\n",
       "      <td>202</td>\n",
       "      <td>26.566667</td>\n",
       "      <td>5.066667</td>\n",
       "      <td>7.766667</td>\n",
       "    </tr>\n",
       "    <tr>\n",
       "      <th>Ibaka</th>\n",
       "      <td>157</td>\n",
       "      <td>13.966667</td>\n",
       "      <td>0.866667</td>\n",
       "      <td>6.800000</td>\n",
       "    </tr>\n",
       "  </tbody>\n",
       "</table>\n",
       "</div>"
      ],
      "text/plain": [
       "        total_games    avg_pts  avg_assist  avg_rebound\n",
       "Player                                                 \n",
       "Curry           209  27.266667    6.466667     5.000000\n",
       "Durant          202  26.566667    5.066667     7.766667\n",
       "Ibaka           157  13.966667    0.866667     6.800000"
      ]
     },
     "execution_count": 415,
     "metadata": {},
     "output_type": "execute_result"
    }
   ],
   "source": [
    "player_stats = bball.groupby(\"Player\").agg(\n",
    "    total_games=('Games', np.sum),\n",
    "    avg_pts=('Pts', np.mean),\n",
    "    avg_assist=('Assist', np.mean),\n",
    "    avg_rebound=('Rebound', np.mean)\n",
    ")\n",
    "\n",
    "player_stats"
   ]
  },
  {
   "cell_type": "markdown",
   "id": "701ff931",
   "metadata": {},
   "source": [
    "Here we do the same thing, but we also group by team, so we can get averages for players when they played on a certain team."
   ]
  },
  {
   "cell_type": "code",
   "execution_count": 416,
   "id": "ad6f9812",
   "metadata": {
    "scrolled": false
   },
   "outputs": [
    {
     "data": {
      "text/html": [
       "<div>\n",
       "<style scoped>\n",
       "    .dataframe tbody tr th:only-of-type {\n",
       "        vertical-align: middle;\n",
       "    }\n",
       "\n",
       "    .dataframe tbody tr th {\n",
       "        vertical-align: top;\n",
       "    }\n",
       "\n",
       "    .dataframe thead th {\n",
       "        text-align: right;\n",
       "    }\n",
       "</style>\n",
       "<table border=\"1\" class=\"dataframe\">\n",
       "  <thead>\n",
       "    <tr style=\"text-align: right;\">\n",
       "      <th></th>\n",
       "      <th></th>\n",
       "      <th>total_games</th>\n",
       "      <th>avg_pts</th>\n",
       "      <th>avg_assist</th>\n",
       "      <th>avg_rebound</th>\n",
       "    </tr>\n",
       "    <tr>\n",
       "      <th>Player</th>\n",
       "      <th>Team</th>\n",
       "      <th></th>\n",
       "      <th></th>\n",
       "      <th></th>\n",
       "      <th></th>\n",
       "    </tr>\n",
       "  </thead>\n",
       "  <tbody>\n",
       "    <tr>\n",
       "      <th>Curry</th>\n",
       "      <th>GSW</th>\n",
       "      <td>209</td>\n",
       "      <td>27.266667</td>\n",
       "      <td>6.466667</td>\n",
       "      <td>5.00</td>\n",
       "    </tr>\n",
       "    <tr>\n",
       "      <th rowspan=\"2\" valign=\"top\">Durant</th>\n",
       "      <th>GSW</th>\n",
       "      <td>130</td>\n",
       "      <td>25.750000</td>\n",
       "      <td>5.100000</td>\n",
       "      <td>7.55</td>\n",
       "    </tr>\n",
       "    <tr>\n",
       "      <th>OKC</th>\n",
       "      <td>72</td>\n",
       "      <td>28.200000</td>\n",
       "      <td>5.000000</td>\n",
       "      <td>8.20</td>\n",
       "    </tr>\n",
       "    <tr>\n",
       "      <th rowspan=\"3\" valign=\"top\">Ibaka</th>\n",
       "      <th>OKC</th>\n",
       "      <td>78</td>\n",
       "      <td>12.600000</td>\n",
       "      <td>0.800000</td>\n",
       "      <td>6.80</td>\n",
       "    </tr>\n",
       "    <tr>\n",
       "      <th>ORL</th>\n",
       "      <td>56</td>\n",
       "      <td>15.100000</td>\n",
       "      <td>1.100000</td>\n",
       "      <td>6.80</td>\n",
       "    </tr>\n",
       "    <tr>\n",
       "      <th>TOR</th>\n",
       "      <td>23</td>\n",
       "      <td>14.200000</td>\n",
       "      <td>0.700000</td>\n",
       "      <td>6.80</td>\n",
       "    </tr>\n",
       "  </tbody>\n",
       "</table>\n",
       "</div>"
      ],
      "text/plain": [
       "             total_games    avg_pts  avg_assist  avg_rebound\n",
       "Player Team                                                 \n",
       "Curry  GSW           209  27.266667    6.466667         5.00\n",
       "Durant GSW           130  25.750000    5.100000         7.55\n",
       "       OKC            72  28.200000    5.000000         8.20\n",
       "Ibaka  OKC            78  12.600000    0.800000         6.80\n",
       "       ORL            56  15.100000    1.100000         6.80\n",
       "       TOR            23  14.200000    0.700000         6.80"
      ]
     },
     "execution_count": 416,
     "metadata": {},
     "output_type": "execute_result"
    }
   ],
   "source": [
    "player_team_stats = bball.groupby([\"Player\", \"Team\"]).agg(\n",
    "    total_games=('Games', np.sum),\n",
    "    avg_pts=('Pts', np.mean),\n",
    "    avg_assist=('Assist', np.mean),\n",
    "    avg_rebound=('Rebound', np.mean)\n",
    ")\n",
    "\n",
    "player_team_stats"
   ]
  },
  {
   "cell_type": "markdown",
   "id": "62a8cb8e",
   "metadata": {},
   "source": [
    "### Date Formatting\n",
    "We will show a basic application of date formatting.  Look at guide online to see how to reference more obscure aspects of a timestamp."
   ]
  },
  {
   "cell_type": "code",
   "execution_count": 417,
   "id": "2e22c299",
   "metadata": {},
   "outputs": [
    {
     "name": "stdout",
     "output_type": "stream",
     "text": [
      "<class 'pandas._libs.tslibs.timestamps.Timestamp'>\n",
      "01:20:02\n",
      "Monday\n"
     ]
    }
   ],
   "source": [
    "date_string = '2017-12-25 01:20:02'\n",
    "date_obj = pd.to_datetime(date_string) # from string to timestamp object\n",
    "print(type(date_obj))\n",
    "\n",
    "hms = date_obj.strftime(\"%H:%M:%S\") # gives us hour:minute:second as string\n",
    "print(hms)\n",
    "DotW = date_obj.strftime(\"%A\") # gives day of the week as string even (keep in mind, we never specified it)\n",
    "print(DotW)"
   ]
  },
  {
   "cell_type": "markdown",
   "id": "2599ce4a",
   "metadata": {},
   "source": [
    "### Visualization\n",
    "When it comes to visualization pacakges, there are so many different ways to customize and tweak your graphs, it is hard to know everything that is possible unless you use these packages often and for varied purposes. \n",
    "\n",
    "For general coding purposes, but in particular for visualization packages, it is important to get comfortable Googling questions and looking at documentation. If you have a question, someone else has probably had that question too, so forums like StackOverflow can also be very useful.\n",
    "\n",
    "Here are some important visualization tips we discussed in class:\n",
    "- Visualization is a powerful form of communication\n",
    "    - People are better at remembering images than words\n",
    "    - The logic of how the figure was built can provide another channel through which people can understand what your argument and how the data supports it\n",
    "- Steps to get the most out of your visualization\n",
    "    - Identify what you're trying to communicate with your figure\n",
    "    - Describe (on paper or to someone) what your visualization should be\n",
    "    - Create a draft of the visualization that contains the key features\n",
    "    - Fine-tune to make it more clear or more aesthetically pleasing\n",
    "- Color\n",
    "    - Use color to draw attention to important aspects of the visualization\n",
    "    - Exploit hue, saturation, and value to do this\n",
    "    - Packages contain reasonably well-done color palettes\n",
    "    - Be careful when going to gray scale from color as warm colors often appear lighter than cool colors when converted.\n",
    "    - Account for color blindness as many people, specifically men, are color blind. Don't rely on using green and red to differentiate aspects of a plot.\n",
    "    - Avoid background color (see the sine wave plots from earlier as an example of what not to do)\n",
    "- General Tips\n",
    "    - Don't put too much information in a single plot\n",
    "        - Consider multiple plots or subplot in the same figure if they contribute to the same message\n",
    "    - Get a second opinion!"
   ]
  },
  {
   "cell_type": "markdown",
   "id": "80efb036",
   "metadata": {},
   "source": [
    "### Regression -- Summary\n",
    "In this chapter, we learned:\n",
    "- Linear Regression via OLS\n",
    "- LASSO Regression and how it relates to OLS\n",
    "- Regularization as a solution to overfitting\n",
    "- Cross-validation\n",
    "\n"
   ]
  },
  {
   "cell_type": "markdown",
   "id": "d320cbc1",
   "metadata": {},
   "source": [
    "In regression, we want to provide an acurate mapping from the space of one or more input variables (features, regressors) to a **continuous** output variable (label) space. In this class, we covered standard Linear Regression and LASSO.  We will look at the house prices dataset used to explain this topic in the notes. We will be interested in the following equation:\n",
    "\n",
    "$$\n",
    "\\log(\\text{price}) = \\beta_0 + \\beta_1 \\text{sqft_living} + \\epsilon \n",
    "$$\n",
    "\n",
    "Large chunks of the following code were taken directly from QuantEcon $\\dagger$"
   ]
  },
  {
   "cell_type": "code",
   "execution_count": 418,
   "id": "4346af83",
   "metadata": {
    "scrolled": true
   },
   "outputs": [
    {
     "name": "stdout",
     "output_type": "stream",
     "text": [
      "<class 'pandas.core.frame.DataFrame'>\n",
      "RangeIndex: 21613 entries, 0 to 21612\n",
      "Data columns (total 21 columns):\n",
      " #   Column         Non-Null Count  Dtype  \n",
      "---  ------         --------------  -----  \n",
      " 0   id             21613 non-null  int64  \n",
      " 1   date           21613 non-null  object \n",
      " 2   price          21613 non-null  float64\n",
      " 3   bedrooms       21613 non-null  int64  \n",
      " 4   bathrooms      21613 non-null  float64\n",
      " 5   sqft_living    21613 non-null  int64  \n",
      " 6   sqft_lot       21613 non-null  int64  \n",
      " 7   floors         21613 non-null  float64\n",
      " 8   waterfront     21613 non-null  int64  \n",
      " 9   view           21613 non-null  int64  \n",
      " 10  condition      21613 non-null  int64  \n",
      " 11  grade          21613 non-null  int64  \n",
      " 12  sqft_above     21613 non-null  int64  \n",
      " 13  sqft_basement  21613 non-null  int64  \n",
      " 14  yr_built       21613 non-null  int64  \n",
      " 15  yr_renovated   21613 non-null  int64  \n",
      " 16  zipcode        21613 non-null  int64  \n",
      " 17  lat            21613 non-null  float64\n",
      " 18  long           21613 non-null  float64\n",
      " 19  sqft_living15  21613 non-null  int64  \n",
      " 20  sqft_lot15     21613 non-null  int64  \n",
      "dtypes: float64(5), int64(15), object(1)\n",
      "memory usage: 3.5+ MB\n"
     ]
    }
   ],
   "source": [
    "# Load Data\n",
    "url = \"https://datascience.quantecon.org/assets/data/kc_house_data.csv\"\n",
    "df = pd.read_csv(url)\n",
    "df.info()\n",
    "\n",
    "# Make log price variable\n",
    "df[\"log_price\"] = np.log(df.loc[:, \"price\"])"
   ]
  },
  {
   "cell_type": "code",
   "execution_count": 419,
   "id": "b99ca53b",
   "metadata": {},
   "outputs": [],
   "source": [
    "\n",
    "# Define X & Y\n",
    "X = df.drop([\"price\", \"date\", \"id\", \"log_price\"], axis=1).copy()\n",
    "# convert everything to be a float for later on\n",
    "for col in list(X):\n",
    "    X[col] = X[col].astype(float)\n",
    "y = df.loc[:,\"log_price\"]\n",
    "\n",
    "# Initialize Univariate Linear Regression Model\n",
    "lr_model = linear_model.LinearRegression()\n",
    "\n",
    "# Fit Model\n",
    "lr_model.fit(X[[\"sqft_living\"]], y);"
   ]
  },
  {
   "cell_type": "code",
   "execution_count": 420,
   "id": "a4c27202",
   "metadata": {},
   "outputs": [
    {
     "name": "stderr",
     "output_type": "stream",
     "text": [
      "C:\\Users\\jayca\\anaconda3\\envs\\quntecon2\\lib\\site-packages\\sklearn\\base.py:450: UserWarning: X does not have valid feature names, but LinearRegression was fitted with feature names\n",
      "  warnings.warn(\n"
     ]
    }
   ],
   "source": [
    "# You can extract coefficients from the model\n",
    "β0 = lr_model.intercept_\n",
    "β1 = lr_model.coef_[0]\n",
    "# and predict log price when sqft_living = 2000\n",
    "y_2000_1 = β0 + β1 * 2000\n",
    "# or we can use the predict method\n",
    "y_2000_2 = lr_model.predict([[2000]]);\n"
   ]
  },
  {
   "cell_type": "code",
   "execution_count": 421,
   "id": "0f968f70",
   "metadata": {
    "scrolled": true
   },
   "outputs": [
    {
     "data": {
      "text/plain": [
       "array([ True])"
      ]
     },
     "execution_count": 421,
     "metadata": {},
     "output_type": "execute_result"
    }
   ],
   "source": [
    "y_2000_1 == y_2000_2 # We can see these give the same result"
   ]
  },
  {
   "cell_type": "code",
   "execution_count": 422,
   "id": "33375d23",
   "metadata": {},
   "outputs": [
    {
     "data": {
      "text/plain": [
       "array([12.68898501, 13.2432427 , 12.52549893, ..., 12.62518557,\n",
       "       12.85645856, 12.62518557])"
      ]
     },
     "execution_count": 422,
     "metadata": {},
     "output_type": "execute_result"
    }
   ],
   "source": [
    "# We can also get predicted values for the in-sample data\n",
    "lr_model.predict(X[[\"sqft_living\"]])"
   ]
  },
  {
   "cell_type": "code",
   "execution_count": 423,
   "id": "4042be2d",
   "metadata": {
    "scrolled": false
   },
   "outputs": [
    {
     "name": "stderr",
     "output_type": "stream",
     "text": [
      "C:\\Users\\jayca\\anaconda3\\envs\\quntecon2\\lib\\site-packages\\sklearn\\base.py:450: UserWarning: X does not have valid feature names, but LinearRegression was fitted with feature names\n",
      "  warnings.warn(\n"
     ]
    },
    {
     "data": {
      "text/plain": [
       "Text(0.5, 1.0, 'log_price = 12.218 + 0.0004sqft_living_area')"
      ]
     },
     "execution_count": 423,
     "metadata": {},
     "output_type": "execute_result"
    },
    {
     "data": {
      "image/png": "[encoded data removed]",
      "text/plain": [
       "<Figure size 640x480 with 1 Axes>"
      ]
     },
     "metadata": {},
     "output_type": "display_data"
    }
   ],
   "source": [
    "fig, axs = plt.subplots()\n",
    "axs.scatter(X[[\"sqft_living\"]], y, color = 'blue',  alpha=0.35, s=1.5, label = 'data')\n",
    "\n",
    "# points for the line\n",
    "x_domain = np.linspace(0, df[\"sqft_living\"].max())\n",
    "y_fv = lr_model.predict(x_domain.reshape(-1,1))\n",
    "axs.plot(x_domain, y_fv, color = 'r', label = \"fitted line\")\n",
    "axs.legend()\n",
    "plt.ylabel(\"log of price\")\n",
    "plt.xlabel(\"sqft of living area\")\n",
    "axs.set_title(\"log_price = {beta0:.3f} + {beta1:.4f}sqft_living_area\".format(beta0 = β0, beta1 = β1))"
   ]
  },
  {
   "cell_type": "markdown",
   "id": "f07e599f",
   "metadata": {},
   "source": [
    "### Multivariate Regression\n",
    "In the above example, we only had one regressor which was the size of all living areas in square-feet. We can include additional regressors to try and better explain the log of price. We will now consider a multivariate regression where log of price is also a function of the number of bedrooms. That is,\n",
    "\n",
    "$$\n",
    "\\log(\\text{price}) = \\beta_0 + \\beta_1 \\text{sqft_living} + \\beta_2 \\text{#bedrooms} + \\epsilon\n",
    "$$"
   ]
  },
  {
   "cell_type": "code",
   "execution_count": 424,
   "id": "b43b85c6",
   "metadata": {},
   "outputs": [
    {
     "data": {
      "text/html": [
       "<style>#sk-container-id-4 {color: black;background-color: white;}#sk-container-id-4 pre{padding: 0;}#sk-container-id-4 div.sk-toggleable {background-color: white;}#sk-container-id-4 label.sk-toggleable__label {cursor: pointer;display: block;width: 100%;margin-bottom: 0;padding: 0.3em;box-sizing: border-box;text-align: center;}#sk-container-id-4 label.sk-toggleable__label-arrow:before {content: \"▸\";float: left;margin-right: 0.25em;color: #696969;}#sk-container-id-4 label.sk-toggleable__label-arrow:hover:before {color: black;}#sk-container-id-4 div.sk-estimator:hover label.sk-toggleable__label-arrow:before {color: black;}#sk-container-id-4 div.sk-toggleable__content {max-height: 0;max-width: 0;overflow: hidden;text-align: left;background-color: #f0f8ff;}#sk-container-id-4 div.sk-toggleable__content pre {margin: 0.2em;color: black;border-radius: 0.25em;background-color: #f0f8ff;}#sk-container-id-4 input.sk-toggleable__control:checked~div.sk-toggleable__content {max-height: 200px;max-width: 100%;overflow: auto;}#sk-container-id-4 input.sk-toggleable__control:checked~label.sk-toggleable__label-arrow:before {content: \"▾\";}#sk-container-id-4 div.sk-estimator input.sk-toggleable__control:checked~label.sk-toggleable__label {background-color: #d4ebff;}#sk-container-id-4 div.sk-label input.sk-toggleable__control:checked~label.sk-toggleable__label {background-color: #d4ebff;}#sk-container-id-4 input.sk-hidden--visually {border: 0;clip: rect(1px 1px 1px 1px);clip: rect(1px, 1px, 1px, 1px);height: 1px;margin: -1px;overflow: hidden;padding: 0;position: absolute;width: 1px;}#sk-container-id-4 div.sk-estimator {font-family: monospace;background-color: #f0f8ff;border: 1px dotted black;border-radius: 0.25em;box-sizing: border-box;margin-bottom: 0.5em;}#sk-container-id-4 div.sk-estimator:hover {background-color: #d4ebff;}#sk-container-id-4 div.sk-parallel-item::after {content: \"\";width: 100%;border-bottom: 1px solid gray;flex-grow: 1;}#sk-container-id-4 div.sk-label:hover label.sk-toggleable__label {background-color: #d4ebff;}#sk-container-id-4 div.sk-serial::before {content: \"\";position: absolute;border-left: 1px solid gray;box-sizing: border-box;top: 0;bottom: 0;left: 50%;z-index: 0;}#sk-container-id-4 div.sk-serial {display: flex;flex-direction: column;align-items: center;background-color: white;padding-right: 0.2em;padding-left: 0.2em;position: relative;}#sk-container-id-4 div.sk-item {position: relative;z-index: 1;}#sk-container-id-4 div.sk-parallel {display: flex;align-items: stretch;justify-content: center;background-color: white;position: relative;}#sk-container-id-4 div.sk-item::before, #sk-container-id-4 div.sk-parallel-item::before {content: \"\";position: absolute;border-left: 1px solid gray;box-sizing: border-box;top: 0;bottom: 0;left: 50%;z-index: -1;}#sk-container-id-4 div.sk-parallel-item {display: flex;flex-direction: column;z-index: 1;position: relative;background-color: white;}#sk-container-id-4 div.sk-parallel-item:first-child::after {align-self: flex-end;width: 50%;}#sk-container-id-4 div.sk-parallel-item:last-child::after {align-self: flex-start;width: 50%;}#sk-container-id-4 div.sk-parallel-item:only-child::after {width: 0;}#sk-container-id-4 div.sk-dashed-wrapped {border: 1px dashed gray;margin: 0 0.4em 0.5em 0.4em;box-sizing: border-box;padding-bottom: 0.4em;background-color: white;}#sk-container-id-4 div.sk-label label {font-family: monospace;font-weight: bold;display: inline-block;line-height: 1.2em;}#sk-container-id-4 div.sk-label-container {text-align: center;}#sk-container-id-4 div.sk-container {/* jupyter's `normalize.less` sets `[hidden] { display: none; }` but bootstrap.min.css set `[hidden] { display: none !important; }` so we also need the `!important` here to be able to override the default hidden behavior on the sphinx rendered scikit-learn.org. See: https://github.com/scikit-learn/scikit-learn/issues/21755 */display: inline-block !important;position: relative;}#sk-container-id-4 div.sk-text-repr-fallback {display: none;}</style><div id=\"sk-container-id-4\" class=\"sk-top-container\"><div class=\"sk-text-repr-fallback\"><pre>LinearRegression()</pre><b>In a Jupyter environment, please rerun this cell to show the HTML representation or trust the notebook. <br />On GitHub, the HTML representation is unable to render, please try loading this page with nbviewer.org.</b></div><div class=\"sk-container\" hidden><div class=\"sk-item\"><div class=\"sk-estimator sk-toggleable\"><input class=\"sk-toggleable__control sk-hidden--visually\" id=\"sk-estimator-id-4\" type=\"checkbox\" checked><label for=\"sk-estimator-id-4\" class=\"sk-toggleable__label sk-toggleable__label-arrow\">LinearRegression</label><div class=\"sk-toggleable__content\"><pre>LinearRegression()</pre></div></div></div></div></div>"
      ],
      "text/plain": [
       "LinearRegression()"
      ]
     },
     "execution_count": 424,
     "metadata": {},
     "output_type": "execute_result"
    }
   ],
   "source": [
    "# Initialize Univariate Linear Regression Model\n",
    "lr_model_2 = linear_model.LinearRegression()\n",
    "\n",
    "# Fit Model\n",
    "lr_model_2.fit(X[[\"sqft_living\", \"bedrooms\"]], y)"
   ]
  },
  {
   "cell_type": "code",
   "execution_count": 425,
   "id": "05d68b83",
   "metadata": {},
   "outputs": [
    {
     "name": "stderr",
     "output_type": "stream",
     "text": [
      "C:\\Users\\jayca\\anaconda3\\envs\\quntecon2\\lib\\site-packages\\sklearn\\base.py:450: UserWarning: X does not have valid feature names, but LinearRegression was fitted with feature names\n",
      "  warnings.warn(\n"
     ]
    },
    {
     "data": {
      "text/plain": [
       "Text(0.5, 0.92, 'log_price = 12.324 + 0.0004sqft_living_area + -0.0487#bedrooms')"
      ]
     },
     "execution_count": 425,
     "metadata": {},
     "output_type": "execute_result"
    },
    {
     "data": {
      "image/png": "[encoded data removed]",
      "text/plain": [
       "<Figure size 640x480 with 1 Axes>"
      ]
     },
     "metadata": {},
     "output_type": "display_data"
    }
   ],
   "source": [
    "fig = plt.figure()\n",
    "ax = fig.add_subplot(projection='3d')\n",
    "ax.scatter(X[[\"sqft_living\"]], X[[\"bedrooms\"]], y, color = 'blue',  alpha=0.35, s=1.5, label = 'data')\n",
    "ax.set_xlabel(\"sqft of living area\")\n",
    "ax.set_ylabel(\"# bedrooms\")\n",
    "ax.set_zlabel(\"log price\")\n",
    "fig.tight_layout()\n",
    "\n",
    "β0 = lr_model_2.intercept_\n",
    "β1 = lr_model_2.coef_[0]\n",
    "β2 = lr_model_2.coef_[1]\n",
    "\n",
    "x_domain = np.linspace(0, df[\"sqft_living\"].max())\n",
    "y_domain = np.linspace(0, df[\"bedrooms\"].max())\n",
    "xy_domain = np.array([[x,y] for x in x_domain for y in y_domain])\n",
    "\n",
    "y_hat=lr_model_2.predict(xy_domain)\n",
    "ax.plot(xy_domain[:,0], xy_domain[:,1], y_hat, color = 'r', label = \"fitted line\")\n",
    "ax.set_title(\"log_price = {beta0:.3f} + {beta1:.4f}sqft_living_area + {beta2:.4f}#bedrooms\".format(beta0 = β0, beta1 = β1, beta2 = β2))"
   ]
  },
  {
   "cell_type": "markdown",
   "id": "8aa20de6",
   "metadata": {},
   "source": [
    "You won't have to be able to make a 3d plot, but keep in mind that when we have two regressors, our predicted values form a plane, not a line. With more than two regressors, predicted values form a hyperplane and visualization becomes very difficult. Note that it is harder to discern the relationship between variables in this 3d plot than it is to discern the relatinship between two variables in a 2d plot. "
   ]
  },
  {
   "cell_type": "markdown",
   "id": "af847c7c",
   "metadata": {},
   "source": [
    "### From Data to Linear Model Plot\n",
    "1. Clean data and prepare it for analysis (in this case we did nothing)\n",
    "2. Initialize Linear Regression object (or other regression model such as LASSO)\n",
    "3. use `.fit` method using the appropriate data as inputs\n",
    "4. Creat scatter plot using data points\n",
    "5. Grid out domain using `np.linspace`\n",
    "6. Find predicted values for each point on grid using the `.predict` method\n",
    "7. Plot line using grid as X and predicted values on those grid points as y\n",
    "\n",
    "### Interpretability\n",
    "Economists frequently care more about coefficients than predictions, so it is important to be able to extract the coefficients from the linear model object after it has been fitted. Coefficients give us interpretability. More flexible models (such as neural networks, random forests, etc.) might be able to capture the relationship between variables better, but generally, those methods will be less interpretable than linear regression. "
   ]
  },
  {
   "cell_type": "markdown",
   "id": "4bb272a3",
   "metadata": {},
   "source": [
    "### Lasso Regression\n",
    "Lasso Regression generates predictions using $$ y = X\\beta $$ but uses a loss function that includes a penalization term:\n",
    "$$\\min_{\\beta} ||X\\beta - y||_2^2 + \\alpha||\\beta||_1 $$ \n",
    "where $||.||_1$ denotes the L1-norm and $\\alpha$ is a regularization parameter. \n",
    "\n",
    "Informally speaking, Lasso implciitly selects the regressors from $X$ that are the least \"helpful\" by assigning coeffcients of 0 to the regressors that do not explain Y well. Typically, researchers who are interested in causal relationships use Lasso to find relevant variables and then run standard Ordinary Least Squares using those variables as the penalization term would actually bias estimates.\n",
    "\n",
    "Below we can see what regressors lasso chooses when $\\alpha = 1$ and what linear regression sets the coefficients to."
   ]
  },
  {
   "cell_type": "code",
   "execution_count": 426,
   "id": "8320bda8",
   "metadata": {},
   "outputs": [
    {
     "data": {
      "text/html": [
       "<div>\n",
       "<style scoped>\n",
       "    .dataframe tbody tr th:only-of-type {\n",
       "        vertical-align: middle;\n",
       "    }\n",
       "\n",
       "    .dataframe tbody tr th {\n",
       "        vertical-align: top;\n",
       "    }\n",
       "\n",
       "    .dataframe thead th {\n",
       "        text-align: right;\n",
       "    }\n",
       "</style>\n",
       "<table border=\"1\" class=\"dataframe\">\n",
       "  <thead>\n",
       "    <tr style=\"text-align: right;\">\n",
       "      <th></th>\n",
       "      <th>lasso</th>\n",
       "      <th>linreg</th>\n",
       "    </tr>\n",
       "  </thead>\n",
       "  <tbody>\n",
       "    <tr>\n",
       "      <th>bedrooms</th>\n",
       "      <td>-0.000000e+00</td>\n",
       "      <td>-1.220820e-02</td>\n",
       "    </tr>\n",
       "    <tr>\n",
       "      <th>bathrooms</th>\n",
       "      <td>0.000000e+00</td>\n",
       "      <td>6.912370e-02</td>\n",
       "    </tr>\n",
       "    <tr>\n",
       "      <th>sqft_living</th>\n",
       "      <td>3.007615e-04</td>\n",
       "      <td>9.573470e-05</td>\n",
       "    </tr>\n",
       "    <tr>\n",
       "      <th>sqft_lot</th>\n",
       "      <td>2.736772e-07</td>\n",
       "      <td>4.711823e-07</td>\n",
       "    </tr>\n",
       "    <tr>\n",
       "      <th>floors</th>\n",
       "      <td>0.000000e+00</td>\n",
       "      <td>7.515336e-02</td>\n",
       "    </tr>\n",
       "    <tr>\n",
       "      <th>waterfront</th>\n",
       "      <td>0.000000e+00</td>\n",
       "      <td>3.711951e-01</td>\n",
       "    </tr>\n",
       "    <tr>\n",
       "      <th>view</th>\n",
       "      <td>0.000000e+00</td>\n",
       "      <td>6.040466e-02</td>\n",
       "    </tr>\n",
       "    <tr>\n",
       "      <th>condition</th>\n",
       "      <td>0.000000e+00</td>\n",
       "      <td>6.263658e-02</td>\n",
       "    </tr>\n",
       "    <tr>\n",
       "      <th>grade</th>\n",
       "      <td>0.000000e+00</td>\n",
       "      <td>1.589338e-01</td>\n",
       "    </tr>\n",
       "    <tr>\n",
       "      <th>sqft_above</th>\n",
       "      <td>-0.000000e+00</td>\n",
       "      <td>4.022408e-05</td>\n",
       "    </tr>\n",
       "    <tr>\n",
       "      <th>sqft_basement</th>\n",
       "      <td>1.614446e-05</td>\n",
       "      <td>5.551062e-05</td>\n",
       "    </tr>\n",
       "    <tr>\n",
       "      <th>yr_built</th>\n",
       "      <td>-1.159230e-03</td>\n",
       "      <td>-3.410520e-03</td>\n",
       "    </tr>\n",
       "    <tr>\n",
       "      <th>yr_renovated</th>\n",
       "      <td>8.070315e-05</td>\n",
       "      <td>3.659044e-05</td>\n",
       "    </tr>\n",
       "    <tr>\n",
       "      <th>zipcode</th>\n",
       "      <td>7.111990e-04</td>\n",
       "      <td>-6.458836e-04</td>\n",
       "    </tr>\n",
       "    <tr>\n",
       "      <th>lat</th>\n",
       "      <td>0.000000e+00</td>\n",
       "      <td>1.399994e+00</td>\n",
       "    </tr>\n",
       "    <tr>\n",
       "      <th>long</th>\n",
       "      <td>-0.000000e+00</td>\n",
       "      <td>-1.591565e-01</td>\n",
       "    </tr>\n",
       "    <tr>\n",
       "      <th>sqft_living15</th>\n",
       "      <td>2.038719e-04</td>\n",
       "      <td>9.856623e-05</td>\n",
       "    </tr>\n",
       "    <tr>\n",
       "      <th>sqft_lot15</th>\n",
       "      <td>-1.042168e-06</td>\n",
       "      <td>-2.610066e-07</td>\n",
       "    </tr>\n",
       "  </tbody>\n",
       "</table>\n",
       "</div>"
      ],
      "text/plain": [
       "                      lasso        linreg\n",
       "bedrooms      -0.000000e+00 -1.220820e-02\n",
       "bathrooms      0.000000e+00  6.912370e-02\n",
       "sqft_living    3.007615e-04  9.573470e-05\n",
       "sqft_lot       2.736772e-07  4.711823e-07\n",
       "floors         0.000000e+00  7.515336e-02\n",
       "waterfront     0.000000e+00  3.711951e-01\n",
       "view           0.000000e+00  6.040466e-02\n",
       "condition      0.000000e+00  6.263658e-02\n",
       "grade          0.000000e+00  1.589338e-01\n",
       "sqft_above    -0.000000e+00  4.022408e-05\n",
       "sqft_basement  1.614446e-05  5.551062e-05\n",
       "yr_built      -1.159230e-03 -3.410520e-03\n",
       "yr_renovated   8.070315e-05  3.659044e-05\n",
       "zipcode        7.111990e-04 -6.458836e-04\n",
       "lat            0.000000e+00  1.399994e+00\n",
       "long          -0.000000e+00 -1.591565e-01\n",
       "sqft_living15  2.038719e-04  9.856623e-05\n",
       "sqft_lot15    -1.042168e-06 -2.610066e-07"
      ]
     },
     "execution_count": 426,
     "metadata": {},
     "output_type": "execute_result"
    }
   ],
   "source": [
    "lasso_model = linear_model.Lasso()\n",
    "lasso_model.fit(X, y)\n",
    "lr_model_all = linear_model.LinearRegression()\n",
    "lr_model_all.fit(X, y)\n",
    "lasso_coefs = pd.Series(dict(zip(list(X), lasso_model.coef_)))\n",
    "lr_coefs = pd.Series(dict(zip(list(X), lr_model_all.coef_)))\n",
    "coefs = pd.DataFrame(dict(lasso=lasso_coefs, linreg=lr_coefs))\n",
    "coefs"
   ]
  },
  {
   "cell_type": "markdown",
   "id": "883ab303",
   "metadata": {},
   "source": [
    "### Why $\\alpha$?  Why use fewer variables?\n",
    "We use regularization procedures (such as LASSO's penalization the L1 norm of the coefficient vector) to avoid overfitting. Overfitting occurs when our model parameters capture patterns that are specific to the sample the model was fit on, but those patterns don't exist on the population level. More flexible estimators (such as those with more parameters) tend to be more prone to overfitting. See the QuantEcon Lecture Notes for more information.\n",
    "\n",
    "### Why $\\alpha = 1 $?\n",
    "Setting $\\alpha = 1$ is arbitrary. There's some statistical theory for choosing or scaling such parameters under certain settings, but the most common way of choosing these parameters is cross validation, a form of model selection. \n",
    "\n",
    "### Cross Validation Steps\n",
    "1. Randomly split data into training and testing samples\n",
    "2. Create a grid of values that will serve as potential values for $\\alpha$\n",
    "3. Fit a LASSO model for each value of $\\alpha$. Use only the training sample to fit the model.\n",
    "4. Select the LASSO model that has the lowest MSE on the testing sample.\n",
    "\n",
    "To see this process in detail, I suggest looking at the QuantEcon chapter on regression. "
   ]
  },
  {
   "cell_type": "markdown",
   "id": "44cb2c58",
   "metadata": {},
   "source": [
    "## Classification -- Summary\n",
    "In this chapter, we learned:\n",
    "- What problems we can use classification for\n",
    "- How to evaluate classification models"
   ]
  },
  {
   "cell_type": "markdown",
   "id": "6b2adf1c",
   "metadata": {},
   "source": [
    "### Classifcation vs. Regression\n",
    "With regression, we wanted to predict a continuous random variable given a set of regressors or features $X$. \n",
    "\n",
    "Classification entails predicting a discrete random variable given a set of features $X$. \n",
    "\n",
    "For instance, we could take many pictures of fruit and train a classifier to identify what type of fruit is shown in each picture. In this case, $y$ would be a label such as \"Apple\" or \"Orange\" and $X$ would be image data. \n",
    "\n",
    "Alternatively, we could categorize people who want health insurance as low risk, medium risk, or high risk based on individual characteristics such as age, previous health issues, etc. "
   ]
  },
  {
   "cell_type": "markdown",
   "id": "83053c19",
   "metadata": {},
   "source": [
    "### Logistic Regression\n",
    "Logistic regression is related to linear regression, but the goal is binary classification (two possible labels), not regression. Logistic regression attempts to assign a probability to each label given a set of features. Using the recidivism example in the classification chapter, we can write the probability of recidivism as a function of an inmate's decile score and age:\n",
    "$$\n",
    "p(\\text{recid}) = L\\left(\\overbrace{\\beta_0 + \\beta_1\\text{decile_score} + \\beta_2\\text{age}+ \\epsilon}^{\\text{regression-like}}\\right)\n",
    "$$\n",
    "where L(.) is the logistic function:\n",
    "$$\n",
    "L(x) = \\frac{1}{1 + e^{-x}}\n",
    "$$\n",
    "\n",
    "Note the range of the logistic function: $L(.) \\in (0,1)$. "
   ]
  },
  {
   "cell_type": "code",
   "execution_count": 427,
   "id": "9c5214e3",
   "metadata": {},
   "outputs": [
    {
     "data": {
      "text/html": [
       "<div>\n",
       "<style scoped>\n",
       "    .dataframe tbody tr th:only-of-type {\n",
       "        vertical-align: middle;\n",
       "    }\n",
       "\n",
       "    .dataframe tbody tr th {\n",
       "        vertical-align: top;\n",
       "    }\n",
       "\n",
       "    .dataframe thead th {\n",
       "        text-align: right;\n",
       "    }\n",
       "</style>\n",
       "<table border=\"1\" class=\"dataframe\">\n",
       "  <thead>\n",
       "    <tr style=\"text-align: right;\">\n",
       "      <th></th>\n",
       "      <th>id</th>\n",
       "      <th>name</th>\n",
       "      <th>first</th>\n",
       "      <th>last</th>\n",
       "      <th>compas_screening_date</th>\n",
       "      <th>sex</th>\n",
       "      <th>dob</th>\n",
       "      <th>age</th>\n",
       "      <th>age_cat</th>\n",
       "      <th>race</th>\n",
       "      <th>...</th>\n",
       "      <th>v_decile_score</th>\n",
       "      <th>v_score_text</th>\n",
       "      <th>v_screening_date</th>\n",
       "      <th>in_custody</th>\n",
       "      <th>out_custody</th>\n",
       "      <th>priors_count.1</th>\n",
       "      <th>start</th>\n",
       "      <th>end</th>\n",
       "      <th>event</th>\n",
       "      <th>two_year_recid</th>\n",
       "    </tr>\n",
       "  </thead>\n",
       "  <tbody>\n",
       "    <tr>\n",
       "      <th>0</th>\n",
       "      <td>1</td>\n",
       "      <td>miguel hernandez</td>\n",
       "      <td>miguel</td>\n",
       "      <td>hernandez</td>\n",
       "      <td>2013-08-14</td>\n",
       "      <td>Male</td>\n",
       "      <td>1947-04-18</td>\n",
       "      <td>69</td>\n",
       "      <td>Greater than 45</td>\n",
       "      <td>Other</td>\n",
       "      <td>...</td>\n",
       "      <td>1</td>\n",
       "      <td>Low</td>\n",
       "      <td>2013-08-14</td>\n",
       "      <td>2014-07-07</td>\n",
       "      <td>2014-07-14</td>\n",
       "      <td>0</td>\n",
       "      <td>0</td>\n",
       "      <td>327</td>\n",
       "      <td>0</td>\n",
       "      <td>0</td>\n",
       "    </tr>\n",
       "    <tr>\n",
       "      <th>1</th>\n",
       "      <td>3</td>\n",
       "      <td>kevon dixon</td>\n",
       "      <td>kevon</td>\n",
       "      <td>dixon</td>\n",
       "      <td>2013-01-27</td>\n",
       "      <td>Male</td>\n",
       "      <td>1982-01-22</td>\n",
       "      <td>34</td>\n",
       "      <td>25 - 45</td>\n",
       "      <td>African-American</td>\n",
       "      <td>...</td>\n",
       "      <td>1</td>\n",
       "      <td>Low</td>\n",
       "      <td>2013-01-27</td>\n",
       "      <td>2013-01-26</td>\n",
       "      <td>2013-02-05</td>\n",
       "      <td>0</td>\n",
       "      <td>9</td>\n",
       "      <td>159</td>\n",
       "      <td>1</td>\n",
       "      <td>1</td>\n",
       "    </tr>\n",
       "    <tr>\n",
       "      <th>2</th>\n",
       "      <td>4</td>\n",
       "      <td>ed philo</td>\n",
       "      <td>ed</td>\n",
       "      <td>philo</td>\n",
       "      <td>2013-04-14</td>\n",
       "      <td>Male</td>\n",
       "      <td>1991-05-14</td>\n",
       "      <td>24</td>\n",
       "      <td>Less than 25</td>\n",
       "      <td>African-American</td>\n",
       "      <td>...</td>\n",
       "      <td>3</td>\n",
       "      <td>Low</td>\n",
       "      <td>2013-04-14</td>\n",
       "      <td>2013-06-16</td>\n",
       "      <td>2013-06-16</td>\n",
       "      <td>4</td>\n",
       "      <td>0</td>\n",
       "      <td>63</td>\n",
       "      <td>0</td>\n",
       "      <td>1</td>\n",
       "    </tr>\n",
       "    <tr>\n",
       "      <th>3</th>\n",
       "      <td>5</td>\n",
       "      <td>marcu brown</td>\n",
       "      <td>marcu</td>\n",
       "      <td>brown</td>\n",
       "      <td>2013-01-13</td>\n",
       "      <td>Male</td>\n",
       "      <td>1993-01-21</td>\n",
       "      <td>23</td>\n",
       "      <td>Less than 25</td>\n",
       "      <td>African-American</td>\n",
       "      <td>...</td>\n",
       "      <td>6</td>\n",
       "      <td>Medium</td>\n",
       "      <td>2013-01-13</td>\n",
       "      <td>NaN</td>\n",
       "      <td>NaN</td>\n",
       "      <td>1</td>\n",
       "      <td>0</td>\n",
       "      <td>1174</td>\n",
       "      <td>0</td>\n",
       "      <td>0</td>\n",
       "    </tr>\n",
       "    <tr>\n",
       "      <th>4</th>\n",
       "      <td>6</td>\n",
       "      <td>bouthy pierrelouis</td>\n",
       "      <td>bouthy</td>\n",
       "      <td>pierrelouis</td>\n",
       "      <td>2013-03-26</td>\n",
       "      <td>Male</td>\n",
       "      <td>1973-01-22</td>\n",
       "      <td>43</td>\n",
       "      <td>25 - 45</td>\n",
       "      <td>Other</td>\n",
       "      <td>...</td>\n",
       "      <td>1</td>\n",
       "      <td>Low</td>\n",
       "      <td>2013-03-26</td>\n",
       "      <td>NaN</td>\n",
       "      <td>NaN</td>\n",
       "      <td>2</td>\n",
       "      <td>0</td>\n",
       "      <td>1102</td>\n",
       "      <td>0</td>\n",
       "      <td>0</td>\n",
       "    </tr>\n",
       "  </tbody>\n",
       "</table>\n",
       "<p>5 rows × 53 columns</p>\n",
       "</div>"
      ],
      "text/plain": [
       "   id                name   first         last compas_screening_date   sex  \\\n",
       "0   1    miguel hernandez  miguel    hernandez            2013-08-14  Male   \n",
       "1   3         kevon dixon   kevon        dixon            2013-01-27  Male   \n",
       "2   4            ed philo      ed        philo            2013-04-14  Male   \n",
       "3   5         marcu brown   marcu        brown            2013-01-13  Male   \n",
       "4   6  bouthy pierrelouis  bouthy  pierrelouis            2013-03-26  Male   \n",
       "\n",
       "          dob  age          age_cat              race  ...  v_decile_score  \\\n",
       "0  1947-04-18   69  Greater than 45             Other  ...               1   \n",
       "1  1982-01-22   34          25 - 45  African-American  ...               1   \n",
       "2  1991-05-14   24     Less than 25  African-American  ...               3   \n",
       "3  1993-01-21   23     Less than 25  African-American  ...               6   \n",
       "4  1973-01-22   43          25 - 45             Other  ...               1   \n",
       "\n",
       "   v_score_text  v_screening_date  in_custody  out_custody  priors_count.1  \\\n",
       "0           Low        2013-08-14  2014-07-07   2014-07-14               0   \n",
       "1           Low        2013-01-27  2013-01-26   2013-02-05               0   \n",
       "2           Low        2013-04-14  2013-06-16   2013-06-16               4   \n",
       "3        Medium        2013-01-13         NaN          NaN               1   \n",
       "4           Low        2013-03-26         NaN          NaN               2   \n",
       "\n",
       "  start   end event two_year_recid  \n",
       "0     0   327     0              0  \n",
       "1     9   159     1              1  \n",
       "2     0    63     0              1  \n",
       "3     0  1174     0              0  \n",
       "4     0  1102     0              0  \n",
       "\n",
       "[5 rows x 53 columns]"
      ]
     },
     "execution_count": 427,
     "metadata": {},
     "output_type": "execute_result"
    }
   ],
   "source": [
    "# Load Data\n",
    "data_url = \"https://raw.githubusercontent.com/propublica/compas-analysis\"\n",
    "data_url += \"/master/compas-scores-two-years.csv\"\n",
    "\n",
    "df = pd.read_csv(data_url)\n",
    "df.head()"
   ]
  },
  {
   "cell_type": "code",
   "execution_count": 428,
   "id": "50c3deb7",
   "metadata": {},
   "outputs": [
    {
     "name": "stdout",
     "output_type": "stream",
     "text": [
      "Fit model: p(recid) = L(-0.8505 + 0.2470 decile_score + -0.0130 age)\n"
     ]
    }
   ],
   "source": [
    "X = df[[\"decile_score\", \"age\"]]\n",
    "y = df[\"two_year_recid\"]\n",
    "X_train, X_test, y_train, y_test = model_selection.train_test_split(\n",
    "    X, y, test_size=0.25, random_state=42\n",
    ")\n",
    "\n",
    "logistic_age_model = linear_model.LogisticRegression(solver=\"lbfgs\")\n",
    "logistic_age_model.fit(X_train, y_train)\n",
    "\n",
    "beta_0 = logistic_age_model.intercept_[0]\n",
    "beta_1, beta_2 = logistic_age_model.coef_[0]\n",
    "\n",
    "print(f\"Fit model: p(recid) = L({beta_0:.4f} + {beta_1:.4f} decile_score + {beta_2:.4f} age)\")"
   ]
  },
  {
   "cell_type": "markdown",
   "id": "2771f448",
   "metadata": {},
   "source": [
    "In this model, a label of $1$ means an individual went back to prison. As a result, we can see that an increase in decile_score and a decrease in age both increase the chance of recidivism in this model. \n",
    "\n",
    "This is because the logistic function is increasing in its argument. Keep in mind, these coefficients are not naively interpreted because the regression output is being fed through the logistic function."
   ]
  },
  {
   "cell_type": "markdown",
   "id": "c960df92",
   "metadata": {},
   "source": [
    "### Cutoffs\n",
    "The output of logistic regression is any real-valued number between 0 and 1, so we still are not classifying. In order to turn this into a classification model we feed the probability through a cutoff rule:\n",
    "\n",
    "$$\\text{label} = \\left\\{\\begin{array}{cc} 1 & \\text{ if } \\hat{p}(1) \\geq \\gamma \\\\ 0 & \\text{ if } \\hat{p}(1) < \\gamma  \\end{array}\\right.\n",
    "$$\n",
    "\n",
    "It is common to set $\\gamma = .5$\n"
   ]
  },
  {
   "cell_type": "markdown",
   "id": "df67df49",
   "metadata": {},
   "source": [
    "### Model Evaluation\n",
    "The standard approach to model evaluation is accuracy. This accuracy can be evaluated on in-sample (on the training data) or out of sample (on testing data if some was set aside). The accuracy score is simply:\n",
    "$$\n",
    "\\text{Accuracy Score} = \\frac{\\text{Number of Correct Predictions}}{\\text{Number of Predictions}}\n",
    "$$\n"
   ]
  },
  {
   "cell_type": "code",
   "execution_count": 429,
   "id": "dd02822a",
   "metadata": {},
   "outputs": [
    {
     "data": {
      "text/plain": [
       "(0.6534195933456562, 0.667960088691796)"
      ]
     },
     "execution_count": 429,
     "metadata": {},
     "output_type": "execute_result"
    }
   ],
   "source": [
    "train_acc = logistic_age_model.score(X_train, y_train)\n",
    "test_acc = logistic_age_model.score(X_test, y_test)\n",
    "\n",
    "train_acc, test_acc # underfitting, so we could use more powerfil model or include more variables"
   ]
  },
  {
   "cell_type": "markdown",
   "id": "53c06592",
   "metadata": {},
   "source": [
    "### Alternatives to Accuracy\n",
    "\n",
    "\n",
    "In the case where one of the labels is exceedingly rare (this is a severe case of what is called *unbalanced labels*), accuracy score is not a good evaluation metric. For example, if we are trying to classify whether or not someone has a rare, deadly disease based on a list of symptoms, a model could attain a very high accuracy score by always guessing false because most people in the sample do not have that disease. Here are some alternative measures that work well in these situations as described by the chapter:\n",
    "\n",
    "- Precision: The number of true positives over the number of positive predictions. Precision tells us how often the model was correct when it predicted true.$\\dagger$\n",
    "- Recall: The number of true positives over the number of actual positives. Recall answers the question, “What fraction of the positives did we get correct?”\\foot{taken from the chapter}$\\dagger$\n",
    "\n",
    "The chapter gives a concrete example of the tradeoff between these two measures:\n",
    "\n",
    "\"In the rare health condition example, you may prefer a model with high recall (never misses an at-risk patient), even if the precision is a bit low (sometimes you have false positives).\"$\\dagger$\n",
    "\n",
    "For more details on this tradeoff, see the QuantEcon Classification Lecture Notes."
   ]
  },
  {
   "cell_type": "markdown",
   "id": "72a8dabb",
   "metadata": {},
   "source": [
    "## Networks -- Summary\n",
    "In this chapter, we learned:\n",
    "- What a network is\n",
    "- How to represent data as a network\n",
    "- Relationship between networks and Linear Algebra\n",
    "- Applying tools to real data\n",
    "\n",
    "Quotes and code for this section borrow heavily from \"Analyzing Economic Networks\" notes written by Philip Solimine. "
   ]
  },
  {
   "cell_type": "code",
   "execution_count": 430,
   "id": "78b471ef",
   "metadata": {
    "scrolled": true
   },
   "outputs": [
    {
     "data": {
      "image/png": "[encoded data removed]",
      "text/plain": [
       "<Figure size 640x480 with 1 Axes>"
      ]
     },
     "metadata": {},
     "output_type": "display_data"
    }
   ],
   "source": [
    "### An example network\n",
    "network = nx.Graph() #initialize a new graph\n",
    "network.add_nodes_from(range(1,13)) #add a set of nodes numbered 1 through 12\n",
    "edgelist = [\n",
    "            (1,2),\n",
    "            (1,3),\n",
    "            (2,4),\n",
    "            (3,5),\n",
    "            (4,5),\n",
    "            (4,6),\n",
    "            (5,6),\n",
    "            (6,7),\n",
    "            (7,8),\n",
    "            (7,9),\n",
    "            (8,9),\n",
    "            (8,10),\n",
    "            (9,11),\n",
    "            (10,12),\n",
    "            (11,12)]\n",
    "network.add_edges_from(edgelist) #add a set of links or edges to form a network\n",
    "positions = nx.spring_layout(network,seed=10) #fix the position again\n",
    "nx.draw(network,positions,node_color=\"lightblue\",with_labels=True)"
   ]
  },
  {
   "cell_type": "markdown",
   "id": "e632700d",
   "metadata": {},
   "source": [
    "### What is a Graph?\n",
    "Graphs tell us how different objects are related to eachother. For instance the graph above tells us that object 4 is connected with objects 2,5, and 6. What \"connected\" means depends on the setting. \n",
    "\n",
    "### Terminology\n",
    "- Each numbered circle is a **node** or **vertex**. A node might be an individual, a company, or something more abstract. \n",
    "- The lines connecting nodes are called **edges** or **link**. A link between individuals might reflect that they are colleagues at the same company or friends on a social network. A link between companies might reflect that those two companies compete in a market or that they are part of the same production stream.  \n",
    "- A **graph** is a data structure consisting a set of node and a set of edges between those nodes.\n",
    "- A **path** connecting node i to node j is any set of links that starts at node i and ends at node j. \n",
    "- An undirected graph is **connected** if there exists at least one path between any two nodes\n",
    "\n",
    "### Directed vs. Undirected\n",
    "\n",
    "- **Directed** networks are networks where the relationship can go one-way\n",
    "    - On Twitter, you can follow someone even if they do not follow you. \n",
    "    - On a dating app, you can swipe right on someone who swipes left on you. \n",
    "- **Undirected** networks are networks where the relationshp goes both ways\n",
    "    - On Facebook, if you are friends with someone, they are friends with you. \n",
    "    - On a dating app, if you match with someone, they matched with you. \n",
    "\n",
    "In this class, we will focus on undirected networks, but it's good to know about this distinction. \n",
    "\n",
    "### Examples of Networks\n",
    "- Social Networks\n",
    "    - Nodes: Individuals on the Network\n",
    "    - Edges: Two individuals are connected if they are friends on that platform\n",
    "    - Alternative: Two individuals are connected if they have a friend in common on that platform\n",
    " \n",
    "- Transportation Systems\n",
    "    - Nodes: Bus and Train stops\n",
    "    - Edges: Two stops are linked if they are on the same route\n",
    "    - Alternative: Two stops are linked if you can get from one to another using train or a bus\n",
    "- Supply Chains\n",
    "    - Nodes: Companies\n",
    "    - Edges: Two companies are linked if one of them supplies goods to the other\n"
   ]
  },
  {
   "cell_type": "markdown",
   "id": "d5cf0ca0",
   "metadata": {},
   "source": [
    "### Network Measures\n",
    "The **degree of a node** is number of connection that node has. In our toy example above, the degree of node 1 is 2 because it is linked to nodes 2 and 3.\n",
    "\n",
    "Nodes that have relatively high degrees are called **hubs** (much like hub airports are connected to a relatively large number of airports).\n",
    "\n",
    "The **degree of a network** is the total number of connections. Note that this will be the sum of node degreees divided by 2.\n",
    "\n",
    "If there are $n$ nodes in a network, the largest possible degree of the network is $\\frac{n(n-1)}{2}$. This maximum is attained when every node is connected each other node. \n",
    "\n",
    "The **density of a network** is the degree of the network divided by its theoretical maximum. That is, \n",
    "$$\n",
    "\\text{density} = \\frac{2 * \\text{degree of network}}{n(n-1)}\n",
    "$$\n",
    "where $n$ is the number of nodes. \n",
    "\n",
    "A network is **dense** when its density is close to 1 and **sparse** when its density is close to 0. "
   ]
  },
  {
   "cell_type": "markdown",
   "id": "2f630824",
   "metadata": {},
   "source": [
    "### Edges as a Matrix\n",
    "When we wrote our edges to draw the graph above, we specified which nodes were connected by providing a list of tuples. Instead, we can represent edges connecting $n$ nodes as an **adjacency matrix**."
   ]
  },
  {
   "cell_type": "code",
   "execution_count": 431,
   "id": "91222939",
   "metadata": {
    "scrolled": true
   },
   "outputs": [
    {
     "name": "stderr",
     "output_type": "stream",
     "text": [
      "C:\\Users\\jayca\\AppData\\Local\\Temp\\ipykernel_28032\\820639453.py:1: FutureWarning: adjacency_matrix will return a scipy.sparse array instead of a matrix in Networkx 3.0.\n",
      "  edge_mat = nx.adjacency_matrix(network).todense()\n"
     ]
    },
    {
     "data": {
      "text/plain": [
       "matrix([[0, 1, 1, 0, 0, 0, 0, 0, 0, 0, 0, 0],\n",
       "        [1, 0, 0, 1, 0, 0, 0, 0, 0, 0, 0, 0],\n",
       "        [1, 0, 0, 0, 1, 0, 0, 0, 0, 0, 0, 0],\n",
       "        [0, 1, 0, 0, 1, 1, 0, 0, 0, 0, 0, 0],\n",
       "        [0, 0, 1, 1, 0, 1, 0, 0, 0, 0, 0, 0],\n",
       "        [0, 0, 0, 1, 1, 0, 1, 0, 0, 0, 0, 0],\n",
       "        [0, 0, 0, 0, 0, 1, 0, 1, 1, 0, 0, 0],\n",
       "        [0, 0, 0, 0, 0, 0, 1, 0, 1, 1, 0, 0],\n",
       "        [0, 0, 0, 0, 0, 0, 1, 1, 0, 0, 1, 0],\n",
       "        [0, 0, 0, 0, 0, 0, 0, 1, 0, 0, 0, 1],\n",
       "        [0, 0, 0, 0, 0, 0, 0, 0, 1, 0, 0, 1],\n",
       "        [0, 0, 0, 0, 0, 0, 0, 0, 0, 1, 1, 0]], dtype=int32)"
      ]
     },
     "execution_count": 431,
     "metadata": {},
     "output_type": "execute_result"
    }
   ],
   "source": [
    "edge_mat = nx.adjacency_matrix(network).todense()\n",
    "edge_mat"
   ]
  },
  {
   "cell_type": "markdown",
   "id": "a5206d6e",
   "metadata": {},
   "source": [
    "### Finding Number of Paths of a Given Length\n",
    "We can use the adjacency matrix to count how many paths of a given length there are. Using our previous network, we will calculate the number of paths of length 4 that takes us from node 1 to node 6."
   ]
  },
  {
   "cell_type": "code",
   "execution_count": 432,
   "id": "5602d5e9",
   "metadata": {},
   "outputs": [],
   "source": [
    "def num_paths(adj_mat, i, j, length):\n",
    "    adj_mat = np.linalg.matrix_power(adj_mat, length)\n",
    "    return adj_mat[i,j]"
   ]
  },
  {
   "cell_type": "code",
   "execution_count": 433,
   "id": "47295a3b",
   "metadata": {
    "scrolled": true
   },
   "outputs": [
    {
     "data": {
      "text/plain": [
       "2"
      ]
     },
     "execution_count": 433,
     "metadata": {},
     "output_type": "execute_result"
    }
   ],
   "source": [
    "num_paths(edge_mat, 0, 5, 4)"
   ]
  },
  {
   "cell_type": "markdown",
   "id": "0e3d35f0",
   "metadata": {},
   "source": [
    "Looking below at our network, there are two potential paths that gets us from node 1 (index 0) to node 6 (index 5).\n",
    "1. 1-2 2-4 4-5 5-6\n",
    "2. 1-3 3-5 5-4 4-6"
   ]
  },
  {
   "cell_type": "code",
   "execution_count": 434,
   "id": "6abf4671",
   "metadata": {
    "scrolled": false
   },
   "outputs": [
    {
     "data": {
      "image/png": "[encoded data removed]",
      "text/plain": [
       "<Figure size 640x480 with 1 Axes>"
      ]
     },
     "metadata": {},
     "output_type": "display_data"
    }
   ],
   "source": [
    "nx.draw(network,positions,node_color=\"lightblue\",with_labels=True)"
   ]
  },
  {
   "cell_type": "markdown",
   "id": "309e98ed",
   "metadata": {},
   "source": [
    "## Eigenvector Centrality\n",
    "See Phil's notes for a discussion of this. What I want to illustrate is how we can actually get the eigenvector centraility using numpy. Using the networkx package, we can get the centraility measure of each node like this:"
   ]
  },
  {
   "cell_type": "code",
   "execution_count": 435,
   "id": "80cf72a7",
   "metadata": {},
   "outputs": [
    {
     "data": {
      "text/plain": [
       "{1: 0.1334802252395964,\n",
       " 2: 0.17976424193435497,\n",
       " 3: 0.17976424193435497,\n",
       " 4: 0.3507167199666811,\n",
       " 5: 0.3507167199666811,\n",
       " 6: 0.4141838103851299,\n",
       " 7: 0.4141838103851299,\n",
       " 8: 0.3507167199666811,\n",
       " 9: 0.3507167199666811,\n",
       " 10: 0.17976424193435497,\n",
       " 11: 0.17976424193435497,\n",
       " 12: 0.13348022523959638}"
      ]
     },
     "execution_count": 435,
     "metadata": {},
     "output_type": "execute_result"
    }
   ],
   "source": [
    "nx.eigenvector_centrality(network)"
   ]
  },
  {
   "cell_type": "markdown",
   "id": "f17bdb2b",
   "metadata": {},
   "source": [
    "Alternatively, we can get this centraility measure by finding the eigenvector corresponding to the smallest eigenvalue of the adjacency matrix"
   ]
  },
  {
   "cell_type": "code",
   "execution_count": 436,
   "id": "7f8c83db",
   "metadata": {},
   "outputs": [
    {
     "data": {
      "text/plain": [
       "matrix([[0.13347739],\n",
       "        [0.17976236],\n",
       "        [0.17976236],\n",
       "        [0.35071705],\n",
       "        [0.35071705],\n",
       "        [0.4141858 ],\n",
       "        [0.4141858 ],\n",
       "        [0.35071705],\n",
       "        [0.35071705],\n",
       "        [0.17976236],\n",
       "        [0.17976236],\n",
       "        [0.13347739]])"
      ]
     },
     "execution_count": 436,
     "metadata": {},
     "output_type": "execute_result"
    }
   ],
   "source": [
    "index = np.linalg.eig(edge_mat)[0].argmin() # smallest eignevalue index\n",
    "np.linalg.eig(edge_mat)[1][:,4] #corresponding eigenvector"
   ]
  },
  {
   "cell_type": "markdown",
   "id": "fd5bf00d",
   "metadata": {},
   "source": [
    "### Laplacian Matrix\n",
    "Let $D_i$ be the degree of node $i$ in a given graph, $G$. Define an $nxn$ diagonal matrix\n",
    "$$\n",
    "D := \\left[ \n",
    "\\begin{array}{cccc}\n",
    "D_1 & 0 & ... & 0\\\\\n",
    "0  & D_2 & ... & 0 \\\\\n",
    "0  & 0 & ...&D_n\n",
    "\\end{array}\n",
    "\\right]\n",
    "$$\n",
    "Let $A$ be the adjacency matrix of $G$. Then the laplacian matrix of $G$ is defined as\n",
    "$$\n",
    "L := D - A\n",
    "$$\n",
    "In words, the laplacian matrix's diagonal elements are equal to the degree of the corresponding node. It's off-diagonal elements are the negative of the corresponidng elements in the adjancency matrix"
   ]
  },
  {
   "cell_type": "code",
   "execution_count": 437,
   "id": "6b66b3a5",
   "metadata": {
    "scrolled": false
   },
   "outputs": [
    {
     "name": "stderr",
     "output_type": "stream",
     "text": [
      "<class 'networkx.utils.decorators.argmap'> compilation 12:4: FutureWarning: laplacian_matrix will return a scipy.sparse array instead of a matrix in Networkx 3.0.\n"
     ]
    },
    {
     "data": {
      "text/plain": [
       "matrix([[ 2, -1, -1,  0,  0,  0,  0,  0,  0,  0,  0,  0],\n",
       "        [-1,  2,  0, -1,  0,  0,  0,  0,  0,  0,  0,  0],\n",
       "        [-1,  0,  2,  0, -1,  0,  0,  0,  0,  0,  0,  0],\n",
       "        [ 0, -1,  0,  3, -1, -1,  0,  0,  0,  0,  0,  0],\n",
       "        [ 0,  0, -1, -1,  3, -1,  0,  0,  0,  0,  0,  0],\n",
       "        [ 0,  0,  0, -1, -1,  3, -1,  0,  0,  0,  0,  0],\n",
       "        [ 0,  0,  0,  0,  0, -1,  3, -1, -1,  0,  0,  0],\n",
       "        [ 0,  0,  0,  0,  0,  0, -1,  3, -1, -1,  0,  0],\n",
       "        [ 0,  0,  0,  0,  0,  0, -1, -1,  3,  0, -1,  0],\n",
       "        [ 0,  0,  0,  0,  0,  0,  0, -1,  0,  2,  0, -1],\n",
       "        [ 0,  0,  0,  0,  0,  0,  0,  0, -1,  0,  2, -1],\n",
       "        [ 0,  0,  0,  0,  0,  0,  0,  0,  0, -1, -1,  2]], dtype=int32)"
      ]
     },
     "execution_count": 437,
     "metadata": {},
     "output_type": "execute_result"
    }
   ],
   "source": [
    "L_mat = nx.laplacian_matrix(network).todense()\n",
    "L_mat"
   ]
  }
 ],
 "metadata": {
  "kernelspec": {
   "display_name": "Python 3 (ipykernel)",
   "language": "python",
   "name": "python3"
  },
  "language_info": {
   "codemirror_mode": {
    "name": "ipython",
    "version": 3
   },
   "file_extension": ".py",
   "mimetype": "text/x-python",
   "name": "python",
   "nbconvert_exporter": "python",
   "pygments_lexer": "ipython3",
   "version": "3.9.15"
  }
 },
 "nbformat": 4,
 "nbformat_minor": 5
}
