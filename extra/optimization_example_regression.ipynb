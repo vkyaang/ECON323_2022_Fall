{
 "cells": [
  {
   "cell_type": "code",
   "execution_count": 17,
   "id": "19c6e3b2-52c0-402e-aa52-f5774aa45157",
   "metadata": {},
   "outputs": [],
   "source": [
    "import numpy as np\n",
    "def mean_square_error(X,y,beta):\n",
    "    mse = np.linalg.norm((X @ beta) - y) **2\n",
    "    return mse\n",
    "\n",
    "X = np.array([[1, 2], [3, 4], [5, 6]])\n",
    "y = np.array([7,8,9])"
   ]
  },
  {
   "cell_type": "code",
   "execution_count": 18,
   "id": "15fc9183-3587-41a5-80ac-88433f8fb392",
   "metadata": {},
   "outputs": [],
   "source": [
    "def mse_for_this_problem(beta, testX = X, testy = y):\n",
    "    return mean_square_error(testX,testy,beta)\n",
    "\n"
   ]
  },
  {
   "cell_type": "code",
   "execution_count": 19,
   "id": "9173d351-bcc8-462d-9b17-d656389868f4",
   "metadata": {},
   "outputs": [],
   "source": [
    "import scipy.optimize as opt\n",
    "\n",
    "beta_hat1 = opt.minimize(mse_for_this_problem, np.zeros(2))"
   ]
  },
  {
   "cell_type": "code",
   "execution_count": 20,
   "id": "017a3544-1c05-44fc-85ca-794e57d92175",
   "metadata": {},
   "outputs": [
    {
     "name": "stdout",
     "output_type": "stream",
     "text": [
      "      fun: 1.4870937681444637e-14\n",
      " hess_inv: array([[ 1.16557365, -0.91612138],\n",
      "       [-0.91612138,  0.72889463]])\n",
      "      jac: array([-2.23519343e-07, -2.75135989e-07])\n",
      "  message: 'Optimization terminated successfully.'\n",
      "     nfev: 27\n",
      "      nit: 8\n",
      "     njev: 9\n",
      "   status: 0\n",
      "  success: True\n",
      "        x: array([-5.99999985,  6.49999987])\n"
     ]
    }
   ],
   "source": [
    "print(beta_hat1)"
   ]
  },
  {
   "cell_type": "code",
   "execution_count": 21,
   "id": "eb899998-aaa9-42dc-833c-393c296a043f",
   "metadata": {},
   "outputs": [],
   "source": [
    "beta_hat2 = np.linalg.inv(X.T @ X) @ X.T @ y"
   ]
  },
  {
   "cell_type": "code",
   "execution_count": 22,
   "id": "e1bb64f9-a219-4d40-b1f2-40a4a1378ac0",
   "metadata": {},
   "outputs": [
    {
     "data": {
      "text/plain": [
       "array([-6. ,  6.5])"
      ]
     },
     "execution_count": 22,
     "metadata": {},
     "output_type": "execute_result"
    }
   ],
   "source": [
    "beta_hat2"
   ]
  },
  {
   "cell_type": "code",
   "execution_count": null,
   "id": "05a45bf9-c271-4a71-b53e-c45eae4f81f2",
   "metadata": {},
   "outputs": [],
   "source": []
  }
 ],
 "metadata": {
  "kernelspec": {
   "display_name": "Python 3 (ipykernel)",
   "language": "python",
   "name": "python3"
  },
  "language_info": {
   "codemirror_mode": {
    "name": "ipython",
    "version": 3
   },
   "file_extension": ".py",
   "mimetype": "text/x-python",
   "name": "python",
   "nbconvert_exporter": "python",
   "pygments_lexer": "ipython3",
   "version": "3.10.6"
  }
 },
 "nbformat": 4,
 "nbformat_minor": 5
}
